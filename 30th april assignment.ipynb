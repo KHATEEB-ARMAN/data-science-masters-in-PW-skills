{
 "cells": [
  {
   "cell_type": "markdown",
   "id": "373b7d89-ec39-4a96-a99d-7fcb43de1adc",
   "metadata": {},
   "source": [
    "## 1."
   ]
  },
  {
   "cell_type": "code",
   "execution_count": 1,
   "id": "623a55fe-5c0b-4bc2-8074-7e6bbf0290f7",
   "metadata": {},
   "outputs": [],
   "source": [
    "# A clustering result sat- isfies homogeneity if all of its clusters contain only data points which are members of a single class.\n",
    "\n",
    "# A clustering result satisfies completeness if all the data points that are members of a given class are elements of the same cluster."
   ]
  },
  {
   "cell_type": "markdown",
   "id": "69fa22ce-269a-4feb-b439-20e9243976e1",
   "metadata": {},
   "source": [
    "## 2."
   ]
  },
  {
   "cell_type": "code",
   "execution_count": 2,
   "id": "415bf049-f55b-429a-bf35-ec0c1e80cee2",
   "metadata": {},
   "outputs": [],
   "source": [
    "# V measure is a score  measure between 0–1 that actually quantifies the goodness of the clustering partition.\n",
    "\n",
    "# In fact, it requires that both homogeneity 'h' and completeness 'c' are maximised (NMI is 1 when both h and c are 1).\n",
    "# Moreover if the clustering doesn't satisfy any of the two conditions NMI will be zero."
   ]
  },
  {
   "cell_type": "code",
   "execution_count": 3,
   "id": "93e8db6f-bc44-45dd-ad22-97a2cc93fa70",
   "metadata": {},
   "outputs": [],
   "source": [
    "#  v = (1 + beta) * homogeneity * completeness / (beta * homogeneity + completeness)"
   ]
  },
  {
   "cell_type": "markdown",
   "id": "0ba90e61-0766-41f2-bdf4-f7ff159af4fa",
   "metadata": {},
   "source": [
    "## 3."
   ]
  },
  {
   "cell_type": "code",
   "execution_count": 4,
   "id": "3c5ef6a6-e322-4b74-b8db-187ac76d48ed",
   "metadata": {},
   "outputs": [],
   "source": [
    "# Silhouette Score:\n",
    "# This measure has a range of [-1, 1] and is a great tool to visually inspect the similarities within clusters and differences across clusters.\n",
    "# The Silhouette Score is calculated using the mean intra-cluster distance ( i ) and the mean nearest-cluster distance ( n ) for each sample."
   ]
  },
  {
   "cell_type": "markdown",
   "id": "24a3c4f9-a3f3-4534-9b5e-d1b7c09301f3",
   "metadata": {},
   "source": [
    "## 4."
   ]
  },
  {
   "cell_type": "code",
   "execution_count": 5,
   "id": "feabb539-f7fe-4a49-bfbd-1d9e86f02bc2",
   "metadata": {},
   "outputs": [],
   "source": [
    "# Davies-Bouldin score: The score is defined as the average similarity measure of each cluster with its most similar cluster, \n",
    "# where similarity is the ratio of within-cluster distances to between-cluster distances. Thus, clusters which are farther apart \n",
    "# and less dispersed will result in a better score."
   ]
  },
  {
   "cell_type": "code",
   "execution_count": 6,
   "id": "7c9a9e07-7b91-40b3-8170-de290532d1d1",
   "metadata": {},
   "outputs": [],
   "source": [
    "# Illustrates the Davies Bouldin Index for different values of K ranging from K=1 to 9. Note that we can consider K=5\n",
    "# as the optimum number of clusters in this casev"
   ]
  },
  {
   "cell_type": "markdown",
   "id": "e4d66e23-b33f-446e-b079-ec13c7f092b6",
   "metadata": {},
   "source": [
    "## 5."
   ]
  },
  {
   "cell_type": "code",
   "execution_count": 7,
   "id": "dbf3f150-5b76-46bc-a865-1496aba1f198",
   "metadata": {},
   "outputs": [],
   "source": [
    "# The homogenity and complete- ness of a clustering solution run roughly in opposi- tion: Increasing the homogeneity \n",
    "# of a clustering so- lution often results in decreasing its completeness."
   ]
  },
  {
   "cell_type": "markdown",
   "id": "8370a4c7-8a5c-47c7-a755-8d4205183d68",
   "metadata": {},
   "source": [
    "## 6."
   ]
  },
  {
   "cell_type": "code",
   "execution_count": 8,
   "id": "fb42eb48-9ba3-46e3-ac14-aedebf7aa32a",
   "metadata": {},
   "outputs": [],
   "source": [
    "# Building different clustering models and comparing their V-Measure scores 5 different K-Means\n",
    "# Clustering Models will be built with each model clustering the data into a different number of clusters. "
   ]
  },
  {
   "cell_type": "markdown",
   "id": "9840edcd-edfa-423e-9123-c1937be0cb63",
   "metadata": {},
   "source": [
    "## 7."
   ]
  },
  {
   "cell_type": "code",
   "execution_count": 9,
   "id": "aa4d3703-f3ce-4763-817a-72d7dce367a5",
   "metadata": {},
   "outputs": [],
   "source": [
    "# The advantage of this method is that it can capture the compactness and separation of clusters better than the SSE.\n",
    "# The disadvantage is that it can be computationally expensive and sensitive to outliers."
   ]
  },
  {
   "cell_type": "code",
   "execution_count": 10,
   "id": "28c99097-41c5-497a-9eeb-8991b4345101",
   "metadata": {},
   "outputs": [],
   "source": [
    "# Silhouette Coefficient or silhouette score is a metric used to calculate the goodness of a clustering technique.\n",
    "# Its value ranges from -1 to 1. 1: Means clusters are well apart from each other and clearly distinguished."
   ]
  },
  {
   "cell_type": "markdown",
   "id": "6670b513-9173-41eb-be94-bb63b28b58a9",
   "metadata": {},
   "source": [
    "## 8."
   ]
  },
  {
   "cell_type": "code",
   "execution_count": 11,
   "id": "3fff0aea-23ce-46ef-a6f5-0dd29a612187",
   "metadata": {},
   "outputs": [],
   "source": [
    "# The Davies-Bouldin Index (DBI) is not without its drawbacks, however. It can be sensitive to outliers and noise,\n",
    "# leading to a false indication of poor clustering. Furthermore, it assumes a spherical shape with similar sizes and\n",
    "# densities for each cluster, which may not be true in many real-world cases."
   ]
  },
  {
   "cell_type": "markdown",
   "id": "597a570d-783e-4292-a3f9-74438aad8e5d",
   "metadata": {},
   "source": [
    "## 9."
   ]
  },
  {
   "cell_type": "code",
   "execution_count": 12,
   "id": "1af93f36-c8fc-47fa-af08-edd339cf9e18",
   "metadata": {},
   "outputs": [],
   "source": [
    "# This score is a measure between 0–1 that actually quantifies the goodness of the clustering partition. In fact, \n",
    "# it requires that both homogeneity h and completeness c are maximised (NMI is 1 when both h and c are 1).\n",
    "# Moreover if the clustering doesn't satisfy any of the two conditions NMI will be zero"
   ]
  },
  {
   "cell_type": "markdown",
   "id": "b1d31e69-f9cf-4904-ba0c-dada16b397eb",
   "metadata": {},
   "source": [
    "## 10."
   ]
  },
  {
   "cell_type": "code",
   "execution_count": 13,
   "id": "a0698a95-8f4d-4850-8088-f167217e3adf",
   "metadata": {},
   "outputs": [],
   "source": [
    "# To measure a cluster's fitness within a clustering, we can compute the average silhouette coefficient value of all objects in the cluster.\n",
    "# To measure the quality of a clustering, we can use the average silhouette coefficient value of all objects in the data set."
   ]
  },
  {
   "cell_type": "code",
   "execution_count": 14,
   "id": "72a43918-cf88-4263-b888-12862663e590",
   "metadata": {},
   "outputs": [],
   "source": [
    "# The silhouette score is a measure of how similar an object is to its own cluster compared to other clusters. In other words, \n",
    "# it measures the quality of clustering by evaluating how well separated the clusters are."
   ]
  },
  {
   "cell_type": "markdown",
   "id": "6bbe04ab-4b9d-4604-9d59-cb013fbe2729",
   "metadata": {},
   "source": [
    "## 11."
   ]
  },
  {
   "cell_type": "code",
   "execution_count": 15,
   "id": "33d3bc34-8c1b-4cae-bd21-1ba9047ecfeb",
   "metadata": {},
   "outputs": [],
   "source": [
    "# It is based on the idea that good clusters are those that have low within-cluster variation and high between-cluster separation.\n",
    "# The DBI is calculated as the average of the maximum ratio of the within-cluster distance and the between-cluster distance for each cluster."
   ]
  },
  {
   "cell_type": "code",
   "execution_count": 16,
   "id": "9ec70b7e-f5c5-486c-932c-9bb80dc6a75c",
   "metadata": {},
   "outputs": [],
   "source": [
    "# The Davies-Bouldin Index measures the average similarity between clusters, where similarity compares the size of clusters against\n",
    "# the between-cluster distance. A lower score means that the cluster is relatively small compared to the distance to another cluster,\n",
    "# hence well-defined."
   ]
  },
  {
   "cell_type": "markdown",
   "id": "17b8bd1e-fb0f-4d6d-ad5a-5cf5711a1a6d",
   "metadata": {},
   "source": [
    "## 12."
   ]
  },
  {
   "cell_type": "code",
   "execution_count": 17,
   "id": "4dc2d250-24eb-4155-8591-4ba5aff86993",
   "metadata": {},
   "outputs": [],
   "source": [
    "# Silhouette analysis can be used to study the separation distance between the resulting clusters.\n",
    "# The silhouette plot displays a measure of how close each point in one cluster is to points in the neighboring clusters and thus\n",
    "# provides a way to assess parameters like number of clusters visually."
   ]
  }
 ],
 "metadata": {
  "kernelspec": {
   "display_name": "Python 3 (ipykernel)",
   "language": "python",
   "name": "python3"
  },
  "language_info": {
   "codemirror_mode": {
    "name": "ipython",
    "version": 3
   },
   "file_extension": ".py",
   "mimetype": "text/x-python",
   "name": "python",
   "nbconvert_exporter": "python",
   "pygments_lexer": "ipython3",
   "version": "3.10.8"
  }
 },
 "nbformat": 4,
 "nbformat_minor": 5
}
