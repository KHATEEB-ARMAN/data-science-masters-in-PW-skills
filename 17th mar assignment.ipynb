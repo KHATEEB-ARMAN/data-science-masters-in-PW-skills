{
 "cells": [
  {
   "cell_type": "markdown",
   "id": "c9d2468a-42e0-4b2b-bef7-943e9e43d579",
   "metadata": {},
   "source": [
    "## 1."
   ]
  },
  {
   "cell_type": "code",
   "execution_count": 1,
   "id": "ddedfc2d-2ec2-4906-a88e-66a80bae9059",
   "metadata": {},
   "outputs": [],
   "source": [
    "# Missing Value Treatment in Python – Missing values are usually represented in the form of Nan or null or None in the dataset.\n",
    "# df.info() The function can be used to give information about the dataset. This function is one of the most used functions for data analysis."
   ]
  },
  {
   "cell_type": "code",
   "execution_count": 2,
   "id": "46450876-b5e6-4ce6-bb83-f29ef6d3d633",
   "metadata": {},
   "outputs": [],
   "source": [
    "# Many machine learning algorithms fail if the dataset contains missing values.\n",
    "\n",
    "# Algorithms like K-nearest and Naive Bayes support data with missing"
   ]
  },
  {
   "cell_type": "markdown",
   "id": "343e952f-de99-4228-95f6-1290e59cf588",
   "metadata": {},
   "source": [
    "## 2."
   ]
  },
  {
   "cell_type": "code",
   "execution_count": 3,
   "id": "959645ef-05bf-40df-a442-0a724e017b8d",
   "metadata": {},
   "outputs": [],
   "source": [
    "# there is 3 techniques to handle missing data.\n",
    "# 1. Mean\n",
    "# 2. Mode\n",
    "# 3. Median"
   ]
  },
  {
   "cell_type": "code",
   "execution_count": null,
   "id": "efbc2673-7f92-494d-afa6-79410f92d0aa",
   "metadata": {},
   "outputs": [],
   "source": [
    "import numpy as np\n",
    "import pandas as pd\n",
    "import seaborn as sns"
   ]
  },
  {
   "cell_type": "code",
   "execution_count": null,
   "id": "d21e6b58-8d03-48b7-9e5b-49340cf1545f",
   "metadata": {},
   "outputs": [],
   "source": [
    "df=sns.load_dataset(\"penguins\")"
   ]
  },
  {
   "cell_type": "code",
   "execution_count": null,
   "id": "e702ced8-ac7a-415a-ba81-309f0afd0ecc",
   "metadata": {},
   "outputs": [],
   "source": [
    "df.isnull()"
   ]
  },
  {
   "cell_type": "code",
   "execution_count": null,
   "id": "66cb8677-884f-41c5-a709-f90559c6c8a1",
   "metadata": {},
   "outputs": [],
   "source": [
    "df.head()"
   ]
  },
  {
   "cell_type": "code",
   "execution_count": null,
   "id": "4407abae-0797-4fd7-92c6-b34927825189",
   "metadata": {},
   "outputs": [],
   "source": [
    "df.isnull().sum()"
   ]
  },
  {
   "cell_type": "code",
   "execution_count": null,
   "id": "c152a85f-6f6d-4a1f-9829-114b672b1b0a",
   "metadata": {},
   "outputs": [],
   "source": [
    "df.shape"
   ]
  },
  {
   "cell_type": "code",
   "execution_count": null,
   "id": "148da69b-73cf-4040-a59c-d92e387b3ca4",
   "metadata": {},
   "outputs": [],
   "source": [
    "df.dropna().shape"
   ]
  },
  {
   "cell_type": "code",
   "execution_count": null,
   "id": "eadbfc13-79c9-417f-976a-ca98199d4544",
   "metadata": {},
   "outputs": [],
   "source": [
    "df['mean_bill_lenghth_mm']=df['bill_length_mm'].fillna(df['bill_length_mm'].mean())  ## filling data with mean value."
   ]
  },
  {
   "cell_type": "code",
   "execution_count": null,
   "id": "773d9b1e-31c9-46c6-b0c9-ce5d0ef7ce05",
   "metadata": {},
   "outputs": [],
   "source": [
    "sns.histplot(df['bill_length_mm'])"
   ]
  },
  {
   "cell_type": "code",
   "execution_count": null,
   "id": "8c04e5e6-bab5-4aee-958b-228c278e84f4",
   "metadata": {},
   "outputs": [],
   "source": [
    "sns.displot(df['bill_length_mm'])"
   ]
  },
  {
   "cell_type": "code",
   "execution_count": null,
   "id": "be77efaf-aa4c-42a7-89a9-883809dc8893",
   "metadata": {},
   "outputs": [],
   "source": [
    "df"
   ]
  },
  {
   "cell_type": "code",
   "execution_count": null,
   "id": "62140629-52a7-43ce-be9f-db3ecce6ffbb",
   "metadata": {},
   "outputs": [],
   "source": [
    "df[['mean_bill_lenghth_mm','bill_length_mm']]"
   ]
  },
  {
   "cell_type": "code",
   "execution_count": null,
   "id": "b5b0e47d-3a62-4ed2-9376-a7cdf3205acc",
   "metadata": {},
   "outputs": [],
   "source": [
    "df['median_bil_depth_mm']=df['bill_depth_mm'].fillna(df['bill_depth_mm'].median()) "
   ]
  },
  {
   "cell_type": "code",
   "execution_count": null,
   "id": "5f3a587e-7e97-4afe-bb4a-9f6a159aabde",
   "metadata": {},
   "outputs": [],
   "source": [
    "df"
   ]
  },
  {
   "cell_type": "markdown",
   "id": "1a200b67-d793-4b1a-9a08-df2a17f462fc",
   "metadata": {},
   "source": [
    "## 3."
   ]
  },
  {
   "cell_type": "code",
   "execution_count": null,
   "id": "023bd71f-5826-4897-bbe8-1573e6dba637",
   "metadata": {},
   "outputs": [],
   "source": [
    "# A classification data set with skewed class proportions is called imbalanced. Classes that make up a large proportion of the data set are called majority classes. \n",
    "# Those that make up a smaller proportion are minority classes."
   ]
  },
  {
   "cell_type": "code",
   "execution_count": null,
   "id": "2296c149-4da8-4f22-9fc1-b9f81352de1b",
   "metadata": {},
   "outputs": [],
   "source": [
    "# Imbalanced datasets mean that the number of observations differs for the classes in a classification dataset.\n",
    "# This imbalance can lead to inaccurate results. In this article we will explore techniques used to handle imbalanced data."
   ]
  },
  {
   "cell_type": "markdown",
   "id": "635312cc-0fe0-4fc5-933b-ca1d8dd0ae41",
   "metadata": {},
   "source": [
    "## 4."
   ]
  },
  {
   "cell_type": "code",
   "execution_count": null,
   "id": "990efc99-b83b-4a12-8491-10f540845ca7",
   "metadata": {},
   "outputs": [],
   "source": [
    "# Upsampling is the process of inserting zero-valued samples between original samples to increase the sampling rate."
   ]
  },
  {
   "cell_type": "code",
   "execution_count": null,
   "id": "58a81aac-d247-4451-8d6b-e00ab3d12337",
   "metadata": {},
   "outputs": [],
   "source": [
    "# The act or process of making a digital signal smaller by lowering the number of bits per sample."
   ]
  },
  {
   "cell_type": "markdown",
   "id": "8795c591-e7a4-4a0a-884a-f1b2c5cac5ec",
   "metadata": {},
   "source": [
    "## 5."
   ]
  },
  {
   "cell_type": "code",
   "execution_count": null,
   "id": "af7695db-2947-42f7-9611-7a9b639174fb",
   "metadata": {},
   "outputs": [],
   "source": [
    "# SMOTE is an algorithm that performs data augmentation by creating synthetic data points based on the original data points.\n",
    "# SMOTE can be seen as an advanced version of oversampling, or as a specific algorithm for data augmentation."
   ]
  },
  {
   "cell_type": "code",
   "execution_count": null,
   "id": "36c5edaa-0004-4f4c-a824-b8f656f5d2e5",
   "metadata": {},
   "outputs": [],
   "source": [
    "# Data augmentation is a technique of artificially increasing the training set by creating modified copies of a dataset using existing data.\n",
    "# It includes making minor changes to the dataset or using deep learning to generate new data points."
   ]
  },
  {
   "cell_type": "markdown",
   "id": "e29e4f6c-cafd-44e3-a312-78e2770126fa",
   "metadata": {},
   "source": [
    "## 6."
   ]
  },
  {
   "cell_type": "code",
   "execution_count": null,
   "id": "23863f9f-0094-4efd-b115-f007f0c4f858",
   "metadata": {},
   "outputs": [],
   "source": [
    "# An outlier is an observation that lies an abnormal distance from other values in a random sample from a population."
   ]
  },
  {
   "cell_type": "code",
   "execution_count": null,
   "id": "49a26c3f-2d16-4bbd-9e8b-47200d2fc261",
   "metadata": {},
   "outputs": [],
   "source": [
    "# Outliers are important because they can have a large influence on statistics derived from the dataset.\n",
    "# For example, the mean intake of energy or some nutrient may be glossary term skewed upward or downward by one or a few extreme values."
   ]
  },
  {
   "cell_type": "markdown",
   "id": "39692158-9f13-4886-9669-720624d08e5d",
   "metadata": {},
   "source": [
    "## 7."
   ]
  },
  {
   "cell_type": "code",
   "execution_count": null,
   "id": "e47b4332-b731-4fec-ad1a-53ce413a5a7c",
   "metadata": {},
   "outputs": [],
   "source": [
    "# changing the null value with the mean or median or mode values."
   ]
  },
  {
   "cell_type": "markdown",
   "id": "9d46617d-3d35-46b3-8603-17204a4c7cd4",
   "metadata": {},
   "source": [
    "## 8."
   ]
  },
  {
   "cell_type": "code",
   "execution_count": null,
   "id": "eb6f7019-b5a6-435a-99c1-20d515a16ab5",
   "metadata": {},
   "outputs": [],
   "source": [
    "# If the small amount of data is missing, then we can do imputation technique.\n",
    "# mean imputation.\n",
    "# medain imputatuin.\n",
    "# mode imputation.\n",
    "\n",
    "# if the data is missing in more percentage then we can drooped that row or column data."
   ]
  },
  {
   "cell_type": "markdown",
   "id": "6a47ae3c-e97c-47cc-84f1-9af528983033",
   "metadata": {},
   "source": [
    "## 9."
   ]
  },
  {
   "cell_type": "code",
   "execution_count": null,
   "id": "30fe36a4-60b9-4df7-9747-bcceb41f18d3",
   "metadata": {},
   "outputs": [],
   "source": [
    "# 1 Find more real-world data.\n",
    "# 2 Manually label more of your data.\n",
    "# 3 Supplement your data with estimates.\n",
    "# 4 Predict missing values automatically.\n",
    "# 5 Create balanced data at any scale."
   ]
  },
  {
   "cell_type": "markdown",
   "id": "7eeabc56-3dd3-4e9f-9e8a-ef9ea7695cb1",
   "metadata": {},
   "source": [
    "# 10."
   ]
  },
  {
   "cell_type": "code",
   "execution_count": null,
   "id": "f65fdd8c-dda9-475c-9872-6d89e07505c0",
   "metadata": {},
   "outputs": [],
   "source": [
    "# A widely adopted and perhaps the most straightforward method for dealing with highly imbalanced datasets is called resampling.\n",
    "# It consists of removing samples from the majority class (under-sampling) and/or adding more examples from the minority class (over-sampling)."
   ]
  },
  {
   "cell_type": "markdown",
   "id": "39750be6-5ebc-4a53-b6ba-402d39b3c955",
   "metadata": {},
   "source": [
    "## 11."
   ]
  },
  {
   "cell_type": "code",
   "execution_count": null,
   "id": "303ed365-5af6-4c37-a062-8e8285d642b1",
   "metadata": {},
   "outputs": [],
   "source": [
    "# we can use reampling method."
   ]
  },
  {
   "cell_type": "code",
   "execution_count": null,
   "id": "0c5d6013-ebc5-4433-8fa8-c000437c2859",
   "metadata": {},
   "outputs": [],
   "source": []
  }
 ],
 "metadata": {
  "kernelspec": {
   "display_name": "Python 3 (ipykernel)",
   "language": "python",
   "name": "python3"
  },
  "language_info": {
   "codemirror_mode": {
    "name": "ipython",
    "version": 3
   },
   "file_extension": ".py",
   "mimetype": "text/x-python",
   "name": "python",
   "nbconvert_exporter": "python",
   "pygments_lexer": "ipython3",
   "version": "3.10.8"
  }
 },
 "nbformat": 4,
 "nbformat_minor": 5
}
