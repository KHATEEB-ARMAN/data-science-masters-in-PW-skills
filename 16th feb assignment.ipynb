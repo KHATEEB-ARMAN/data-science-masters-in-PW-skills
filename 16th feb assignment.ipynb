{
 "cells": [
  {
   "cell_type": "markdown",
   "id": "1c88fab4-ce2f-4e7a-bad2-f68e4e49e43a",
   "metadata": {},
   "source": [
    "## 1."
   ]
  },
  {
   "cell_type": "code",
   "execution_count": 1,
   "id": "75211aca-4bed-4fbc-8590-2a03ecc02570",
   "metadata": {},
   "outputs": [],
   "source": [
    "# SQL databases use structured query language (SQL) and have a predefined schema.\n",
    "#  QL databases are vertically scalable.\n",
    "# These databases are not suited for hierarchical data storage.\n",
    "# These databases are best suited for complex queries\n",
    "# Examples: MySQL, PostgreSQL, Oracle, MS-SQL Server, etc"
   ]
  },
  {
   "cell_type": "code",
   "execution_count": 2,
   "id": "eda3e226-297a-4b7e-bb4c-a0d690e0db00",
   "metadata": {},
   "outputs": [],
   "source": [
    "# NoSQL databases have dynamic schemas for unstructured data.\n",
    "# QL databases are vertically scalable.\n",
    "# These databases are best suited for hierarchical data storage.\n",
    "# These databases are not so good for complex queries\n",
    "# Examples: MongoDB, HBase, Neo4j, Cassandra, etc"
   ]
  },
  {
   "cell_type": "markdown",
   "id": "3d669dc5-43ef-42b5-a564-5de0482232c1",
   "metadata": {},
   "source": [
    "## 2."
   ]
  },
  {
   "cell_type": "code",
   "execution_count": 3,
   "id": "fbd6bb5d-70d9-41b6-8ccc-af7ee3de5e08",
   "metadata": {},
   "outputs": [],
   "source": [
    "# Data Definition Language(DDL) is a subset of SQL and a part of DBMS(Database Management System). DDL consist of Commands to commands\n",
    "# like CREATE, ALTER, TRUNCATE and DROP. These commands are used to create or modify the tables in SQL."
   ]
  },
  {
   "cell_type": "code",
   "execution_count": 4,
   "id": "e2a0767f-c087-47d0-aab4-22af3faaeea6",
   "metadata": {},
   "outputs": [],
   "source": [
    "# CREATE Database Database_Name; \n",
    "\n",
    "# DROP DATABASE Database_Name;  \n",
    "# To remove the existing table from the SQL database.\n",
    "\n",
    "# Suppose, you want to change the character size of the Last_Namefield of the Student table. To do this, you have to write the following DDL command:\n",
    "# ALTER TABLE name_of_table ADD column_name column_definition;\n",
    "\n",
    "# TRUNCATE is another DDL command which deletes or removes all the records from the table\n",
    "# TRUNCATE TABLE Table_Name;"
   ]
  },
  {
   "cell_type": "markdown",
   "id": "26c9e336-490c-4fe4-b6c4-11d9de13635d",
   "metadata": {},
   "source": [
    "## 3."
   ]
  },
  {
   "cell_type": "code",
   "execution_count": 5,
   "id": "0b29d700-2766-4ea3-b4fb-6012cc9ec2b0",
   "metadata": {},
   "outputs": [],
   "source": [
    "# DML is an abbreviation of Data Manipulation Language. The DML in DBMS is responsible for performing CRUD (Create Read Update and Delete)\n",
    "# operations on the data of the database table. Data Manipulation Language (DML) allows you to modify the database tables by inserting,\n",
    "# modifying, and deleting their data."
   ]
  },
  {
   "cell_type": "code",
   "execution_count": 6,
   "id": "59b962f3-c85b-409b-b699-cbf8293debb5",
   "metadata": {},
   "outputs": [],
   "source": [
    "# Insert command is used to insert data into a table\n",
    "# Insert into <table_name> (column list) values (column values);\n",
    "\n",
    "# Delete command is used to delete records from a database table.\n",
    "#  Delete from <table_name>WHERE condition;\n",
    "\n",
    "# Update command is used to update existing data within a table.\n",
    "# UPDATE <table_name> SET column_number =value_number WHERE condition;"
   ]
  },
  {
   "cell_type": "markdown",
   "id": "d6ac732c-53dd-4381-9849-829389d2c1cc",
   "metadata": {},
   "source": [
    "## 4."
   ]
  },
  {
   "cell_type": "code",
   "execution_count": 7,
   "id": "ad48f0aa-0a57-411b-8ce5-8003352872b4",
   "metadata": {},
   "outputs": [],
   "source": [
    "# Query languages, often known as DQLs or Data Query Languages, are computer languages that are used to make various queries in\n",
    "# information systems and databases. The Structured Query Language (SQL) is a well-known example. DQL statements are used to query\n",
    "# the data contained in schema objects."
   ]
  },
  {
   "cell_type": "code",
   "execution_count": 8,
   "id": "33a947ed-e70e-444b-8096-c64723b4f8bf",
   "metadata": {},
   "outputs": [],
   "source": [
    "# The SELECT Statement in SQL is used to retrieve or fetch data from a database. We can fetch either the entire table or according\n",
    "# to some specified rules. The data returned is stored in a result table. This result table is also called the result set."
   ]
  },
  {
   "cell_type": "code",
   "execution_count": 9,
   "id": "bbfa2624-1e95-4dc6-85cb-748cb3c3dab1",
   "metadata": {},
   "outputs": [
    {
     "data": {
      "text/plain": [
       "\" \\nCREATE TABLE Customer(\\n    CustomerID INT PRIMARY KEY,\\n    CustomerName VARCHAR(50),\\n    LastName VARCHAR(50),\\n    Country VARCHAR(50),\\n    Age int(2),\\n  Phone int(10)\\n);\\n-- Insert some sample data into the Customers table\\nINSERT INTO Customer (CustomerID, CustomerName, LastName, Country, Age, Phone)\\nVALUES (1, 'Shubham', 'Thakur', 'India','23','xxxxxxxxxx'),\\n       (2, 'Aman ', 'Chopra', 'Australia','21','xxxxxxxxxx'),\\n       (3, 'Naveen', 'Tulasi', 'Sri lanka','24','xxxxxxxxxx'),\\n       (4, 'Aditya', 'Arpan', 'Austria','21','xxxxxxxxxx'),\\n       (5, 'Nishant. Salchichas S.A.', 'Jain', 'Spain','22','xxxxxxxxxx');\\n       \\n       \""
      ]
     },
     "execution_count": 9,
     "metadata": {},
     "output_type": "execute_result"
    }
   ],
   "source": [
    "\n",
    "\"\"\" \n",
    "CREATE TABLE Customer(\n",
    "    CustomerID INT PRIMARY KEY,\n",
    "    CustomerName VARCHAR(50),\n",
    "    LastName VARCHAR(50),\n",
    "    Country VARCHAR(50),\n",
    "    Age int(2),\n",
    "  Phone int(10)\n",
    ");\n",
    "-- Insert some sample data into the Customers table\n",
    "INSERT INTO Customer (CustomerID, CustomerName, LastName, Country, Age, Phone)\n",
    "VALUES (1, 'Shubham', 'Thakur', 'India','23','xxxxxxxxxx'),\n",
    "       (2, 'Aman ', 'Chopra', 'Australia','21','xxxxxxxxxx'),\n",
    "       (3, 'Naveen', 'Tulasi', 'Sri lanka','24','xxxxxxxxxx'),\n",
    "       (4, 'Aditya', 'Arpan', 'Austria','21','xxxxxxxxxx'),\n",
    "       (5, 'Nishant. Salchichas S.A.', 'Jain', 'Spain','22','xxxxxxxxxx');\n",
    "       \n",
    "       \"\"\""
   ]
  },
  {
   "cell_type": "markdown",
   "id": "9f2d5708-1225-435e-acaf-20a85c63afc8",
   "metadata": {},
   "source": [
    "## 5"
   ]
  },
  {
   "cell_type": "code",
   "execution_count": 10,
   "id": "b4cac8eb-d549-4cec-b703-ec7b0c9dbd1c",
   "metadata": {},
   "outputs": [],
   "source": [
    "# A primary key is a unique identifier for each record in a table. \n",
    "# A table can have only have one primary key "
   ]
  },
  {
   "cell_type": "code",
   "execution_count": 11,
   "id": "8a51b8a3-6b7a-4faf-a527-f94af64ff5c5",
   "metadata": {},
   "outputs": [],
   "source": [
    "# A foreign key establishes a relationship between tables by referencing the primary key of another table.\n",
    "# A table can have multiple foreign keys"
   ]
  },
  {
   "cell_type": "markdown",
   "id": "a3d3c8f1-3c70-44c0-b344-399690ff6458",
   "metadata": {},
   "source": [
    "## 6."
   ]
  },
  {
   "cell_type": "code",
   "execution_count": 12,
   "id": "83b5dc2f-c8a6-46cd-882b-e34f46c3e676",
   "metadata": {},
   "outputs": [
    {
     "data": {
      "text/plain": [
       "\"\\nimport mysql.connector\\n\\n#establishing the connection\\nconn = mysql.connector.connect(\\n   user='root', password='password', host='127.0.0.1', database='mydb'\\n)\\n#Creating a cursor object using the cursor() method\\ncursor = conn.cursor()\\n\\n\""
      ]
     },
     "execution_count": 12,
     "metadata": {},
     "output_type": "execute_result"
    }
   ],
   "source": [
    "\"\"\"\n",
    "import mysql.connector\n",
    "\n",
    "#establishing the connection\n",
    "conn = mysql.connector.connect(\n",
    "   user='root', password='password', host='127.0.0.1', database='mydb'\n",
    ")\n",
    "#Creating a cursor object using the cursor() method\n",
    "cursor = conn.cursor()\n",
    "\n",
    "\"\"\""
   ]
  },
  {
   "cell_type": "markdown",
   "id": "0081a51e-77c5-4674-8134-66403b62f08b",
   "metadata": {},
   "source": [
    "## 7."
   ]
  },
  {
   "cell_type": "code",
   "execution_count": 13,
   "id": "96b21df0-b725-4c11-bc8b-01ba978d3e58",
   "metadata": {},
   "outputs": [],
   "source": [
    "# Getting Data (From, Join)\n",
    "# Row Filter (Where)\n",
    "# Grouping (Group by)\n",
    "# Group Filter (Having)\n",
    "# Return Expressions (Select)\n",
    "# Order & Paging (Order by & Limit / Offset)"
   ]
  }
 ],
 "metadata": {
  "kernelspec": {
   "display_name": "Python 3 (ipykernel)",
   "language": "python",
   "name": "python3"
  },
  "language_info": {
   "codemirror_mode": {
    "name": "ipython",
    "version": 3
   },
   "file_extension": ".py",
   "mimetype": "text/x-python",
   "name": "python",
   "nbconvert_exporter": "python",
   "pygments_lexer": "ipython3",
   "version": "3.10.8"
  }
 },
 "nbformat": 4,
 "nbformat_minor": 5
}
