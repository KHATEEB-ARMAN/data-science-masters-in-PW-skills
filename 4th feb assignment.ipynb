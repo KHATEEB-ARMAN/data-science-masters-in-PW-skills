{
 "cells": [
  {
   "cell_type": "markdown",
   "id": "d6f6ba48-1896-43e0-82e3-b7c7e1975d2b",
   "metadata": {},
   "source": [
    "## 1."
   ]
  },
  {
   "cell_type": "code",
   "execution_count": 24,
   "id": "9995e181-dfe2-417f-b214-9493a1f37494",
   "metadata": {},
   "outputs": [],
   "source": [
    "player_scores=[('sachin Tendulkar',34357),('Ricky Ponting',27483),('Jack Kallis',25534),('Virat Kohli',24936)]"
   ]
  },
  {
   "cell_type": "code",
   "execution_count": 32,
   "id": "29463797-a27f-4fd0-966b-4ec18087031c",
   "metadata": {},
   "outputs": [],
   "source": [
    "player_scores.sort(key = lambda x: x[1])"
   ]
  },
  {
   "cell_type": "code",
   "execution_count": 33,
   "id": "37667b92-e9d0-4cfe-afec-7e2d442656d7",
   "metadata": {},
   "outputs": [
    {
     "data": {
      "text/plain": [
       "[('Virat Kohli', 24936),\n",
       " ('Jack Kallis', 25534),\n",
       " ('Ricky Ponting', 27483),\n",
       " ('sachin Tendulkar', 34357)]"
      ]
     },
     "execution_count": 33,
     "metadata": {},
     "output_type": "execute_result"
    }
   ],
   "source": [
    "player_scores"
   ]
  },
  {
   "cell_type": "markdown",
   "id": "d655f991-5728-48ee-bc0f-52dde52e5bee",
   "metadata": {},
   "source": [
    "# 2."
   ]
  },
  {
   "cell_type": "code",
   "execution_count": 34,
   "id": "0a9f54a0-6fb0-4b52-a9e6-0db82daadc14",
   "metadata": {},
   "outputs": [],
   "source": [
    "list1=[1,2,3,4,5,6,7,8,9,10]"
   ]
  },
  {
   "cell_type": "code",
   "execution_count": 38,
   "id": "d1a8d8a2-bd9f-421d-9b84-dbe9855f636c",
   "metadata": {},
   "outputs": [
    {
     "data": {
      "text/plain": [
       "[1, 4, 9, 16, 25, 36, 49, 64, 81, 100]"
      ]
     },
     "execution_count": 38,
     "metadata": {},
     "output_type": "execute_result"
    }
   ],
   "source": [
    "(list(map(lambda x:x**2, list1)))"
   ]
  },
  {
   "cell_type": "markdown",
   "id": "4f0fb9fe-cb10-4b27-9304-ab6947ef0e04",
   "metadata": {},
   "source": [
    "#  3."
   ]
  },
  {
   "cell_type": "code",
   "execution_count": 40,
   "id": "753d20e0-2e2d-47c3-8c21-025b7f96bd71",
   "metadata": {},
   "outputs": [],
   "source": [
    "list1=[1,2,3,4,5,6,7,8,9,10]"
   ]
  },
  {
   "cell_type": "code",
   "execution_count": 53,
   "id": "a9867457-ed38-4400-a847-04cb4bd55d13",
   "metadata": {},
   "outputs": [
    {
     "data": {
      "text/plain": [
       "('1', '2', '3', '4', '5', '6', '7', '8', '9', '10')"
      ]
     },
     "execution_count": 53,
     "metadata": {},
     "output_type": "execute_result"
    }
   ],
   "source": [
    "tuple(map(lambda x:str(x),list1))"
   ]
  },
  {
   "cell_type": "markdown",
   "id": "c6fe9a2e-da7e-469f-93b4-d8d7b04ff47f",
   "metadata": {},
   "source": [
    "# 4."
   ]
  },
  {
   "cell_type": "code",
   "execution_count": null,
   "id": "86977454-d5c1-400e-a7dc-791f412fc3d8",
   "metadata": {},
   "outputs": [],
   "source": []
  },
  {
   "cell_type": "code",
   "execution_count": null,
   "id": "0cf15bb4-7ecc-4ef7-8444-1c151d670ee6",
   "metadata": {},
   "outputs": [],
   "source": []
  },
  {
   "cell_type": "markdown",
   "id": "395b8586-641a-43de-84ee-cd295954a388",
   "metadata": {},
   "source": [
    "# 5."
   ]
  },
  {
   "cell_type": "code",
   "execution_count": 54,
   "id": "eb31157c-423d-4e57-a0ba-4a8fc6c71f1a",
   "metadata": {},
   "outputs": [],
   "source": [
    "list1=[2,3,6,9,27,60,90,120,55,46]"
   ]
  },
  {
   "cell_type": "code",
   "execution_count": 69,
   "id": "8f0c4ba6-96cb-4e74-9f98-87415b4ce8df",
   "metadata": {},
   "outputs": [
    {
     "data": {
      "text/plain": [
       "[6, 60, 90, 120]"
      ]
     },
     "execution_count": 69,
     "metadata": {},
     "output_type": "execute_result"
    }
   ],
   "source": [
    "list(filter(lambda x:x%2==0 and x%3==0 ,list1))"
   ]
  },
  {
   "cell_type": "markdown",
   "id": "4682fd8b-8c59-430d-b823-b945cb7e378a",
   "metadata": {},
   "source": [
    "# 6."
   ]
  },
  {
   "cell_type": "code",
   "execution_count": 71,
   "id": "69db5a75-c79a-4d5a-92c0-824e70abd1b3",
   "metadata": {},
   "outputs": [],
   "source": [
    "list1=['python','php','radar','level']"
   ]
  },
  {
   "cell_type": "code",
   "execution_count": 97,
   "id": "2f98fab5-4cf0-483a-b313-23eb731ce6e9",
   "metadata": {},
   "outputs": [
    {
     "data": {
      "text/plain": [
       "['php', 'radar', 'level']"
      ]
     },
     "execution_count": 97,
     "metadata": {},
     "output_type": "execute_result"
    }
   ],
   "source": [
    "list(filter(lambda x:(x==\"\".join(reversed(x))),list1))"
   ]
  },
  {
   "cell_type": "code",
   "execution_count": null,
   "id": "345dbc56-7b48-4410-b87b-1a6981614ec8",
   "metadata": {},
   "outputs": [],
   "source": []
  }
 ],
 "metadata": {
  "kernelspec": {
   "display_name": "Python 3 (ipykernel)",
   "language": "python",
   "name": "python3"
  },
  "language_info": {
   "codemirror_mode": {
    "name": "ipython",
    "version": 3
   },
   "file_extension": ".py",
   "mimetype": "text/x-python",
   "name": "python",
   "nbconvert_exporter": "python",
   "pygments_lexer": "ipython3",
   "version": "3.10.8"
  }
 },
 "nbformat": 4,
 "nbformat_minor": 5
}
