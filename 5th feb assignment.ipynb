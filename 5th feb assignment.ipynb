{
 "cells": [
  {
   "cell_type": "markdown",
   "id": "e9a07ca2-f269-4c00-88f3-3400d49a875a",
   "metadata": {},
   "source": [
    "#  1."
   ]
  },
  {
   "cell_type": "code",
   "execution_count": null,
   "id": "1c2754f4-8a8f-46eb-8fc1-95f0fed6ac30",
   "metadata": {},
   "outputs": [],
   "source": [
    " #A Python class is like an outline for creating a new object. An object is anything that you wish to manipulate or change while working through the code. Every time a class object is instantiated, which is when we declare a variable, a new object is initiated from scratch"
   ]
  },
  {
   "cell_type": "code",
   "execution_count": null,
   "id": "5cab6e5d-7fd3-412e-be0c-22a11fdf3ecc",
   "metadata": {},
   "outputs": [],
   "source": [
    "#  ex:"
   ]
  },
  {
   "cell_type": "code",
   "execution_count": 9,
   "id": "a89e31c3-47a2-426c-890c-bb0778e65b56",
   "metadata": {},
   "outputs": [
    {
     "ename": "NameError",
     "evalue": "name 'Bikes' is not defined",
     "output_type": "error",
     "traceback": [
      "\u001b[0;31m---------------------------------------------------------------------------\u001b[0m",
      "\u001b[0;31mNameError\u001b[0m                                 Traceback (most recent call last)",
      "Cell \u001b[0;32mIn[9], line 1\u001b[0m\n\u001b[0;32m----> 1\u001b[0m \u001b[38;5;28;01mclass\u001b[39;00m \u001b[38;5;21;01mBike\u001b[39;00m:\n\u001b[1;32m      2\u001b[0m     name \u001b[38;5;241m=\u001b[39m \u001b[38;5;124m\"\u001b[39m\u001b[38;5;124m\"\u001b[39m\n\u001b[1;32m      3\u001b[0m     gear \u001b[38;5;241m=\u001b[39m \u001b[38;5;241m0\u001b[39m\n",
      "Cell \u001b[0;32mIn[9], line 4\u001b[0m, in \u001b[0;36mBike\u001b[0;34m()\u001b[0m\n\u001b[1;32m      2\u001b[0m name \u001b[38;5;241m=\u001b[39m \u001b[38;5;124m\"\u001b[39m\u001b[38;5;124m\"\u001b[39m\n\u001b[1;32m      3\u001b[0m gear \u001b[38;5;241m=\u001b[39m \u001b[38;5;241m0\u001b[39m\n\u001b[0;32m----> 4\u001b[0m bike1 \u001b[38;5;241m=\u001b[39m \u001b[43mBikes\u001b[49m()\n\u001b[1;32m      6\u001b[0m bike1\u001b[38;5;241m.\u001b[39mgear \u001b[38;5;241m=\u001b[39m \u001b[38;5;241m11\u001b[39m\n\u001b[1;32m      7\u001b[0m bike1\u001b[38;5;241m.\u001b[39mname \u001b[38;5;241m=\u001b[39m \u001b[38;5;124m\"\u001b[39m\u001b[38;5;124mMountain Bike\u001b[39m\u001b[38;5;124m\"\u001b[39m\n",
      "\u001b[0;31mNameError\u001b[0m: name 'Bikes' is not defined"
     ]
    }
   ],
   "source": [
    "class Bike:\n",
    "    name = \"\"\n",
    "    gear = 0\n",
    "    bike1 = Bikes()\n",
    "    \n",
    "    bike1.gear = 11\n",
    "    bike1.name = \"Mountain Bike\"\n",
    "    \n",
    "print(f\"Name: {bikes.name}, Gears: {bike1.gear} \")\n",
    "\n"
   ]
  },
  {
   "cell_type": "markdown",
   "id": "8819e6b6-dc0c-4da0-8b16-c258efdcc500",
   "metadata": {},
   "source": [
    "# 2."
   ]
  },
  {
   "cell_type": "code",
   "execution_count": null,
   "id": "f38c4bff-306c-4c49-8b06-7d0d0adcb094",
   "metadata": {},
   "outputs": [],
   "source": [
    "# a. Inheritance\n",
    "# b. Polymorphism\n",
    "# c.Encapsulation\n",
    "# d.Abstraction"
   ]
  },
  {
   "cell_type": "markdown",
   "id": "35129f12-4b5c-44de-9466-870fba2d311b",
   "metadata": {},
   "source": [
    "#  3."
   ]
  },
  {
   "cell_type": "code",
   "execution_count": null,
   "id": "b51a0b1f-ed70-4559-b4db-7f57fd2567e3",
   "metadata": {},
   "outputs": [],
   "source": [
    "# \"__init__\" is a reserved method in python classes.\n",
    "# . It is called as a constructor in object oriented terminology. This method is called when an object is created from a class and it allows the class to initialize the attributes of the class."
   ]
  },
  {
   "cell_type": "code",
   "execution_count": 3,
   "id": "b095973e-bc40-4b90-841b-c41bdbd3dd2e",
   "metadata": {},
   "outputs": [],
   "source": [
    "class pwskills2:\n",
    "    def __init__(sudh,phone_number,email_id,student_id):\n",
    "        sudh.phone_number=phone_number\n",
    "        sudh.email_id=email_id\n",
    "        sudh.student_id=student_id\n",
    "        \n",
    "    def return_student_details(sudh):\n",
    "        return sudh.phone_number,sudh.email_id,sudh.student_id"
   ]
  },
  {
   "cell_type": "code",
   "execution_count": 4,
   "id": "1a7aba18-c9d7-4f5a-b59f-298886fdcc43",
   "metadata": {},
   "outputs": [],
   "source": [
    "mohan=pwskills2(123456,\"jsgd2gmail.com\",999)"
   ]
  },
  {
   "cell_type": "code",
   "execution_count": 5,
   "id": "bf7eb0de-29b0-4fe2-ad53-68e33be3f035",
   "metadata": {},
   "outputs": [
    {
     "data": {
      "text/plain": [
       "(123456, 'jsgd2gmail.com', 999)"
      ]
     },
     "execution_count": 5,
     "metadata": {},
     "output_type": "execute_result"
    }
   ],
   "source": [
    "mohan.return_student_details()"
   ]
  },
  {
   "cell_type": "markdown",
   "id": "7adb2fb4-3e64-4aac-bd61-264114dbb93f",
   "metadata": {},
   "source": [
    "# 4."
   ]
  },
  {
   "cell_type": "code",
   "execution_count": null,
   "id": "821e1a54-20d7-4868-bc57-5c201fac0a92",
   "metadata": {},
   "outputs": [],
   "source": [
    "# self represents the instance of the class. By using the “self” we can access the attributes and methods of the class in python. It binds the attributes with the given arguments. The reason you need to use self. is because Python does not use the @ syntax to refer to instance attributes."
   ]
  },
  {
   "cell_type": "markdown",
   "id": "6f6df66f-0233-46f2-bb73-f020c2d896ff",
   "metadata": {},
   "source": [
    "# 5."
   ]
  },
  {
   "cell_type": "code",
   "execution_count": null,
   "id": "9dbdd8e9-c267-439f-839b-7c666243ae6a",
   "metadata": {},
   "outputs": [],
   "source": [
    "# Inheritance relationship defines the classes that inherit from other classes as derived, subclass, or sub-type classes. Base class remains to be the source from which a subclass inherits."
   ]
  },
  {
   "cell_type": "code",
   "execution_count": null,
   "id": "db497e93-e7fc-4767-bd2d-87fa907f14a8",
   "metadata": {},
   "outputs": [],
   "source": [
    "#  a.Single Inheritance.\n",
    "#  b.Multiple Inheritance.\n",
    "#  c.Multilevel Inheritance.\n",
    "#  d.Hierarchical Inheritance.\n",
    "#  e.Hybrid Inheritance."
   ]
  },
  {
   "cell_type": "code",
   "execution_count": null,
   "id": "2f9e2bd9-04f4-449b-a1c0-150c363ceee9",
   "metadata": {},
   "outputs": [],
   "source": []
  },
  {
   "cell_type": "code",
   "execution_count": null,
   "id": "32ed0019-a9cb-4736-907f-6a52b6cb4693",
   "metadata": {},
   "outputs": [],
   "source": []
  },
  {
   "cell_type": "code",
   "execution_count": null,
   "id": "e79a9fa4-cd0c-46ae-98aa-50d053c61b1c",
   "metadata": {},
   "outputs": [],
   "source": []
  },
  {
   "cell_type": "code",
   "execution_count": null,
   "id": "bf49e3f8-6a2d-469e-9a4d-ff0338448f0b",
   "metadata": {},
   "outputs": [],
   "source": []
  },
  {
   "cell_type": "code",
   "execution_count": null,
   "id": "7c77c4cb-f732-4d67-bbb2-f89511c384d5",
   "metadata": {},
   "outputs": [],
   "source": []
  }
 ],
 "metadata": {
  "kernelspec": {
   "display_name": "Python 3 (ipykernel)",
   "language": "python",
   "name": "python3"
  },
  "language_info": {
   "codemirror_mode": {
    "name": "ipython",
    "version": 3
   },
   "file_extension": ".py",
   "mimetype": "text/x-python",
   "name": "python",
   "nbconvert_exporter": "python",
   "pygments_lexer": "ipython3",
   "version": "3.10.8"
  }
 },
 "nbformat": 4,
 "nbformat_minor": 5
}
