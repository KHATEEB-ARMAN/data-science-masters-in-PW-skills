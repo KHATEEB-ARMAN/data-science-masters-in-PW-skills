{
 "cells": [
  {
   "cell_type": "markdown",
   "id": "e9a07ca2-f269-4c00-88f3-3400d49a875a",
   "metadata": {},
   "source": [
    "#  1."
   ]
  },
  {
   "cell_type": "code",
   "execution_count": null,
   "id": "1c2754f4-8a8f-46eb-8fc1-95f0fed6ac30",
   "metadata": {},
   "outputs": [],
   "source": [
    " #A Python class is like an outline for creating a new object. An object is anything that you wish to manipulate or change while working through the code. Every time a class object is instantiated, which is when we declare a variable, a new object is initiated from scratch"
   ]
  },
  {
   "cell_type": "code",
   "execution_count": null,
   "id": "5cab6e5d-7fd3-412e-be0c-22a11fdf3ecc",
   "metadata": {},
   "outputs": [],
   "source": [
    "#  ex:"
   ]
  },
  {
   "cell_type": "code",
   "execution_count": 16,
   "id": "a89e31c3-47a2-426c-890c-bb0778e65b56",
   "metadata": {},
   "outputs": [
    {
     "name": "stdout",
     "output_type": "stream",
     "text": [
      "Name: Mountain Bike, Gears: 11 \n"
     ]
    }
   ],
   "source": [
    "class Bike:\n",
    "    name = \"\"\n",
    "    gear = 0\n",
    "bike1 = Bike()\n",
    "bike1.gear = 11\n",
    "bike1.name = \"Mountain Bike\"\n",
    "\n",
    "print(f\"Name: {bike1.name}, Gears: {bike1.gear} \")"
   ]
  },
  {
   "cell_type": "markdown",
   "id": "8819e6b6-dc0c-4da0-8b16-c258efdcc500",
   "metadata": {},
   "source": [
    "# 2."
   ]
  },
  {
   "cell_type": "code",
   "execution_count": null,
   "id": "f38c4bff-306c-4c49-8b06-7d0d0adcb094",
   "metadata": {},
   "outputs": [],
   "source": [
    "# a. Inheritance\n",
    "# b. Polymorphism\n",
    "# c.Encapsulation\n",
    "# d.Abstraction"
   ]
  },
  {
   "cell_type": "markdown",
   "id": "35129f12-4b5c-44de-9466-870fba2d311b",
   "metadata": {},
   "source": [
    "#  3."
   ]
  },
  {
   "cell_type": "code",
   "execution_count": null,
   "id": "b51a0b1f-ed70-4559-b4db-7f57fd2567e3",
   "metadata": {},
   "outputs": [],
   "source": [
    "# \"__init__\" is a reserved method in python classes.\n",
    "# . It is called as a constructor in object oriented terminology. This method is called when an object is created from a class and it allows the class to initialize the attributes of the class."
   ]
  },
  {
   "cell_type": "code",
   "execution_count": 3,
   "id": "b095973e-bc40-4b90-841b-c41bdbd3dd2e",
   "metadata": {},
   "outputs": [],
   "source": [
    "class pwskills2:\n",
    "    def __init__(sudh,phone_number,email_id,student_id):\n",
    "        sudh.phone_number=phone_number\n",
    "        sudh.email_id=email_id\n",
    "        sudh.student_id=student_id\n",
    "        \n",
    "    def return_student_details(sudh):\n",
    "        return sudh.phone_number,sudh.email_id,sudh.student_id"
   ]
  },
  {
   "cell_type": "code",
   "execution_count": 4,
   "id": "1a7aba18-c9d7-4f5a-b59f-298886fdcc43",
   "metadata": {},
   "outputs": [],
   "source": [
    "mohan=pwskills2(123456,\"jsgd2gmail.com\",999)"
   ]
  },
  {
   "cell_type": "code",
   "execution_count": 5,
   "id": "bf7eb0de-29b0-4fe2-ad53-68e33be3f035",
   "metadata": {},
   "outputs": [
    {
     "data": {
      "text/plain": [
       "(123456, 'jsgd2gmail.com', 999)"
      ]
     },
     "execution_count": 5,
     "metadata": {},
     "output_type": "execute_result"
    }
   ],
   "source": [
    "mohan.return_student_details()"
   ]
  },
  {
   "cell_type": "markdown",
   "id": "7adb2fb4-3e64-4aac-bd61-264114dbb93f",
   "metadata": {},
   "source": [
    "# 4."
   ]
  },
  {
   "cell_type": "code",
   "execution_count": null,
   "id": "821e1a54-20d7-4868-bc57-5c201fac0a92",
   "metadata": {},
   "outputs": [],
   "source": [
    "# self represents the instance of the class. By using the “self” we can access the attributes and methods of the class in python. It binds the attributes with the given arguments. The reason you need to use self. is because Python does not use the @ syntax to refer to instance attributes."
   ]
  },
  {
   "cell_type": "markdown",
   "id": "6f6df66f-0233-46f2-bb73-f020c2d896ff",
   "metadata": {},
   "source": [
    "# 5."
   ]
  },
  {
   "cell_type": "code",
   "execution_count": null,
   "id": "9dbdd8e9-c267-439f-839b-7c666243ae6a",
   "metadata": {},
   "outputs": [],
   "source": [
    "# Inheritance relationship defines the classes that inherit from other classes as derived, subclass, or sub-type classes. Base class remains to be the source from which a subclass inherits."
   ]
  },
  {
   "cell_type": "code",
   "execution_count": null,
   "id": "db497e93-e7fc-4767-bd2d-87fa907f14a8",
   "metadata": {},
   "outputs": [],
   "source": [
    "#  a.Single Inheritance.\n",
    "#  b.Multiple Inheritance.\n",
    "#  c.Multilevel Inheritance.\n",
    "#  d.Hierarchical Inheritance.\n",
    "#  e.Hybrid Inheritance."
   ]
  }
 ],
 "metadata": {
  "kernelspec": {
   "display_name": "Python 3 (ipykernel)",
   "language": "python",
   "name": "python3"
  },
  "language_info": {
   "codemirror_mode": {
    "name": "ipython",
    "version": 3
   },
   "file_extension": ".py",
   "mimetype": "text/x-python",
   "name": "python",
   "nbconvert_exporter": "python",
   "pygments_lexer": "ipython3",
   "version": "3.10.8"
  }
 },
 "nbformat": 4,
 "nbformat_minor": 5
}
