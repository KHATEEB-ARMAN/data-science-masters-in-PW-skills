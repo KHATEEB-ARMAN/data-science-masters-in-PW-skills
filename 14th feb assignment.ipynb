{
 "cells": [
  {
   "cell_type": "markdown",
   "id": "3978e4cc-90e7-4d68-99f1-c102b64aed6c",
   "metadata": {},
   "source": [
    "## 1."
   ]
  },
  {
   "cell_type": "code",
   "execution_count": 3,
   "id": "e7ca480a-c2bb-4542-b764-64f4427d3d55",
   "metadata": {},
   "outputs": [],
   "source": [
    "# A thread is a unit of execution within a process.\n",
    "# Multithreading refers to concurrently executing multiple threads by rapidly switching the control of the CPU between threads."
   ]
  },
  {
   "cell_type": "code",
   "execution_count": 2,
   "id": "33986b5b-6ad9-41a2-875b-f19bca8a5231",
   "metadata": {},
   "outputs": [],
   "source": [
    "# Uses:\n",
    "#  Multithreading (sometimes simply \"threading\") is when a program creates multiple threads with execution cycling among them,\n",
    "#  so one longer-running task doesn't block all the others. This works well for tasks that can be broken down into smaller subtasks,\n",
    "#  which can then each be given to a thread to be completed."
   ]
  },
  {
   "cell_type": "code",
   "execution_count": 1,
   "id": "4b49fc5e-4ff3-4045-a666-e41f181b7711",
   "metadata": {},
   "outputs": [],
   "source": [
    "# \"The threading module\"."
   ]
  },
  {
   "cell_type": "markdown",
   "id": "5914a9a3-d8f0-4317-97c5-a3f247c1c1f5",
   "metadata": {},
   "source": [
    "## 2."
   ]
  },
  {
   "cell_type": "code",
   "execution_count": 4,
   "id": "c1338204-2ba1-4972-b503-ebf936ed8618",
   "metadata": {},
   "outputs": [],
   "source": [
    "# The thread Module. \n",
    "# This method starts a new thread and return its identifier. \n",
    "#The thread executes the function \"function\" (function is a reference to a function)\n",
    "# with the argument list args (which must be a list or a tuple). The optional kwargs argument specifies a dictionary of keyword arguments."
   ]
  },
  {
   "cell_type": "code",
   "execution_count": 5,
   "id": "ca188bcd-e8ed-4145-bf6c-6820fad61baa",
   "metadata": {},
   "outputs": [],
   "source": [
    "# threading.activeCount() − Returns the number of thread objects that are active.\n",
    "# threading.currentThread() − Returns the number of thread objects in the caller's thread control\n",
    "# threading.enumerate()- function takes a collection (e.g. a tuple) and returns it as an enumerate object. "
   ]
  },
  {
   "cell_type": "markdown",
   "id": "3a31b9d8-79cc-42f1-b6c3-1c16a356f527",
   "metadata": {},
   "source": [
    "## 3."
   ]
  },
  {
   "cell_type": "code",
   "execution_count": 6,
   "id": "948e028c-fd74-44a3-88c5-31bf6d807818",
   "metadata": {},
   "outputs": [],
   "source": [
    "# run() − The run() method is the entry point for a thread.\n",
    "\n",
    "#start() − The start() method starts a thread by calling the run method.\n",
    "\n",
    "# join([time]) − The join() waits for threads to terminate.\n",
    "\n",
    "# isAlive() − The isAlive() method checks whether a thread is still executing.\n",
    "\n",
    "# getName() − The getName() method returns the name of a thread.\n",
    "\n",
    "# setName() − The setName() method sets the name of a thread."
   ]
  },
  {
   "cell_type": "markdown",
   "id": "9b0f041a-7ec2-4485-a222-53516fc73b1c",
   "metadata": {},
   "source": [
    "## 4."
   ]
  },
  {
   "cell_type": "code",
   "execution_count": 8,
   "id": "6a556a63-a352-4565-b4f5-143e0f50eda5",
   "metadata": {},
   "outputs": [
    {
     "name": "stdout",
     "output_type": "stream",
     "text": [
      "Square: 100\n",
      "Cube: 1000\n"
     ]
    }
   ],
   "source": [
    "\n",
    "\n",
    "import threading\n",
    "def print_cube(num):\n",
    "    print(\"Cube: {}\" .format(num * num * num))\n",
    "def print_square(num):\n",
    "    print(\"Square: {}\" .format(num * num))\n",
    "if __name__ ==\"__main__\":\n",
    "    t1 =threading.Thread(target=print_square, args=(10,))\n",
    "    t2 =threading.Thread(target=print_cube, args=(10,))\n",
    "    t1.start()\n",
    "    t2.start()\n",
    "    t2.join()\n",
    " \n",
    "   \n"
   ]
  },
  {
   "cell_type": "code",
   "execution_count": null,
   "id": "d928afbc-5c84-4f20-8e1f-86b90afe1898",
   "metadata": {},
   "outputs": [],
   "source": []
  },
  {
   "cell_type": "markdown",
   "id": "895f1f48-357d-4ad5-90e1-a4892598b3a1",
   "metadata": {},
   "source": [
    "## 5."
   ]
  },
  {
   "cell_type": "code",
   "execution_count": null,
   "id": "166ea16d-48b7-4260-a716-7925d3d485b3",
   "metadata": {},
   "outputs": [],
   "source": [
    "#  Disadvantages:\n",
    "#  Difficulty of writing code. Multithreaded and multicontexted applications are not easy to write. ...\n",
    "#  Difficulty of debugging. ...\n",
    "#  Difficulty of managing concurrency. ...\n",
    "#  Difficulty of testing. ...\n",
    "#  Difficulty of porting existing code."
   ]
  },
  {
   "cell_type": "code",
   "execution_count": null,
   "id": "4ce86561-8353-4b17-9d52-50a071463b57",
   "metadata": {},
   "outputs": [],
   "source": [
    "# Advantages:\n",
    "# Threads improve the overall performance of a program.\n",
    "# Context Switching time in threads is faster. \n",
    "# Threads share the same memory and resources within a process.\n",
    "# Communication is faster in threads."
   ]
  },
  {
   "cell_type": "markdown",
   "id": "eac49928-ee72-467d-8eb8-e6a2911a39d4",
   "metadata": {},
   "source": [
    "## 6."
   ]
  },
  {
   "cell_type": "code",
   "execution_count": null,
   "id": "4868e45e-ba26-43d4-a386-90e56ea9d27e",
   "metadata": {},
   "outputs": [],
   "source": [
    "#  deadlock: Two threads hold locks on different resources, each waiting indefinitely for the other to release its lock.\n",
    "#  race condition: Two (or more) threads alter the state of a shared resource concurrently, leaving it in an unpredictable state"
   ]
  },
  {
   "cell_type": "code",
   "execution_count": null,
   "id": "9eadb758-a118-4a25-9e22-4542d3f30345",
   "metadata": {},
   "outputs": [],
   "source": []
  },
  {
   "cell_type": "code",
   "execution_count": null,
   "id": "f440a6ad-4b13-4fe7-9335-67480736b463",
   "metadata": {},
   "outputs": [],
   "source": []
  },
  {
   "cell_type": "code",
   "execution_count": null,
   "id": "664164c0-1e95-4ac6-9be5-73078bee8f8f",
   "metadata": {},
   "outputs": [],
   "source": []
  },
  {
   "cell_type": "code",
   "execution_count": null,
   "id": "53b794c4-c994-4b39-ae51-9999685e219b",
   "metadata": {},
   "outputs": [],
   "source": []
  },
  {
   "cell_type": "code",
   "execution_count": null,
   "id": "762ef4f5-c92c-4596-90b2-e1980bd0702c",
   "metadata": {},
   "outputs": [],
   "source": []
  },
  {
   "cell_type": "code",
   "execution_count": null,
   "id": "37b72960-ab8c-4ced-909e-921c7541efd7",
   "metadata": {},
   "outputs": [],
   "source": []
  },
  {
   "cell_type": "code",
   "execution_count": null,
   "id": "b7740c8b-1ccc-41a5-9bd6-115572f4523f",
   "metadata": {},
   "outputs": [],
   "source": []
  },
  {
   "cell_type": "code",
   "execution_count": null,
   "id": "48de8be8-3d6d-4e9c-8664-72a2da948b35",
   "metadata": {},
   "outputs": [],
   "source": []
  },
  {
   "cell_type": "code",
   "execution_count": null,
   "id": "c1df33a4-96d6-4929-a157-c1ce239d2d28",
   "metadata": {},
   "outputs": [],
   "source": []
  }
 ],
 "metadata": {
  "kernelspec": {
   "display_name": "Python 3 (ipykernel)",
   "language": "python",
   "name": "python3"
  },
  "language_info": {
   "codemirror_mode": {
    "name": "ipython",
    "version": 3
   },
   "file_extension": ".py",
   "mimetype": "text/x-python",
   "name": "python",
   "nbconvert_exporter": "python",
   "pygments_lexer": "ipython3",
   "version": "3.10.8"
  }
 },
 "nbformat": 4,
 "nbformat_minor": 5
}
