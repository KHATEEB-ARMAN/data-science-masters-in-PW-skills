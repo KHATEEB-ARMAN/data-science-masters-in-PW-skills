{
 "cells": [
  {
   "cell_type": "markdown",
   "id": "5e6a8cc1-3848-4900-b115-dee59d44a141",
   "metadata": {},
   "source": [
    "## 1."
   ]
  },
  {
   "cell_type": "code",
   "execution_count": null,
   "id": "471bd93f-59c2-47d3-ae07-18bab07947c8",
   "metadata": {},
   "outputs": [],
   "source": [
    "## A probability mass function (pmf) is a function over the sample space of a discrete random variable X which gives the probability that X is equal to a certain value.\n",
    "##  f(x)=P[X=x]. f ( x ) = P [ X = x ] ."
   ]
  },
  {
   "cell_type": "code",
   "execution_count": 1,
   "id": "4ed4965b-d06c-468c-8a68-4649d6df4a2f",
   "metadata": {},
   "outputs": [],
   "source": [
    "## Ex:\n",
    "\n",
    "# Let X be the random variable that shows how many heads are obtained. X can take on the values 0, 1, 2.\n",
    "## The probability that X will be equal to 1 is 0.5. Thus, it can be said that the probability mass function of X evaluated at 1 will be 0.5."
   ]
  },
  {
   "cell_type": "code",
   "execution_count": null,
   "id": "0dabc1a0-c740-40bc-9a44-f6d3fc533620",
   "metadata": {},
   "outputs": [],
   "source": [
    "## The Probability Density Function(PDF) defines the probability function representing the density of a continuous random variable lying between a specific range of values.\n",
    "## In other words, the probability density function produces the likelihood of values of the continuous random variable"
   ]
  },
  {
   "cell_type": "markdown",
   "id": "16ee65d8-7353-4697-a2f0-9f3228d2b7fc",
   "metadata": {},
   "source": [
    "## 2."
   ]
  },
  {
   "cell_type": "code",
   "execution_count": 2,
   "id": "9da6b3e8-07f4-4cd6-877a-fea2ac4eb7a3",
   "metadata": {},
   "outputs": [],
   "source": [
    "# A cumulative distribution function (CDF) describes the probabilities of a random variable having values less than or equal to x.\n",
    "# It is a cumulative function because it sums the total likelihood up to that point. Its output always ranges between 0 and 1.\n",
    "# CDFs have the following definition: CDF(x) = P(X ≤ x)"
   ]
  },
  {
   "cell_type": "code",
   "execution_count": 3,
   "id": "0826c097-52fa-4fc3-9921-fe4d3cd9e9f8",
   "metadata": {},
   "outputs": [],
   "source": [
    "# The cumulative distribution function is used to describe the probability distribution of random variables.\n",
    "#It can be used to describe the probability for a discrete, continuous or mixed variable.\n",
    "# It is obtained by summing up the probability density function and getting the cumulative probability for a random variable"
   ]
  },
  {
   "cell_type": "markdown",
   "id": "efa47ea1-0b20-43f7-b971-99fb8258e921",
   "metadata": {},
   "source": [
    "## 3."
   ]
  },
  {
   "cell_type": "code",
   "execution_count": 4,
   "id": "9ec4c0d8-7577-472d-8d9b-6326c935a0ae",
   "metadata": {},
   "outputs": [],
   "source": [
    "# 1. Birthweight of Babies.\n",
    "# 2. Height of Males.\n",
    "# 3. Blood Pressure."
   ]
  },
  {
   "cell_type": "code",
   "execution_count": 5,
   "id": "b9f7dbaa-f2f7-44a9-a0d3-f42b23777d79",
   "metadata": {},
   "outputs": [],
   "source": [
    "# The two main parameters of a (normal) distribution are the mean and standard deviation.\n",
    "# The parameters determine the shape and probabilities of the distribution. The shape of the distribution changes as the parameter values change."
   ]
  },
  {
   "cell_type": "markdown",
   "id": "85e842cd-1f6a-4208-a4e7-aa4f90e9771c",
   "metadata": {},
   "source": [
    "## 4."
   ]
  },
  {
   "cell_type": "code",
   "execution_count": 6,
   "id": "deb4c726-0b48-4705-88d6-016c5cd31d0f",
   "metadata": {},
   "outputs": [],
   "source": [
    "# As with any probability distribution, the normal distribution describes how the values of a variable are distributed.\n",
    "# It is the most important probability distribution in statistics because it accurately describes the distribution of values for many natural phenomena."
   ]
  },
  {
   "cell_type": "code",
   "execution_count": 7,
   "id": "72348e02-e607-4728-bca0-576d2d15a4a8",
   "metadata": {},
   "outputs": [],
   "source": [
    "# 1. Birthweight of Babies.\n",
    "# 2. Height of Males.\n",
    "# 3. Blood Pressure."
   ]
  },
  {
   "cell_type": "markdown",
   "id": "8b24c423-dd88-42ad-b95a-e85f5b2bbd73",
   "metadata": {},
   "source": [
    "## 5."
   ]
  },
  {
   "cell_type": "code",
   "execution_count": 1,
   "id": "586fef17-bace-4c85-a9f5-6cb5c6db5732",
   "metadata": {},
   "outputs": [],
   "source": [
    "# Bernoulli distribution is a discrete probability distribution. It describes the probability of achieving a “success” or “failure” from a Bernoulli trial.\n",
    "# A Bernoulli trial is an event that has only two possible outcomes (success or failure). For example, will a coin land on heads (success) or tails (failure)."
   ]
  },
  {
   "cell_type": "code",
   "execution_count": 3,
   "id": "d86eb131-ed9a-48f3-acbf-625748287242",
   "metadata": {},
   "outputs": [],
   "source": [
    "# The Bernoulli distribution represents the success or failure of a single Bernoulli trial.\n",
    "\n",
    "# The Binomial Distribution represents the number of successes and failures in n independent Bernoulli trials for some given value of n."
   ]
  },
  {
   "cell_type": "markdown",
   "id": "24be2335-425c-4d92-9411-f50fd6fa990f",
   "metadata": {},
   "source": [
    "## 7."
   ]
  },
  {
   "cell_type": "code",
   "execution_count": 4,
   "id": "6eae4b5e-e115-4934-bce5-96c1c1a9cffe",
   "metadata": {},
   "outputs": [],
   "source": [
    "# In statistics, uniform distribution refers to a type of probability distribution in which all outcomes are equally likely. "
   ]
  },
  {
   "cell_type": "code",
   "execution_count": 5,
   "id": "d240dd19-9ece-4073-8b7f-dbbaff6dcf60",
   "metadata": {},
   "outputs": [],
   "source": [
    "# A deck of cards has within it uniform distributions because the likelihood of drawing a heart, a club, a diamond, or a spade is equally likely."
   ]
  },
  {
   "cell_type": "markdown",
   "id": "65189a35-f702-4e15-9c27-4b4c3572c2db",
   "metadata": {},
   "source": [
    "# 8."
   ]
  },
  {
   "cell_type": "code",
   "execution_count": 6,
   "id": "9ffa2888-1a44-4e16-85c7-f666a4664e25",
   "metadata": {},
   "outputs": [],
   "source": [
    "#Z-score indicates how much a given value differs from the standard deviation. The Z-score, or standard score,\n",
    "# is the number of standard deviations a given data point lies above or below mean.\n",
    "# Standard deviation is essentially a reflection of the amount of variability within a given data set."
   ]
  },
  {
   "cell_type": "code",
   "execution_count": 7,
   "id": "63f30422-a1c5-446d-b614-89284d357125",
   "metadata": {},
   "outputs": [],
   "source": [
    "# z-score is important because it tells where your data lies in the data distribution.\n",
    "# For example, if a z-score is 1.5, it is 1.5 standard deviations away from the mean"
   ]
  },
  {
   "cell_type": "markdown",
   "id": "b2982b13-2170-4276-b8f3-e4279dd6011a",
   "metadata": {},
   "source": [
    "## 9."
   ]
  },
  {
   "cell_type": "code",
   "execution_count": 8,
   "id": "1cce02f2-21f1-4a71-a53b-77c45951b5e1",
   "metadata": {},
   "outputs": [],
   "source": [
    "# The CLT is a statistical theory that states that - if you take a sufficiently large sample size from a population with a finite level of variance,\n",
    "# the mean of all samples from that population will be roughly equal to the population mean."
   ]
  },
  {
   "cell_type": "code",
   "execution_count": 9,
   "id": "b9a157a9-7c12-43c3-9e7a-77500ae85aef",
   "metadata": {},
   "outputs": [],
   "source": [
    "# The central limit theorem says that the sampling distribution of the mean will always be normally distributed, as long as the sample size is large enough.\n",
    "# Regardless of whether the population has a normal, Poisson, binomial, or any other distribution, the sampling distribution of the mean will be normal"
   ]
  },
  {
   "cell_type": "markdown",
   "id": "de746c11-fecf-4f57-9b82-46f99dd6d0b3",
   "metadata": {},
   "source": [
    "## 10."
   ]
  },
  {
   "cell_type": "code",
   "execution_count": null,
   "id": "398b7b12-430a-42ae-b731-b478e5e5eb77",
   "metadata": {},
   "outputs": [],
   "source": [
    "# The data must adhere to the randomization rule. It needs to be sampled at random.\n",
    "# The samples should be unrelated to one another. One sample should not impact the others."
   ]
  }
 ],
 "metadata": {
  "kernelspec": {
   "display_name": "Python 3 (ipykernel)",
   "language": "python",
   "name": "python3"
  },
  "language_info": {
   "codemirror_mode": {
    "name": "ipython",
    "version": 3
   },
   "file_extension": ".py",
   "mimetype": "text/x-python",
   "name": "python",
   "nbconvert_exporter": "python",
   "pygments_lexer": "ipython3",
   "version": "3.10.8"
  }
 },
 "nbformat": 4,
 "nbformat_minor": 5
}
