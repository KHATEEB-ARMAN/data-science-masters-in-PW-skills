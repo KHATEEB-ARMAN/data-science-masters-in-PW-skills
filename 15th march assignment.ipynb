{
 "cells": [
  {
   "cell_type": "code",
   "execution_count": 1,
   "id": "dabfc7df-d3d8-46c6-8116-ef384f656da7",
   "metadata": {},
   "outputs": [],
   "source": [
    "# Artificial intelligence is the simulation of human intelligence processes by machines, especially computer systems.\n",
    "# Specific applications of AI include expert systems, natural language processing, speech recognition and machine vision.\n",
    "\n",
    "# EX:\n",
    "# Self-driving cars.\n",
    "# Manufacturing robots.\n",
    "# Marketing chatbots."
   ]
  },
  {
   "cell_type": "code",
   "execution_count": null,
   "id": "fba9267a-50ca-4083-bf4c-d79f5805611b",
   "metadata": {},
   "outputs": [],
   "source": [
    "# Machine learning is a branch of artificial intelligence (AI) and computer science which focuses on the use of data and algorithms to imitate the way that humans learn,\n",
    "# gradually improving its accuracy.\n",
    "\n",
    "# EX:\n",
    "# Financial accuracy.\n",
    "# Social media optimization.\n",
    "# Healthcare advancement.  "
   ]
  },
  {
   "cell_type": "code",
   "execution_count": null,
   "id": "3ee78f93-1a21-4ead-aaa9-fff9541b8e45",
   "metadata": {},
   "outputs": [],
   "source": [
    "# Deep learning is a method in artificial intelligence (AI) that teaches computers to process data in a way that is inspired by the human brain.\n",
    "# Deep learning models can recognize complex patterns in pictures, text, sounds, and other data to produce accurate insights and predictions.\n",
    "\n",
    "# Ex:\n",
    "# Radial Function Networks.\n",
    "# Multilayer Perceptrons.\n",
    "# Self Organizing Maps.\n",
    "# Convolutional Neural Networks."
   ]
  },
  {
   "cell_type": "markdown",
   "id": "91c5256d-aceb-4896-b4df-b96188f27408",
   "metadata": {},
   "source": [
    "## 2."
   ]
  },
  {
   "cell_type": "code",
   "execution_count": null,
   "id": "a4408a73-d819-4dc4-b11a-0877f85af7c8",
   "metadata": {},
   "outputs": [],
   "source": [
    "# Supervised learning is a process of providing input data as well as correct output data to the machine learning model.\n",
    "# The aim of a supervised learning algorithm is to find a mapping function to map the input variable(x) with the output variable(y).\n",
    "\n",
    "\n",
    "# Ex:\n",
    "# Credit Scoring. \n",
    "# Voice Recognition. \n",
    "# Regression. \n",
    "# Naive Bayes.\n",
    "# Classification.\n",
    "# Neutral Networks.\n",
    "# Random Forest. "
   ]
  },
  {
   "cell_type": "markdown",
   "id": "1915bba6-27c7-44b0-842f-271c54e5423b",
   "metadata": {},
   "source": [
    "## 3."
   ]
  },
  {
   "cell_type": "code",
   "execution_count": null,
   "id": "436c3f76-486e-4c27-97df-fa3b91c5164b",
   "metadata": {},
   "outputs": [],
   "source": [
    "# Unsupervised learning is a type of machine learning in which models are trained using unlabeled dataset and are allowed to act on that data without any supervision.\n",
    "\n",
    "# EX:\n",
    "# Organize computing clusters\n",
    "# Social network analysis \n",
    "# Market segmentation"
   ]
  },
  {
   "cell_type": "markdown",
   "id": "32a8866f-bb4a-4431-b35f-653938ea325f",
   "metadata": {},
   "source": [
    "## 4."
   ]
  },
  {
   "cell_type": "code",
   "execution_count": null,
   "id": "775a18d9-8acb-4ef9-98c1-3eb24712db0e",
   "metadata": {},
   "outputs": [],
   "source": [
    "#🔹Artificial Intelligence (AI) enables machines to think by understanding, learning from the data, and taking decisions based on patterns hidden in the data or\n",
    "# make inferences that would otherwise be very difficult for humans to make manually. The end goal of using ML or DL is to create an AI application or machine as\n",
    "# smart as humans.\n",
    "\n",
    "#🔹Machine Learning (ML) is a subset of AI; it provides us statistical tools/techniques like Supervised, Unsupervised, and Reinforcement learning to explore and\n",
    "# analyze the data.\n",
    "\n",
    "#🔹Deep Learning (DL) is further a subset of ML, and the main idea behind it is to make machines learn by mimicking the human brain. Here, we create a multi neural\n",
    "# network architecture with the help of different techniques like ANN, CNN, and RNN.\n",
    "\n",
    "#🔹Data Science (DS) is basically drawing insights from structured and unstructured data either by using ML or DL or without these techniques. We can even use different\n",
    "# visualization tools, statistics, and probability to gain these insights."
   ]
  },
  {
   "cell_type": "markdown",
   "id": "04bdf6c8-feaf-44c8-886e-79db467668b8",
   "metadata": {},
   "source": [
    "## 5."
   ]
  },
  {
   "cell_type": "code",
   "execution_count": null,
   "id": "930fd5a1-4eb3-44bc-ad81-929c131aaf09",
   "metadata": {},
   "outputs": [],
   "source": [
    "# Supervised learning is the process where you have input variables (X) and an output variable (Y) and you use an algorithm to learn the mapping function from\n",
    "# the input to the output.\n",
    "# Y = f(X).\n",
    "\n",
    "# Strengths: Outputs always have a probabilistic interpretation, and the algorithm can be regularized to avoid overfitting.\n",
    "# Weaknesses: Logistic regression may underperform when there are multiple or non-linear decision boundaries.\n",
    "#           This method is not flexible, so it does not capture more complex relationships.\n",
    "\n",
    "# Unsupervised learning is a machine learning technique, where you do not need to supervise the model.\n",
    "# Instead, you need to allow the model to work on its own to discover information. It mainly deals with the unlabeled data.\n",
    "\n",
    "# Semi supervised earning, the algorithm is trained upon a combination of labeled and unlabeled data.\n",
    "# Typically, this combination will contain a very small amount of labeled data and a very large amount of unlabeled data. \n"
   ]
  },
  {
   "cell_type": "markdown",
   "id": "b4f443b6-d9b6-44f7-a8bc-72edc51de1b2",
   "metadata": {},
   "source": [
    "## 6."
   ]
  },
  {
   "cell_type": "code",
   "execution_count": null,
   "id": "ca0223eb-4f22-4433-ae30-d4e5acae16c6",
   "metadata": {},
   "outputs": [],
   "source": [
    "# Training data is the set of the data on which the actual training takes place.\n",
    "\n",
    "\n",
    "# Validation: split helps to improve the model performance by fine-tuning the model after each epoch.\n",
    "# The validation set evaluates the model's performance on unseen data and is useful when tuning the model's hyperparameters\n",
    "\n",
    "\n",
    "# The test: set informs us about the final accuracy of the model after completing the training phase.\n",
    "# The testing set evaluates how well the tuned model can make predictions on unseen data."
   ]
  },
  {
   "cell_type": "markdown",
   "id": "2fca16c5-3555-42e5-8b17-db1c8e2a568f",
   "metadata": {},
   "source": [
    "## 7."
   ]
  },
  {
   "cell_type": "code",
   "execution_count": null,
   "id": "be90f93d-60cf-458d-899c-b2b2a8ebff77",
   "metadata": {},
   "outputs": [],
   "source": [
    "# Even in just two dimensions, the algorithms meaningfully separated the digits, without using labels.\n",
    "# This is the power of unsupervised learning algorithms—they can learn the underlying structure of data and help discover hidden patterns in the absence of labels."
   ]
  },
  {
   "cell_type": "markdown",
   "id": "46bcf87a-69e0-4a85-a144-34770988f72b",
   "metadata": {},
   "source": [
    "## 8."
   ]
  },
  {
   "cell_type": "code",
   "execution_count": null,
   "id": "85b18b10-f17f-40e5-ae22-94c79294c27a",
   "metadata": {},
   "outputs": [],
   "source": [
    "# unsupervised learning algorithm: (1) Clustering, (2) Anomaly detection, (3) Approaches for learning latent variable models. "
   ]
  },
  {
   "cell_type": "code",
   "execution_count": null,
   "id": "fe61c859-15be-409b-ad51-d5893c792440",
   "metadata": {},
   "outputs": [],
   "source": [
    "# Supervised learning algorith:\n",
    "\n",
    "# Linear regression for regression problems.\n",
    "#cRandom forest for classification and regression problems.\n",
    "# Support vector machines for classification problems."
   ]
  },
  {
   "cell_type": "code",
   "execution_count": null,
   "id": "964621ae-f368-43cf-965d-04871a8a7856",
   "metadata": {},
   "outputs": [],
   "source": []
  },
  {
   "cell_type": "code",
   "execution_count": null,
   "id": "dd581b39-27b1-447f-9c88-d7348fea8088",
   "metadata": {},
   "outputs": [],
   "source": []
  },
  {
   "cell_type": "code",
   "execution_count": null,
   "id": "6c3ce57c-4bff-4399-920d-8195bec49fcd",
   "metadata": {},
   "outputs": [],
   "source": []
  },
  {
   "cell_type": "code",
   "execution_count": null,
   "id": "c8648185-df84-41d9-83ed-b8fea98e1b5c",
   "metadata": {},
   "outputs": [],
   "source": []
  }
 ],
 "metadata": {
  "kernelspec": {
   "display_name": "Python 3 (ipykernel)",
   "language": "python",
   "name": "python3"
  },
  "language_info": {
   "codemirror_mode": {
    "name": "ipython",
    "version": 3
   },
   "file_extension": ".py",
   "mimetype": "text/x-python",
   "name": "python",
   "nbconvert_exporter": "python",
   "pygments_lexer": "ipython3",
   "version": "3.10.8"
  }
 },
 "nbformat": 4,
 "nbformat_minor": 5
}
