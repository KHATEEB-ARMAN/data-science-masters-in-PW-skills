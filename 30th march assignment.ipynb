{
 "cells": [
  {
   "cell_type": "markdown",
   "id": "4ba867cd-3a74-49ce-a6cc-de9d6082017a",
   "metadata": {},
   "source": [
    "## 1."
   ]
  },
  {
   "cell_type": "code",
   "execution_count": null,
   "id": "ee62de5d-6e5f-48da-af54-86809e8e78b2",
   "metadata": {},
   "outputs": [],
   "source": [
    "# Elastic net regression is a type of linear regression that combines the advantages of lasso and ridge methods.\n",
    "# elastic net can generate reduced models by generating zero-valued coefficients. Empirical studies have suggested that the elastic\n",
    "# net technique can outperform lasso on data with highly correlated predictors."
   ]
  },
  {
   "cell_type": "markdown",
   "id": "f849ab79-e908-4c53-92e2-383907e792b1",
   "metadata": {},
   "source": [
    "## 2."
   ]
  },
  {
   "cell_type": "code",
   "execution_count": null,
   "id": "4d1e1f7a-9f2e-4cce-8625-8b36e540cca5",
   "metadata": {},
   "outputs": [],
   "source": [
    "# on the training set, we estimate several different Ridge regressions, with different values of the regularization parameter; \n",
    "# on the validation set, we choose the best model (the regularization parameter which gives the lowest MSE on the validation set)."
   ]
  },
  {
   "cell_type": "markdown",
   "id": "90177dbd-2ed9-4490-ab7d-6e384e7f8083",
   "metadata": {},
   "source": [
    "## 3."
   ]
  },
  {
   "cell_type": "code",
   "execution_count": null,
   "id": "d6dc6c8b-7581-44b8-846c-31b1677ca3e0",
   "metadata": {},
   "outputs": [],
   "source": [
    "# For instance, it can handle multicollinearity better than lasso regression by grouping correlated features and selecting the most\n",
    "# representative ones. Additionally, it can reduce model complexity by eliminating irrelevant features, which is more effective than ridge regression."
   ]
  },
  {
   "cell_type": "code",
   "execution_count": null,
   "id": "cbf407ca-582e-4128-a0f6-f33a023a262e",
   "metadata": {},
   "outputs": [],
   "source": [
    "# Lasso can suffer from instability and inconsistency when there is multicollinearity, as it may arbitrarily select one predictor over another."
   ]
  },
  {
   "cell_type": "markdown",
   "id": "32877261-0bf0-47a9-827f-b7e7cc314b98",
   "metadata": {},
   "source": [
    "## 4."
   ]
  },
  {
   "cell_type": "code",
   "execution_count": null,
   "id": "927b80cb-3d6e-4211-8acb-4baea1690f45",
   "metadata": {},
   "outputs": [],
   "source": [
    "# Elastic net linear regression uses the penalties from both the lasso and ridge techniques to regularize regression models.\n",
    "# The technique combines both the lasso and ridge regression methods by learning from their shortcomings to improve the regularization of \n",
    "# statistical models."
   ]
  },
  {
   "cell_type": "markdown",
   "id": "8b313c90-4d22-4394-9a40-72bcad77e7c7",
   "metadata": {},
   "source": [
    "## 5."
   ]
  },
  {
   "cell_type": "code",
   "execution_count": null,
   "id": "b3ff080a-6284-401d-bf98-08d82e59d5c5",
   "metadata": {},
   "outputs": [],
   "source": [
    "# The coefficients of elastic net regression represent the linear relationship between the features and the target variable,\n",
    "# adjusted by the regularization terms. The larger the absolute value of a coefficient, the stronger the effect of the corresponding feature on \n",
    "# the target variable."
   ]
  },
  {
   "cell_type": "markdown",
   "id": "1ea581ba-19e5-43b9-bee3-73409b7f4db5",
   "metadata": {},
   "source": [
    "## 6."
   ]
  },
  {
   "cell_type": "code",
   "execution_count": null,
   "id": "38a39223-95ee-4502-9eef-871c1814d9b9",
   "metadata": {},
   "outputs": [],
   "source": [
    "# Pairwise deletion is a method of handling missing values where only the observations with complete data are used in each pairwise correlation\n",
    "# or regression analysis. This method assumes that the missing data is MCAR, and it is appropriate when the missing data is not too large"
   ]
  },
  {
   "cell_type": "markdown",
   "id": "ea22ceb1-45bf-4a4f-a01f-5d81ec7ea366",
   "metadata": {},
   "source": [
    "## 7."
   ]
  },
  {
   "cell_type": "code",
   "execution_count": null,
   "id": "7b0613bb-206b-4548-828a-1278a31a30ae",
   "metadata": {},
   "outputs": [],
   "source": [
    "# The coefficients that are zero indicate that the corresponding features are not relevant for the model, and they are eliminated by the\n",
    "# lasso penalty. Therefore, you can use the coefficients of elastic net regression to rank the features by their importance and select the \n",
    "# ones that have non-zero coefficients."
   ]
  },
  {
   "cell_type": "markdown",
   "id": "dd6c7c17-9437-40d3-9ff5-3a510b6df727",
   "metadata": {},
   "source": [
    "## 8."
   ]
  },
  {
   "cell_type": "code",
   "execution_count": 3,
   "id": "4c18c0df-5d91-4816-8e04-7f0342b93fa4",
   "metadata": {},
   "outputs": [],
   "source": [
    "# Using pickle , simply save your model on disc with dump() function and de-pickle it into your python code with load() function.\n",
    "# Use open() function to create and/or read from a . pkl file and make sure you open the file in the binary format by wb for write\n",
    "# and rb for read mode.\n",
    "# pickle.dump(regressor, open('model.pkl','wb'))"
   ]
  },
  {
   "cell_type": "markdown",
   "id": "cba297e1-2ca0-41ae-8515-eeda234c27c9",
   "metadata": {},
   "source": [
    "## 9."
   ]
  },
  {
   "cell_type": "code",
   "execution_count": null,
   "id": "ca00a94e-e1a0-4ffe-ac38-db4915f3b187",
   "metadata": {},
   "outputs": [],
   "source": [
    "# Pickle is a useful Python tool that allows you to save your ML models, to minimise lengthy re-training and allow you to share,\n",
    "# commit, and re-load pre-trained machine learning models. Most data scientists working in ML will use Pickle or Joblib to save their ML model \n",
    "# for future use."
   ]
  }
 ],
 "metadata": {
  "kernelspec": {
   "display_name": "Python 3 (ipykernel)",
   "language": "python",
   "name": "python3"
  },
  "language_info": {
   "codemirror_mode": {
    "name": "ipython",
    "version": 3
   },
   "file_extension": ".py",
   "mimetype": "text/x-python",
   "name": "python",
   "nbconvert_exporter": "python",
   "pygments_lexer": "ipython3",
   "version": "3.10.8"
  }
 },
 "nbformat": 4,
 "nbformat_minor": 5
}
