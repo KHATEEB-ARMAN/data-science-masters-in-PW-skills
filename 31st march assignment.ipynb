{
 "cells": [
  {
   "cell_type": "markdown",
   "id": "6a01d22e-5b54-407d-a518-631b9ec7a165",
   "metadata": {},
   "source": [
    "## 1."
   ]
  },
  {
   "cell_type": "code",
   "execution_count": 6,
   "id": "9b92006a-54a1-4325-aa7a-5e26b4e90b93",
   "metadata": {},
   "outputs": [],
   "source": [
    "# 1: Idea Generation and Requirement Analysis. Everything starts with an idea. \n",
    "# 2: Planning and Designing. \n",
    "# 3: Selecting the Right Technologies. \n",
    "# 4: Development. \n",
    "# 5: Testing. \n",
    "# 6: Deployment. \n",
    "# 7 :Maintenance and Updates."
   ]
  },
  {
   "cell_type": "markdown",
   "id": "842a0992-4c86-4ce4-a9d5-90acf4138aad",
   "metadata": {},
   "source": [
    "## 2."
   ]
  },
  {
   "cell_type": "code",
   "execution_count": 7,
   "id": "b262dbb6-330d-4f71-b008-972fc22606b2",
   "metadata": {},
   "outputs": [],
   "source": [
    "# Traditional hosting comes mainly in two forms, dedicated and shared. With dedicated hosting, a company pays for the complete resources\n",
    "# of one or more servers from a service provider. The client has a set amount of dedicated bandwidth, CPU, RAM, and drive space, and the client\n",
    "# has full control over the servers resources."
   ]
  },
  {
   "cell_type": "code",
   "execution_count": 8,
   "id": "c630e456-c78f-4fbb-8904-e00b32305897",
   "metadata": {},
   "outputs": [],
   "source": [
    "# Cloud hosting offers a level of scalability that traditional hosting can’t. Cloud hosting companies provide virtual space on an on-demand,\n",
    "# as-needed basis. Instead of paying for a set amount of space upfront on a single server, the user pays as they go for what they actually use."
   ]
  },
  {
   "cell_type": "markdown",
   "id": "f7d9610a-799f-440d-b6dc-7b7b8e3f45ca",
   "metadata": {},
   "source": [
    "## 3."
   ]
  },
  {
   "cell_type": "code",
   "execution_count": 9,
   "id": "c0720526-aafc-4618-89ea-fe58c332a935",
   "metadata": {},
   "outputs": [
    {
     "data": {
      "text/plain": [
       "' \\n1. Certifications & Standards\\n2.  Technologies & Service Roadmap\\n3.  Data Security, Data Governance and Business policies\\n4.  Service Dependencies & Partnerships\\n5.  Contracts, Commercials & SLAs\\n6.  Reliability & Performance\\n7.  Migration Support, Vendor Lock in & Exit Planning\\n8.  Business health & Company profile \\n'"
      ]
     },
     "execution_count": 9,
     "metadata": {},
     "output_type": "execute_result"
    }
   ],
   "source": [
    "\"\"\" \n",
    "1. Certifications & Standards\n",
    "2.  Technologies & Service Roadmap\n",
    "3.  Data Security, Data Governance and Business policies\n",
    "4.  Service Dependencies & Partnerships\n",
    "5.  Contracts, Commercials & SLAs\n",
    "6.  Reliability & Performance\n",
    "7.  Migration Support, Vendor Lock in & Exit Planning\n",
    "8.  Business health & Company profile \n",
    "\"\"\""
   ]
  },
  {
   "cell_type": "code",
   "execution_count": 10,
   "id": "7aa4e061-e9c6-4d3e-adeb-c9d2e2b767fa",
   "metadata": {},
   "outputs": [],
   "source": [
    "## 4."
   ]
  },
  {
   "cell_type": "code",
   "execution_count": 11,
   "id": "31583241-bd99-4cd6-8a3e-29ce205685d1",
   "metadata": {},
   "outputs": [],
   "source": [
    "# Eliminate Friction. \n",
    "# Design for Thumbs. \n",
    "# Take Advantage of Mobile Devices' Native Hardware. \n",
    "# Make Layouts Fluid/Adaptive by Default. \n",
    "# Don't Forget About Landscape Orientation. \n",
    "# Remember, Typography Can Be Responsive Too. \n",
    "# Lazy Load Non-vital Images and Videos. "
   ]
  },
  {
   "cell_type": "markdown",
   "id": "6c69e0db-71f8-4672-a43e-3781e3e361ec",
   "metadata": {},
   "source": [
    "## 5."
   ]
  },
  {
   "cell_type": "code",
   "execution_count": 12,
   "id": "5ebe081b-2b2c-4c92-be42-cf879997d5ef",
   "metadata": {},
   "outputs": [],
   "source": [
    "# Importing necessary libraries\n",
    "# Exploratory data analysis\n",
    "# Data cleaning\n",
    "# Model development (RandomForestRegressor)\n",
    "# Tuning the model (RandomSearchCV)"
   ]
  },
  {
   "cell_type": "code",
   "execution_count": 13,
   "id": "9e9f823d-4c18-4b07-9102-c2c783b33be7",
   "metadata": {},
   "outputs": [],
   "source": [
    "## Libraries...\n",
    "\n",
    "\n",
    "import pandas as pd\n",
    "import numpy as np\n",
    "import seaborn as sns\n",
    "import matplotlib.pyplot as plt\n",
    "%matplotlib inline \n",
    "\n",
    "from sklearn.model_selection import train_test_split\n",
    "from sklearn.metrics import accuracy_score, classification_report\n",
    "from sklearn.ensemble import RandomForestRegressor"
   ]
  }
 ],
 "metadata": {
  "kernelspec": {
   "display_name": "Python 3 (ipykernel)",
   "language": "python",
   "name": "python3"
  },
  "language_info": {
   "codemirror_mode": {
    "name": "ipython",
    "version": 3
   },
   "file_extension": ".py",
   "mimetype": "text/x-python",
   "name": "python",
   "nbconvert_exporter": "python",
   "pygments_lexer": "ipython3",
   "version": "3.10.8"
  }
 },
 "nbformat": 4,
 "nbformat_minor": 5
}
