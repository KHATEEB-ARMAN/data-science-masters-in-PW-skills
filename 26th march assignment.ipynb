{
 "cells": [
  {
   "cell_type": "markdown",
   "id": "c647616f-c238-4a95-94a8-628760777f39",
   "metadata": {},
   "source": [
    "## 1."
   ]
  },
  {
   "cell_type": "code",
   "execution_count": null,
   "id": "11b38e28-e0d1-4fb8-bf40-e6e2d74c8b02",
   "metadata": {},
   "outputs": [],
   "source": [
    "# Simple linear regression has only one x and one y variable. Multiple linear regression has one y and two or more x variables.\n",
    "# Simple regression establishes the relationship between one dependent variable and one independent variable.\n",
    "# EX:\n",
    "#    A simple linear regression real life example could mean you finding a relationship between the revenue and temperature,\n",
    "#    with a sample size for revenue as the dependent variable. "
   ]
  },
  {
   "cell_type": "code",
   "execution_count": null,
   "id": "f255fac9-6be0-4de8-ae6b-f08725430602",
   "metadata": {},
   "outputs": [],
   "source": [
    "# Multiple linear regression has one y and two or more x variables.\n",
    "# Multiple regression establishes the relationship between one dependent variable and more than one/ multiple independent variables."
   ]
  },
  {
   "cell_type": "markdown",
   "id": "ed0ed30b-630d-4791-b8c6-9cc5a708379f",
   "metadata": {},
   "source": [
    "## 2."
   ]
  },
  {
   "cell_type": "code",
   "execution_count": null,
   "id": "c1f2d761-c4d1-46c5-82ee-0fe89e7d9a3b",
   "metadata": {},
   "outputs": [],
   "source": [
    "# 1. There is a linear relationship between the predictors (x) and the outcome (y).\n",
    "# 2. Predictors (x) are independent and observed with negligible error.\n",
    "# 3. Residual Errors have a mean value of zero.\n",
    "# 4. Residual Errors have constant variance.\n",
    "# 5. Residual Errors are independent from each other and predictors (x)."
   ]
  },
  {
   "cell_type": "markdown",
   "id": "609f89c6-3a8c-4491-ae3a-c3d0677bd230",
   "metadata": {},
   "source": [
    "## 3."
   ]
  },
  {
   "cell_type": "code",
   "execution_count": null,
   "id": "af14c6d4-dd70-457b-a5a8-7f504a43952b",
   "metadata": {},
   "outputs": [],
   "source": [
    "# The slope indicates the steepness of a line and the intercept indicates the location where it intersects an axis.\n",
    "# The slope and the intercept define the linear relationship between two variables,\n",
    "# and can be used to estimate an average rate of change."
   ]
  },
  {
   "cell_type": "code",
   "execution_count": 1,
   "id": "8d3b7200-80c7-4819-b5f5-18971586ebf6",
   "metadata": {},
   "outputs": [],
   "source": [
    "# EX:\n",
    "#     for example, the slope is 2, you can write this as 2/1 and say that as you move along the line,\n",
    "#     as the value of the X variable increases by 1, the value of the Y variable increases by 2."
   ]
  },
  {
   "cell_type": "markdown",
   "id": "8676ab08-0a2e-4ed8-983e-975b2892219d",
   "metadata": {},
   "source": [
    "## 4."
   ]
  },
  {
   "cell_type": "code",
   "execution_count": null,
   "id": "f5602c08-f947-432e-adea-7c1523a1e565",
   "metadata": {},
   "outputs": [],
   "source": [
    "# Gradient descent is an optimization algorithm which is commonly-used to train machine learning models and neural networks.\n",
    "# Training data helps these models learn over time, and the cost function within gradient descent specifically acts as a barometer,\n",
    "# gauging its accuracy with each iteration of parameter updates."
   ]
  },
  {
   "cell_type": "markdown",
   "id": "826af766-e2c4-4258-92c2-5c81edcdb6a8",
   "metadata": {},
   "source": [
    "## 5."
   ]
  },
  {
   "cell_type": "code",
   "execution_count": null,
   "id": "ee8e625a-1723-4d73-b84d-267da1afc43b",
   "metadata": {},
   "outputs": [],
   "source": [
    "# Multiple regression is a broader class of regressions that encompasses linear and nonlinear regressions with multiple\n",
    "#  explanatory variables."
   ]
  },
  {
   "cell_type": "code",
   "execution_count": null,
   "id": "e81e9af4-2fc7-48a9-bc94-35e8c29ade48",
   "metadata": {},
   "outputs": [],
   "source": [
    "# linear regress only has one independent variable impacting the slope of the relationship, multiple regression\n",
    "# incorporates multiple independent variables."
   ]
  },
  {
   "cell_type": "markdown",
   "id": "b00af38b-573e-42ec-adcc-ea3c280787a9",
   "metadata": {},
   "source": [
    "## 6."
   ]
  },
  {
   "cell_type": "code",
   "execution_count": null,
   "id": "8ff7ed79-fd3e-419f-8772-ea277aa596d0",
   "metadata": {},
   "outputs": [],
   "source": [
    "# Multicollinearity occurs when independent variables in a regression model are correlated.\n",
    "# This correlation is a problem because independent variables should be independent. If the degree of correlation \n",
    "# between variables is high enough, it can cause problems when you fit the model and interpret the results."
   ]
  },
  {
   "cell_type": "markdown",
   "id": "c1f858b0-91da-44be-9f62-88f8283f6792",
   "metadata": {},
   "source": [
    "## 7."
   ]
  },
  {
   "cell_type": "code",
   "execution_count": null,
   "id": "7de1c411-9a91-4432-8ed5-eec8520d0d33",
   "metadata": {},
   "outputs": [],
   "source": [
    "# A polynomial model is a type of regression model in which the relationship between the dependent variable and the\n",
    "# independent variable(s) is modeled as an nth-degree polynomial function. In other words, instead of fitting a straight\n",
    "# line (as in linear regression), a curve fits the data."
   ]
  },
  {
   "cell_type": "markdown",
   "id": "d303a74f-0c97-4661-a9b7-77ddd9f0ef0e",
   "metadata": {},
   "source": [
    "## 8."
   ]
  },
  {
   "cell_type": "code",
   "execution_count": null,
   "id": "f07d6a64-5737-4cbb-93cb-c6f7a0ab9b25",
   "metadata": {},
   "outputs": [],
   "source": [
    "# Advantages:\n",
    "\n",
    "# 1.Polynomial provides the best approximation of the relationship between the dependent and independent variable.\n",
    "# 2. Broad range of function can be fit under it. It basically fits a wide range of curvature."
   ]
  },
  {
   "cell_type": "code",
   "execution_count": null,
   "id": "144fe088-316f-4bc8-bd10-fba981520499",
   "metadata": {},
   "outputs": [],
   "source": [
    "# Disadvnatges:\n",
    "\n",
    "# The presence of one or two outliers in the data can seriously affect the results of the nonlinear analysis.\n",
    "# These are too sensitive to the outliers."
   ]
  },
  {
   "cell_type": "code",
   "execution_count": null,
   "id": "3da37182-7e75-474e-bd51-75c899a0d4fe",
   "metadata": {},
   "outputs": [],
   "source": []
  },
  {
   "cell_type": "code",
   "execution_count": null,
   "id": "ec189004-cdaa-4681-b8b1-fe8776470942",
   "metadata": {},
   "outputs": [],
   "source": []
  },
  {
   "cell_type": "code",
   "execution_count": null,
   "id": "7ab5febe-2135-4c26-8ed1-10d575fd884c",
   "metadata": {},
   "outputs": [],
   "source": []
  },
  {
   "cell_type": "code",
   "execution_count": null,
   "id": "e6df3933-b8af-4519-8d00-528d6e7669cf",
   "metadata": {},
   "outputs": [],
   "source": []
  },
  {
   "cell_type": "code",
   "execution_count": null,
   "id": "c7bd4df3-c3ce-4726-95da-fd477a5061d8",
   "metadata": {},
   "outputs": [],
   "source": []
  },
  {
   "cell_type": "code",
   "execution_count": null,
   "id": "fae264a2-aa6e-454d-9fe1-c4630ac72291",
   "metadata": {},
   "outputs": [],
   "source": []
  },
  {
   "cell_type": "code",
   "execution_count": null,
   "id": "6ea01da9-24ec-443a-ae24-5dcaf19140e7",
   "metadata": {},
   "outputs": [],
   "source": []
  },
  {
   "cell_type": "code",
   "execution_count": null,
   "id": "44aa8b7b-cc54-4563-8650-15dac3800f63",
   "metadata": {},
   "outputs": [],
   "source": []
  },
  {
   "cell_type": "code",
   "execution_count": null,
   "id": "df995ed7-f1ac-4207-96c4-5e386a6c8f11",
   "metadata": {},
   "outputs": [],
   "source": []
  },
  {
   "cell_type": "code",
   "execution_count": null,
   "id": "c69659d9-5b5f-47fd-8290-36a030ecced3",
   "metadata": {},
   "outputs": [],
   "source": []
  },
  {
   "cell_type": "code",
   "execution_count": null,
   "id": "b26e7c88-6560-4149-927c-0b5098de3c35",
   "metadata": {},
   "outputs": [],
   "source": []
  }
 ],
 "metadata": {
  "kernelspec": {
   "display_name": "Python 3 (ipykernel)",
   "language": "python",
   "name": "python3"
  },
  "language_info": {
   "codemirror_mode": {
    "name": "ipython",
    "version": 3
   },
   "file_extension": ".py",
   "mimetype": "text/x-python",
   "name": "python",
   "nbconvert_exporter": "python",
   "pygments_lexer": "ipython3",
   "version": "3.10.8"
  }
 },
 "nbformat": 4,
 "nbformat_minor": 5
}
