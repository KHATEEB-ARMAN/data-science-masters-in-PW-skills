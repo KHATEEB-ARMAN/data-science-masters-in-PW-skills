{
 "cells": [
  {
   "cell_type": "markdown",
   "id": "f70ffae9-bdb7-4cd5-b247-2301c0edc24f",
   "metadata": {},
   "source": [
    "# 1."
   ]
  },
  {
   "cell_type": "code",
   "execution_count": null,
   "id": "104d78b0-6682-498f-9ab7-83ca36dfe096",
   "metadata": {},
   "outputs": [],
   "source": [
    "\"\"\"\n",
    "GET Method: The GET method is used to request the server to GET the data or information.\n",
    "It should not be used with the requesting sensitive data, and there are certain limits to the requesting data.\n",
    "\n",
    "POST method: The POST method is used to send the data to the server.\n",
    "\n",
    "\"\"\"\n"
   ]
  },
  {
   "cell_type": "code",
   "execution_count": 5,
   "id": "18efb8c2-2783-4e2a-950c-2a1c45d95969",
   "metadata": {},
   "outputs": [
    {
     "name": "stdout",
     "output_type": "stream",
     "text": [
      "The pastebin URL is:Bad API request, use POST request, not GET\n"
     ]
    }
   ],
   "source": [
    "# importing the requests library\n",
    "import requests\n",
    "  \n",
    "# defining the api-endpoint \n",
    "API_ENDPOINT = \"http://pastebin.com/api/api_post.php\"\n",
    "  \n",
    "# your API key here\n",
    "API_KEY = \"XXXXXXXXXXXXXXXXX\"\n",
    "  \n",
    "# your source code here\n",
    "source_code = '''\n",
    "print(\"Hello, world!\")\n",
    "a = 1\n",
    "b = 2\n",
    "print(a + b)\n",
    "'''\n",
    "  \n",
    "# data to be sent to api\n",
    "data = {'api_dev_key':API_KEY,\n",
    "        'api_option':'paste',\n",
    "        'api_paste_code':source_code,\n",
    "        'api_paste_format':'python'}\n",
    "  \n",
    "# sending post request and saving response as response object\n",
    "r = requests.post(url = API_ENDPOINT, data = data)\n",
    "  \n",
    "# extracting response text \n",
    "pastebin_url = r.text\n",
    "print(\"The pastebin URL is:%s\"%pastebin_url)"
   ]
  },
  {
   "cell_type": "markdown",
   "id": "66598b3b-30ce-4011-800a-6c3f06bcd2e3",
   "metadata": {},
   "source": [
    "# 2."
   ]
  },
  {
   "cell_type": "code",
   "execution_count": null,
   "id": "8bfd081d-ed9b-423e-8bbc-a34045030c2d",
   "metadata": {},
   "outputs": [],
   "source": [
    "# To access the incoming data in Flask, you have to use the request object.\n",
    "# The request object holds all incoming data from the request, which includes the mimetype,\n",
    "# referrer, IP address, raw data, HTTP method, and headers, among other things."
   ]
  },
  {
   "cell_type": "markdown",
   "id": "bfc7d91e-1cd8-49b0-aca4-1b7a2de16efc",
   "metadata": {},
   "source": [
    "# 3."
   ]
  },
  {
   "cell_type": "code",
   "execution_count": null,
   "id": "691b494b-f1ce-48eb-a1de-c260de027011",
   "metadata": {},
   "outputs": [],
   "source": [
    "#  Redirection in Flask can be done by returning a redirect response object, created by invoking the redirect() function.\n",
    "#  The same method is used for redirecting to other routes on the same application and external websites."
   ]
  },
  {
   "cell_type": "code",
   "execution_count": 9,
   "id": "1b90ed3e-4e1c-4688-b93d-e1bc59a17397",
   "metadata": {},
   "outputs": [
    {
     "ename": "SyntaxError",
     "evalue": "invalid syntax (1696968344.py, line 11)",
     "output_type": "error",
     "traceback": [
      "\u001b[0;36m  Cell \u001b[0;32mIn[9], line 11\u001b[0;36m\u001b[0m\n\u001b[0;31m    if request.method == 'POST' and\u001b[0m\n\u001b[0m                                   ^\u001b[0m\n\u001b[0;31mSyntaxError\u001b[0m\u001b[0;31m:\u001b[0m invalid syntax\n"
     ]
    }
   ],
   "source": [
    "from flask import Flask, redirect, url_for, render_template, request\n",
    "# Initialize the Flask application\n",
    "app = Flask(__name__)\n",
    "\n",
    "@app.route('/')\n",
    "def index():\n",
    "    return render_template('log_in.html')\n",
    "\n",
    "@app.route('/login',methods = ['POST', 'GET'])\n",
    "def login():\n",
    "    if request.method == 'POST' and\n",
    "    request.form['username'] == 'admin' :\n",
    "    return redirect(url_for('success'))\n",
    "    return redirect(url_for('index'))\n",
    "\n",
    "@app.route('/success')\n",
    "def success():\n",
    "    return 'logged in successfully'\n",
    "\t\n",
    "if __name__ == '__main__':\n",
    "    app.run(debug = True)"
   ]
  },
  {
   "cell_type": "markdown",
   "id": "3d23e6b6-8b61-4297-847e-fd14e8261e81",
   "metadata": {},
   "source": [
    "# 4."
   ]
  },
  {
   "cell_type": "code",
   "execution_count": null,
   "id": "8b80bdc2-8872-4675-98b9-f29b5fb2846c",
   "metadata": {},
   "outputs": [],
   "source": [
    "\"\"\"\n",
    "Templates are files that contain static data as well as placeholders for dynamic data.\n",
    "A template is rendered with specific data to produce a final document.\n",
    "Flask uses the Jinja template library to render templates. \n",
    "In your application, you will use templates to render HTML which will display in the user's browser.\n",
    "\"\"\""
   ]
  },
  {
   "cell_type": "code",
   "execution_count": null,
   "id": "6814b232-ecb9-4382-92b7-2a9daeaba545",
   "metadata": {},
   "outputs": [],
   "source": [
    "# This view function uses the render_template() function to render a template file called index. html . Next, you'll have to create the index.\n",
    "#  html template file in a directory called templates inside your flask_app directory."
   ]
  },
  {
   "cell_type": "code",
   "execution_count": 11,
   "id": "2c346567-369e-4b67-8f45-3fa08b719e77",
   "metadata": {},
   "outputs": [
    {
     "ename": "ModuleNotFoundError",
     "evalue": "No module named 'flask'",
     "output_type": "error",
     "traceback": [
      "\u001b[0;31m---------------------------------------------------------------------------\u001b[0m",
      "\u001b[0;31mModuleNotFoundError\u001b[0m                       Traceback (most recent call last)",
      "Cell \u001b[0;32mIn[11], line 1\u001b[0m\n\u001b[0;32m----> 1\u001b[0m \u001b[38;5;28;01mimport\u001b[39;00m \u001b[38;5;21;01mflask\u001b[39;00m\n\u001b[1;32m      2\u001b[0m \u001b[38;5;28;01mfrom\u001b[39;00m \u001b[38;5;21;01mflask\u001b[39;00m \u001b[38;5;28;01mimport\u001b[39;00m Flask, render_template\n\u001b[1;32m      4\u001b[0m app \u001b[38;5;241m=\u001b[39m Flask(\u001b[38;5;18m__name__\u001b[39m)\n",
      "\u001b[0;31mModuleNotFoundError\u001b[0m: No module named 'flask'"
     ]
    }
   ],
   "source": [
    "import flask\n",
    "from flask import Flask, render_template\n",
    "\n",
    "app = Flask(__name__)\n",
    "\n",
    "\n",
    "@app.route('/')\n",
    "def hello():\n",
    "    return render_template('index.html')"
   ]
  },
  {
   "cell_type": "code",
   "execution_count": null,
   "id": "44455f1a-1730-4105-a8c4-d1d7545358df",
   "metadata": {},
   "outputs": [],
   "source": []
  },
  {
   "cell_type": "code",
   "execution_count": null,
   "id": "08b8cadc-7c0a-4901-bdd7-935d55fabf34",
   "metadata": {},
   "outputs": [],
   "source": []
  },
  {
   "cell_type": "code",
   "execution_count": null,
   "id": "b5874e97-9448-47d0-bf54-94cb2263070e",
   "metadata": {},
   "outputs": [],
   "source": []
  },
  {
   "cell_type": "code",
   "execution_count": null,
   "id": "109361d6-3e9f-4664-8566-7a7877b07bb5",
   "metadata": {},
   "outputs": [],
   "source": []
  },
  {
   "cell_type": "code",
   "execution_count": null,
   "id": "740da0b0-2738-465f-8cc7-fc8bc8db0e13",
   "metadata": {},
   "outputs": [],
   "source": []
  },
  {
   "cell_type": "code",
   "execution_count": null,
   "id": "8b1d073c-22d5-4053-9d08-4b732c3a6e17",
   "metadata": {},
   "outputs": [],
   "source": []
  },
  {
   "cell_type": "code",
   "execution_count": null,
   "id": "d1165dd2-df3e-4478-80ae-d676d1711347",
   "metadata": {},
   "outputs": [],
   "source": []
  },
  {
   "cell_type": "code",
   "execution_count": null,
   "id": "ea3ad2a3-aad6-4dfd-aa44-4f855d43ac14",
   "metadata": {},
   "outputs": [],
   "source": []
  },
  {
   "cell_type": "code",
   "execution_count": null,
   "id": "ad6fcc2b-e4a3-46f5-8370-743268c6ec28",
   "metadata": {},
   "outputs": [],
   "source": []
  }
 ],
 "metadata": {
  "kernelspec": {
   "display_name": "Python 3 (ipykernel)",
   "language": "python",
   "name": "python3"
  },
  "language_info": {
   "codemirror_mode": {
    "name": "ipython",
    "version": 3
   },
   "file_extension": ".py",
   "mimetype": "text/x-python",
   "name": "python",
   "nbconvert_exporter": "python",
   "pygments_lexer": "ipython3",
   "version": "3.10.8"
  }
 },
 "nbformat": 4,
 "nbformat_minor": 5
}
