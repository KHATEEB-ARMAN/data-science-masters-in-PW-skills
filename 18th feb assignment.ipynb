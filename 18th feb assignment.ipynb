{
 "cells": [
  {
   "cell_type": "markdown",
   "id": "5158d0fc-5fec-473d-af5b-45ec3a681857",
   "metadata": {},
   "source": [
    "## 1."
   ]
  },
  {
   "cell_type": "code",
   "execution_count": null,
   "id": "cba7fb9d-ca1c-4772-97c2-b78bdc24517b",
   "metadata": {},
   "outputs": [],
   "source": [
    "# API stands for \"Application programming interface\".\n",
    "# In essence, an API acts as a communication layer, or as the name says, an interface,\n",
    "# that allows different systems to talk to each other without having to understand exactly what each other does.\n",
    "# APIs are broadly accepted and used in web applications. \n",
    "# There are four different types of APIs commonly used in web services: public, partner, private and composite."
   ]
  },
  {
   "cell_type": "code",
   "execution_count": null,
   "id": "5e8cfebb-f3de-470b-808c-2e718ea71bc7",
   "metadata": {},
   "outputs": [],
   "source": [
    "# for example:\n",
    "# a. Mobile payment app.\n",
    "# b. while searching in web.\n",
    "# c. streaming services Netflix, Amazon tv etc...."
   ]
  },
  {
   "cell_type": "markdown",
   "id": "0c4385c0-6a4c-48ce-aeb7-d249562ef91a",
   "metadata": {},
   "source": [
    "## 2."
   ]
  },
  {
   "cell_type": "code",
   "execution_count": null,
   "id": "70c59f88-250e-4c6e-b96b-3a4afe93028e",
   "metadata": {},
   "outputs": [],
   "source": [
    "# Advantages of API:\n",
    "# Efficiency:\n",
    "#     When you have content that is automatically published and made available on different channels simultaneously,\n",
    "#     APIs allow for more efficient data distribution.\n",
    "# Adaptability: \n",
    "#     One of the greatest benefits of APIs is the ability it has to adapt to changes through data migration and flexibility of services.\n",
    "# Analytics:\n",
    "#     Google Analytics is a part of the Google Cloud API Platform and offers multiple API options that businesses can use for analytics.\n",
    "#     The most common APIs used are Core Reporting API and Management API.\n",
    "# Online Payment Systems:\n",
    "#     Where digital money transfers occur, there is an API supporting the process.\n",
    "#     Many organizations choose to utilize APIs from a firm such as PayPal to provide secure, safe money transfers to their customers."
   ]
  },
  {
   "cell_type": "code",
   "execution_count": null,
   "id": "319da176-3744-4103-befa-df901ad03992",
   "metadata": {},
   "outputs": [],
   "source": [
    "# Disadvantages of API:\n",
    "# Easy for Hacking:\n",
    "#       As a single point of entry, an API is a gateway and can become a hacker's primary target. \n",
    "#      Once the API is compromised, all other applications and systems become vulnerable.\n",
    "#  APIs are vulnerable to man-in-the-middle attacks, CSRF attacks, XSS attacks, SQL injection, and DDoS attacks."
   ]
  },
  {
   "cell_type": "markdown",
   "id": "53eb0ba6-88b9-46e9-8db8-1e7ae9d5dc89",
   "metadata": {},
   "source": [
    "## 3."
   ]
  },
  {
   "cell_type": "code",
   "execution_count": null,
   "id": "50e6010a-d638-4722-adf3-90507e1d3585",
   "metadata": {},
   "outputs": [],
   "source": [
    "# Web API: is an extensible framework for building HTTP based services that can be accessed in different applications on different\n",
    "#   platforms such as web, windows, mobile etc. It works more or less the same way as ASP.\n",
    "#   NET MVC web application except that it sends data as a response instead of html view. It is like a webservice or WCF service\n",
    "#   but the exception is that it only supports HTTP protocol."
   ]
  },
  {
   "cell_type": "code",
   "execution_count": null,
   "id": "44160084-d758-41f6-9db2-4eb07d5b46be",
   "metadata": {},
   "outputs": [],
   "source": [
    "# Differences between API and WEB API:\n",
    "\n",
    "# Web API:\n",
    "#     is a collection of open source protocols and standards used for exchanging data between systems or applications.\n",
    "# API:\n",
    "#    is a software interface that allows two applications to interact with each other without any user involvement.\n",
    "\n",
    "# Web service:\n",
    "#    is used for REST, SOAP, and XML-RPC for communication.\n",
    "# API :\n",
    "#    is used for any style of communication.\n",
    "\n",
    "# Web service: supports XML.\n",
    "# API :  supports XML and JSON."
   ]
  },
  {
   "cell_type": "markdown",
   "id": "bcdc82b3-207c-45a4-b1e3-848def46529f",
   "metadata": {},
   "source": [
    "## 4."
   ]
  },
  {
   "cell_type": "code",
   "execution_count": null,
   "id": "b4bc386a-cccb-4a88-acf9-92149aa7fa0a",
   "metadata": {},
   "outputs": [],
   "source": [
    "# REST:\n",
    "#     is a software architectural style that defines the set of rules to be used for creating web services.\n",
    "#     Web services which follow the REST architectural style are known as RESTful web services.\n",
    "#     It allows requesting systems to access and manipulate web resources by using a uniform and predefined set of rules.\n",
    "\n",
    "# SOAP:\n",
    "#    is a protocol for the exchange of information in a distributed environment.\n",
    "#    SOAP messages are encoded as XML documents and can be exchanged using various underlying protocols."
   ]
  },
  {
   "cell_type": "code",
   "execution_count": null,
   "id": "890ce7d2-b581-4acf-bfca-d79a66eefb24",
   "metadata": {},
   "outputs": [],
   "source": [
    "# Disadvantages of SOAP:\n",
    "# As SOAP can only transfer messages as XML files.\n",
    "# SOAP is slow and consumes more bandwidth and resource."
   ]
  },
  {
   "cell_type": "markdown",
   "id": "597baa37-5228-4512-ab2a-2c87eb9d4d2d",
   "metadata": {},
   "source": [
    "## 5."
   ]
  },
  {
   "cell_type": "code",
   "execution_count": null,
   "id": "c5a89b14-cef9-4b9c-8e17-2e5cc28e9aee",
   "metadata": {},
   "outputs": [],
   "source": [
    "# REST:\n",
    "# REST is all about simplicity, thanks to HTTP protocols.\n",
    "\n",
    "# REST APIs facilitate client-server communications and architectures:\n",
    "# If it’s RESTful, it’s built on this client-server principle, with round trips between the two passing payloads of information.\n",
    "\n",
    "# REST APIs use a single uniform interface: This simplifies how applications interact with the API by requiring they all interface in the same way,\n",
    "#                                           through the same portal. \n",
    "\n",
    "# REST is optimized for the web: Using JSON as its data format makes it compatible with browsers."
   ]
  },
  {
   "cell_type": "code",
   "execution_count": null,
   "id": "9fe4dd33-69a5-46ba-abfa-a5cde05dc72d",
   "metadata": {},
   "outputs": [],
   "source": [
    "# SOAP:\n",
    "\n",
    "# SOAP has much tighter security: In addition to SSL support,\n",
    "#  WS-Security is a built-in standard that gives SOAP some more enterprise-level security features if you require them.\n",
    "# Successful/retry logic for reliable messaging functionality: REST doesn’t have a standard messaging system and can only address communication failures by retrying.\n",
    "# SOAP has successful/retry logic built-in and provides end-to-end reliability even through SOAP intermediaries.\n",
    "\n",
    "\n",
    "#  SOAP has built-in ACID compliance: ACID compliance reduces anomalies and protects the integrity of a database by prescribing how transactions can interact\n",
    "#  with the database. ACID is more conservative than other data consistency models, which is why it’s typically favored when handling financial or otherwise \n",
    "#  sensitive transactions."
   ]
  },
  {
   "cell_type": "code",
   "execution_count": null,
   "id": "f4f6ab3e-f7ea-4a00-8fb6-0f8b613486bb",
   "metadata": {},
   "outputs": [],
   "source": []
  },
  {
   "cell_type": "code",
   "execution_count": null,
   "id": "371a9f95-b4df-463a-8650-929073ae13c3",
   "metadata": {},
   "outputs": [],
   "source": []
  },
  {
   "cell_type": "code",
   "execution_count": null,
   "id": "e36450f5-25ab-43f0-871a-2323b9a157c7",
   "metadata": {},
   "outputs": [],
   "source": []
  },
  {
   "cell_type": "code",
   "execution_count": null,
   "id": "49b5c6de-f43b-46d5-b234-d2ae41fafc74",
   "metadata": {},
   "outputs": [],
   "source": []
  },
  {
   "cell_type": "code",
   "execution_count": null,
   "id": "a8d9ce76-b090-4e6d-a94d-95e9e577541e",
   "metadata": {},
   "outputs": [],
   "source": []
  },
  {
   "cell_type": "code",
   "execution_count": null,
   "id": "ff1202f7-fff8-49e1-a3c6-d674b7b9e735",
   "metadata": {},
   "outputs": [],
   "source": []
  },
  {
   "cell_type": "code",
   "execution_count": null,
   "id": "e063b157-c487-4aee-bfb2-3da6c8589970",
   "metadata": {},
   "outputs": [],
   "source": []
  },
  {
   "cell_type": "code",
   "execution_count": null,
   "id": "8ce3ad90-6b52-48c5-87c6-ee04ee71f6cf",
   "metadata": {},
   "outputs": [],
   "source": []
  },
  {
   "cell_type": "code",
   "execution_count": null,
   "id": "57cb8299-0438-4eac-9ddb-4eb1c00dffa7",
   "metadata": {},
   "outputs": [],
   "source": []
  },
  {
   "cell_type": "code",
   "execution_count": null,
   "id": "de086efa-1b36-48c2-bbe0-60cf7dad13af",
   "metadata": {},
   "outputs": [],
   "source": []
  },
  {
   "cell_type": "code",
   "execution_count": null,
   "id": "0a4540a7-6c64-4b5f-a6dd-02517ac92d6e",
   "metadata": {},
   "outputs": [],
   "source": []
  },
  {
   "cell_type": "code",
   "execution_count": null,
   "id": "a48118b6-4b31-485d-939d-d4cbbdfd4250",
   "metadata": {},
   "outputs": [],
   "source": []
  }
 ],
 "metadata": {
  "kernelspec": {
   "display_name": "Python 3 (ipykernel)",
   "language": "python",
   "name": "python3"
  },
  "language_info": {
   "codemirror_mode": {
    "name": "ipython",
    "version": 3
   },
   "file_extension": ".py",
   "mimetype": "text/x-python",
   "name": "python",
   "nbconvert_exporter": "python",
   "pygments_lexer": "ipython3",
   "version": "3.10.8"
  }
 },
 "nbformat": 4,
 "nbformat_minor": 5
}
