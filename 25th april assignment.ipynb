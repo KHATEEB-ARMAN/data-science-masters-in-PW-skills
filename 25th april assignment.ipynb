{
 "cells": [
  {
   "cell_type": "markdown",
   "id": "b625b2e5-0a0e-4a78-80bd-295bef887d35",
   "metadata": {},
   "source": [
    "## 1"
   ]
  },
  {
   "cell_type": "code",
   "execution_count": null,
   "id": "a7881642-aabe-4381-bc37-6ef2527e1e79",
   "metadata": {},
   "outputs": [],
   "source": [
    "# Eigenvalues :are the special set of scalar values that is associated with the set of linear equations most probably in the matrix equations.\n",
    "\n",
    "# Eigenvectors :are also termed as characteristic roots. It is a non-zero vector that can be changed at most by its scalar factor after the\n",
    "# application of linear transformations."
   ]
  },
  {
   "cell_type": "code",
   "execution_count": null,
   "id": "b395fdde-c7a3-4438-88a9-dcd1acf69439",
   "metadata": {},
   "outputs": [],
   "source": [
    "# In linear algebra, eigendecomposition is the factorization of a matrix into a canonical form, whereby the matrix is represented in terms\n",
    "# of its eigenvalues and eigenvectors. Only diagonalizable matrices can be factorized in this way."
   ]
  },
  {
   "cell_type": "markdown",
   "id": "8f0866f5-814e-4fbe-a01d-e1748d9a38c1",
   "metadata": {},
   "source": [
    "## 2"
   ]
  },
  {
   "cell_type": "code",
   "execution_count": null,
   "id": "09336f85-fbb2-4feb-b419-7804b693ca51",
   "metadata": {},
   "outputs": [],
   "source": [
    "# In linear algebra, eigendecomposition is the factorization of a matrix into a canonical form, whereby the matrix is represented in terms\n",
    "# of its eigenvalues and eigenvectors. Only diagonalizable matrices can be factorized in this way."
   ]
  },
  {
   "cell_type": "code",
   "execution_count": null,
   "id": "177436c9-d607-456d-9e5a-f66d4a04d7ed",
   "metadata": {},
   "outputs": [],
   "source": [
    "# Eigendecomposition provides us with a tool to decompose a matrix by discovering the eigenvalues and the eigenvectors. This operation\n",
    "# can prove useful since it allows certain matrix operations to be easier to perform and it also tells us important facts about the matrix itself."
   ]
  },
  {
   "cell_type": "markdown",
   "id": "082e1195-6c01-4a45-af30-3519fea0bb90",
   "metadata": {},
   "source": [
    "## 3"
   ]
  },
  {
   "cell_type": "code",
   "execution_count": null,
   "id": "1299b69d-39b5-4756-a2ce-238ec3d5851e",
   "metadata": {},
   "outputs": [],
   "source": [
    "# A matrix is diagonalizable if and only if its nilpotent part is zero. Put in another way, a matrix is diagonalizable if each block in its Jordan form has no nilpotent part; i.e., each \"block\" is a one-by-one matrix."
   ]
  },
  {
   "cell_type": "markdown",
   "id": "f04a6363-e1c9-4e8e-87d0-98c8aee280f4",
   "metadata": {},
   "source": [
    "## 4"
   ]
  },
  {
   "cell_type": "code",
   "execution_count": null,
   "id": "b2e86dc1-56cd-4587-89b9-0c4ab1193d23",
   "metadata": {},
   "outputs": [],
   "source": [
    "# Spectral theorem states that any symmetric n x n Matrix which has real entries has exactly n real but possibly not distinct Eigenvalues and corresponding to those Eigenvalues there are mutually Orthogonal Eigenvectors."
   ]
  },
  {
   "cell_type": "code",
   "execution_count": null,
   "id": "8a98a469-77c9-4f12-aeb8-4510dc5e1506",
   "metadata": {},
   "outputs": [],
   "source": [
    "# Eigendecomposition provides us with a tool to decompose a matrix by discovering the eigenvalues and the eigenvectors.\n",
    "# This operation can prove useful since it allows certain matrix operations to be easier to perform and it also tells us important facts about the matrix itself."
   ]
  },
  {
   "cell_type": "markdown",
   "id": "828e1795-ad20-40a4-a37d-4b379f9745e7",
   "metadata": {},
   "source": [
    "## 5"
   ]
  },
  {
   "cell_type": "code",
   "execution_count": null,
   "id": "4236f27e-0210-4c1d-b9f4-f43b3d727580",
   "metadata": {},
   "outputs": [],
   "source": [
    "# Step 1: Make sure the given matrix A is a square matrix. Also, determine the identity matrix I of the same order.\n",
    "# Step 2: Estimate the matrix A – λI, where λ is a scalar quantity.\n",
    "# Step 3: Find the determinant of matrix A – λI and equate it to zero."
   ]
  },
  {
   "cell_type": "markdown",
   "id": "18c88fcb-4a4d-4dcc-8c38-21100f38af2d",
   "metadata": {},
   "source": [
    "## 6"
   ]
  },
  {
   "cell_type": "code",
   "execution_count": null,
   "id": "d30f04e2-0dc1-45a9-b712-c06b6e9efd46",
   "metadata": {},
   "outputs": [],
   "source": [
    "# The eigenvectors are also termed as characteristic roots. It is a non-zero vector that can be changed at most by its scalar factor \n",
    "# after the application of linear transformations."
   ]
  },
  {
   "cell_type": "code",
   "execution_count": null,
   "id": "9c11dfdc-3fc4-4dce-b102-a415a92b23d7",
   "metadata": {},
   "outputs": [],
   "source": [
    "# The set of all eigenvectors of T corresponding to the same eigenvalue, together with the zero vector, is called an eigenspace, \n",
    "# or the characteristic space of T associated with that eigenvalue. If a set of eigenvectors of T forms a basis of the domain of T,\n",
    "# then this basis is called an eigenbasis."
   ]
  },
  {
   "cell_type": "markdown",
   "id": "2021c3aa-adc1-4b41-b9ef-26e0c90e268d",
   "metadata": {},
   "source": [
    "## 7"
   ]
  },
  {
   "cell_type": "code",
   "execution_count": null,
   "id": "dfacc8dc-37b3-43e8-9722-4d039690cdaa",
   "metadata": {},
   "outputs": [],
   "source": [
    "# Geometrically, a transformation matrix rotates, stretches, or shears the vectors it acts upon. The eigenvectors for a linear \n",
    "# transformation matrix are the set of vectors that are only stretched, with no rotation or shear. The eigenvalue is the factor by \n",
    "# which an eigenvector is stretched."
   ]
  },
  {
   "cell_type": "markdown",
   "id": "ee9c3f68-302d-460f-8028-850f687e710a",
   "metadata": {},
   "source": [
    "## 8"
   ]
  },
  {
   "cell_type": "code",
   "execution_count": null,
   "id": "14f79a90-b495-4eef-ac22-f94b4c6b753a",
   "metadata": {},
   "outputs": [],
   "source": [
    "# 1.Eigendecomposition is particularly useful for analysing the structure of the data matrix in terms of the eigenvalues and eigenvectors.\n",
    "# 2. It is used in car design especially car stereo system and also in decoupling three phase system."
   ]
  },
  {
   "cell_type": "markdown",
   "id": "40818ed5-6219-4f03-93b6-29d5bd40e44f",
   "metadata": {},
   "source": [
    "## 9"
   ]
  },
  {
   "cell_type": "code",
   "execution_count": null,
   "id": "5c5828d0-3c69-4b38-9121-9f514bd6a74b",
   "metadata": {},
   "outputs": [],
   "source": [
    "# A vector v for which this equation hold is called an eigenvector of the matrix A and the associated constant\n",
    "# k is called the eigenvalue (or characteristic value) of the vector v. If a matrix has more than one eigenvector the associated \n",
    "# eigenvalues can be different for the different eigenvectors."
   ]
  },
  {
   "cell_type": "markdown",
   "id": "ff795612-a096-414d-bed6-ca3d1abc867e",
   "metadata": {},
   "source": [
    "## 10"
   ]
  },
  {
   "cell_type": "code",
   "execution_count": null,
   "id": "19e01620-c3b7-49dd-987b-f5f434d5f438",
   "metadata": {},
   "outputs": [],
   "source": [
    "# Eigendecomposition provides us with a tool to decompose a matrix by discovering the eigenvalues and the eigenvectors.\n",
    "# This operation can prove useful since it allows certain matrix operations to be easier to perform and it also tells us important facts\n",
    "# about the matrix itself."
   ]
  },
  {
   "cell_type": "code",
   "execution_count": null,
   "id": "bfd8ccd6-b495-4c32-a394-08dd623c8c8b",
   "metadata": {},
   "outputs": [],
   "source": [
    "#  1. The Eigen-value Eigen-vector decomposition or PCA is used to determine or select the most dominant band/bands in multi-spectral\n",
    "# or hyper-spectral remote sensing. \n",
    "\n",
    "# 2. It is used in car design especially car stereo system and also in decoupling three phase system."
   ]
  }
 ],
 "metadata": {
  "kernelspec": {
   "display_name": "Python 3 (ipykernel)",
   "language": "python",
   "name": "python3"
  },
  "language_info": {
   "codemirror_mode": {
    "name": "ipython",
    "version": 3
   },
   "file_extension": ".py",
   "mimetype": "text/x-python",
   "name": "python",
   "nbconvert_exporter": "python",
   "pygments_lexer": "ipython3",
   "version": "3.10.8"
  }
 },
 "nbformat": 4,
 "nbformat_minor": 5
}
