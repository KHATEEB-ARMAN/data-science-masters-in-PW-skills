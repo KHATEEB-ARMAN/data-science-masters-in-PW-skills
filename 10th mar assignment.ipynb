{
 "cells": [
  {
   "cell_type": "markdown",
   "id": "cd9e1425-0dea-47b1-a569-146773d78321",
   "metadata": {},
   "source": [
    "## 1."
   ]
  },
  {
   "cell_type": "code",
   "execution_count": null,
   "id": "8f85ef31-6abe-404f-b9b0-8d0ef57de995",
   "metadata": {},
   "outputs": [],
   "source": [
    "# Estimation is the process by which the numerical value of unknown population values are inferred from incomplete data, such as a sample. If a single figure is calculated for each unknown parameter, the process is called point estimation"
   ]
  },
  {
   "cell_type": "code",
   "execution_count": null,
   "id": "93c7fa58-b01f-4366-85e2-6c21d81c53cd",
   "metadata": {},
   "outputs": [],
   "source": [
    "# A point estimate is a single value estimate of a parameter. For instance, a sample mean is a point estimate of a population mean.\n",
    "\n",
    "#An interval estimate gives you a range of values where the parameter is expected to lie. A confidence interval is the most common type of interval estimate."
   ]
  },
  {
   "cell_type": "markdown",
   "id": "1e8e74a2-de6e-443e-8b4a-8749152f817d",
   "metadata": {},
   "source": [
    "## 3.\n"
   ]
  },
  {
   "cell_type": "code",
   "execution_count": null,
   "id": "9e2446db-3346-40d7-8551-2d64fbcbcacb",
   "metadata": {},
   "outputs": [],
   "source": [
    "# Hypothesis testing is a systematic procedure for deciding whether the results of a research study support a particular theory which applies to a population."
   ]
  },
  {
   "cell_type": "code",
   "execution_count": null,
   "id": "95188a84-24bf-4acf-91aa-4e3351c55661",
   "metadata": {},
   "outputs": [],
   "source": [
    "# Hypothesis testing is used to assess the plausibility of a hypothesis by using sample data.\n",
    "# Such data may come from a larger population, or from a data-generating process. \n",
    "# The word \"population\" will be used for both of these cases in the following descriptions."
   ]
  },
  {
   "cell_type": "code",
   "execution_count": null,
   "id": "31f82121-aeb7-4ab7-b0b5-d590cfd36369",
   "metadata": {},
   "outputs": [],
   "source": [
    "# The purpose of hypothesis testing is to test whether the null hypothesis (there is no difference, no effect) can be rejected or approved.\n",
    "# If the null hypothesis is rejected, then the research hypothesis can be accepted. If the null hypothesis is accepted, then the research hypothesis is rejected."
   ]
  },
  {
   "cell_type": "markdown",
   "id": "47facd79-1c71-4395-a639-ff4d1d1e97b9",
   "metadata": {},
   "source": [
    "## 4."
   ]
  },
  {
   "cell_type": "code",
   "execution_count": null,
   "id": "4a74becf-3228-440a-bc8f-7e15afb8737b",
   "metadata": {},
   "outputs": [],
   "source": [
    "# Null hypothesis:does the mean weight of male student is equal to the weight o female students..\n",
    "\n",
    "# Alternate  hypothesis:the weight of male students is greater than or less than male students."
   ]
  },
  {
   "cell_type": "markdown",
   "id": "7ad38016-eaeb-478b-8e61-a719d2f27e47",
   "metadata": {},
   "source": [
    "## 5."
   ]
  },
  {
   "cell_type": "code",
   "execution_count": 1,
   "id": "9787c67a-a273-4ca8-aa91-617e68282aa8",
   "metadata": {},
   "outputs": [],
   "source": [
    "#Null hypothesis:Both the population mean is same as sample mean.\n",
    "\n",
    "#Alternate hy[pothesis:One of the population mean is different from sample mean."
   ]
  },
  {
   "cell_type": "markdown",
   "id": "a1a7787f-0bef-4e06-9077-dd0342df3d60",
   "metadata": {},
   "source": [
    "## 6."
   ]
  },
  {
   "cell_type": "code",
   "execution_count": null,
   "id": "4e875d1a-36d0-4b6d-beed-78bd35b92cf8",
   "metadata": {},
   "outputs": [],
   "source": [
    "# The null hypothesis of a test always predicts no effect or no relationship between variables."
   ]
  },
  {
   "cell_type": "code",
   "execution_count": null,
   "id": "ce097a84-f513-4a1b-aa3a-37a3a166b4ff",
   "metadata": {},
   "outputs": [],
   "source": [
    "# alternative hypothesis states your research prediction of an effect or relationship."
   ]
  },
  {
   "cell_type": "code",
   "execution_count": null,
   "id": "4d9a019d-372b-4102-8ea0-79f07e2143c1",
   "metadata": {},
   "outputs": [],
   "source": [
    "# Ex : Null Hypothesis: H0: There is no relationship between height and shoe size.\n",
    "#     Alternative Hypothesis:H1: There is a positive relationship between height and shoe size."
   ]
  },
  {
   "cell_type": "markdown",
   "id": "5d77489f-0e85-4fb7-be01-f65890f33a7a",
   "metadata": {},
   "source": [
    "##  7."
   ]
  },
  {
   "cell_type": "code",
   "execution_count": null,
   "id": "1f0a53e6-a2ec-4f1f-9933-dc33850f9dd2",
   "metadata": {},
   "outputs": [],
   "source": [
    "# Step 1: State your null and alternate hypothesis.\n",
    "# Step 2: Collect data.\n",
    "# Step 3: Perform a statistical test. \n",
    "# Step 4: Decide whether to reject or fail to reject your null hypothesis. ...\n",
    "# Step 5: Present your findings."
   ]
  },
  {
   "cell_type": "markdown",
   "id": "e02cca77-0db4-44dd-90ae-c25c7318fd79",
   "metadata": {},
   "source": [
    "## 8."
   ]
  },
  {
   "cell_type": "code",
   "execution_count": null,
   "id": "af8c756e-eaba-496f-afa2-2438be0b0412",
   "metadata": {},
   "outputs": [],
   "source": [
    "# The p value is a number, calculated from a statistical test, that describes how likely you are to have found a particular set of observations\n",
    "# if the null hypothesis were true. P values are used in hypothesis testing to help decide whether to reject the null hypothesis."
   ]
  },
  {
   "cell_type": "code",
   "execution_count": null,
   "id": "97c25a30-04a0-41be-8cf1-0e2fb826bdc0",
   "metadata": {},
   "outputs": [],
   "source": [
    "# The P value is defined as the probability under the assumption of no effect or no difference (null hypothesis),\n",
    "# of obtaining a result equal to or more extreme than what was actually observed. \n",
    "# The P stands for probability and measures how likely it is that any observed difference between groups is due to chance."
   ]
  },
  {
   "cell_type": "markdown",
   "id": "a157e8bb-7b32-4beb-96cd-cd0204699788",
   "metadata": {},
   "source": [
    "## 9."
   ]
  },
  {
   "cell_type": "code",
   "execution_count": 13,
   "id": "3de55349-ff52-4f61-8a34-24118dfebb49",
   "metadata": {},
   "outputs": [],
   "source": [
    "import pandas as pd\n",
    "import scipy.stats as stat\n",
    "import matplotlib.pyplot as plt\n",
    "import numpy as np\n",
    "from scipy.stats import t\n"
   ]
  },
  {
   "cell_type": "code",
   "execution_count": 16,
   "id": "8ee8d239-55ca-4874-9406-758322fee2ef",
   "metadata": {},
   "outputs": [
    {
     "data": {
      "text/plain": [
       "Text(0.5, 1.0, 't distribution')"
      ]
     },
     "execution_count": 16,
     "metadata": {},
     "output_type": "execute_result"
    },
    {
     "data": {
      "image/png": "[encoded data removed]",
      "text/plain": [
       "<Figure size 640x480 with 1 Axes>"
      ]
     },
     "metadata": {},
     "output_type": "display_data"
    }
   ],
   "source": [
    "x=np.linspace(-5,5,100)\n",
    "degree_of_freedom=[10]\n",
    "\n",
    "for df in degree_of_freedom:\n",
    "    y=t.pdf(x,df)\n",
    "    plt.plot(x,y,label=\"degree of freedom of 10\")\n",
    "    \n",
    "plt.title(\"t distribution\")"
   ]
  },
  {
   "cell_type": "markdown",
   "id": "80176f46-84d6-437d-92ce-9b4e20378006",
   "metadata": {},
   "source": [
    "## 10."
   ]
  },
  {
   "cell_type": "code",
   "execution_count": 17,
   "id": "7547b5fb-361f-47b6-a480-d9c11ca30cbb",
   "metadata": {},
   "outputs": [
    {
     "name": "stdout",
     "output_type": "stream",
     "text": [
      "7.727500000000001 12.260000000000002\n"
     ]
    }
   ],
   "source": [
    "import scipy.stats as stats\n",
    " \n",
    "\n",
    "data_group1 = np.array([14, 15, 15, 16, 13, 8, 14,\n",
    "                        17, 16, 14, 19, 20, 21, 15,\n",
    "                        15, 16, 16, 13, 14, 12])\n",
    "data_group2 = np.array([15, 17, 14, 17, 14, 8, 12,\n",
    "                        19, 19, 14, 17, 22, 24, 16,\n",
    "                        13, 16, 13, 18, 15, 13])\n",
    "\n",
    " \n",
    "# Print the variance of both data groups\n",
    "print(np.var(data_group1), np.var(data_group2))"
   ]
  },
  {
   "cell_type": "markdown",
   "id": "5c3c889a-658a-4cab-84d0-8f4284bdc2d2",
   "metadata": {},
   "source": [
    "## 11."
   ]
  },
  {
   "cell_type": "code",
   "execution_count": null,
   "id": "a657fbe0-16ce-4d1a-8bfa-36776d41c250",
   "metadata": {},
   "outputs": [],
   "source": [
    "# The t-distribution, also known as the Student's t-distribution, is a type of probability distribution that is similar to the normal distribution\n",
    "# with its bell shape but has heavier tails."
   ]
  },
  {
   "cell_type": "code",
   "execution_count": null,
   "id": "7dd39ddb-492e-460b-94f1-156846e03b76",
   "metadata": {},
   "outputs": [],
   "source": [
    "# It is used for estimating population parameters for small sample sizes or unknown variances."
   ]
  },
  {
   "cell_type": "markdown",
   "id": "a92b8813-c8f4-494d-b0ff-b0332beb2e59",
   "metadata": {},
   "source": [
    "## 12."
   ]
  },
  {
   "cell_type": "code",
   "execution_count": null,
   "id": "9b9e51de-82b6-48fc-bb08-518b1b35e984",
   "metadata": {},
   "outputs": [],
   "source": [
    "# The t-value measures the size of the difference relative to the variation in your sample data.\n",
    "# Put another way, T is simply the calculated difference represented in units of standard error.\n",
    "# The greater the magnitude of T, the greater the evidence against the null hypothesis."
   ]
  },
  {
   "cell_type": "code",
   "execution_count": null,
   "id": "39ff48f2-e7f4-4ecf-8fb5-21dfd11ca75a",
   "metadata": {},
   "outputs": [],
   "source": [
    "# Formula : T = (X̄ – μ) / S/√n"
   ]
  },
  {
   "cell_type": "markdown",
   "id": "f49eca44-c386-4761-aa01-6206cddceb94",
   "metadata": {},
   "source": [
    "## 13."
   ]
  },
  {
   "cell_type": "code",
   "execution_count": 1,
   "id": "99dc130b-43af-4d70-82a4-95b1dea4bc94",
   "metadata": {},
   "outputs": [],
   "source": [
    "# population mean=486.18"
   ]
  },
  {
   "cell_type": "markdown",
   "id": "668c08be-eba3-41da-9d68-21234f38c631",
   "metadata": {},
   "source": [
    "## 14."
   ]
  },
  {
   "cell_type": "code",
   "execution_count": 2,
   "id": "1036db2b-c005-40eb-a8bf-254a565505fc",
   "metadata": {},
   "outputs": [],
   "source": [
    "#  table valve of Z=1.97\n",
    "# calculated Z value=6.66\n",
    "\n",
    "#  6.66>1.97 hence we rejet null hypothesis. "
   ]
  },
  {
   "cell_type": "markdown",
   "id": "4ee013a8-b3be-4ba7-aa3e-8e525d0311fa",
   "metadata": {},
   "source": [
    "## 15"
   ]
  },
  {
   "cell_type": "code",
   "execution_count": null,
   "id": "172029a9-f07f-4076-aa35-b46504d5dd8d",
   "metadata": {},
   "outputs": [],
   "source": [
    "# table value of t=2.797\n",
    "#  calculated value of t=-2\n",
    "\n",
    "# so we accept null hypothesis."
   ]
  },
  {
   "cell_type": "markdown",
   "id": "55de6966-615c-460d-a175-bd9e9fd54df3",
   "metadata": {},
   "source": [
    "## 17."
   ]
  },
  {
   "cell_type": "code",
   "execution_count": null,
   "id": "17ce3265-9133-46c6-9ec3-7dcf1241a63a",
   "metadata": {},
   "outputs": [],
   "source": [
    "# population mean=3.45"
   ]
  }
 ],
 "metadata": {
  "kernelspec": {
   "display_name": "Python 3 (ipykernel)",
   "language": "python",
   "name": "python3"
  },
  "language_info": {
   "codemirror_mode": {
    "name": "ipython",
    "version": 3
   },
   "file_extension": ".py",
   "mimetype": "text/x-python",
   "name": "python",
   "nbconvert_exporter": "python",
   "pygments_lexer": "ipython3",
   "version": "3.10.8"
  }
 },
 "nbformat": 4,
 "nbformat_minor": 5
}
