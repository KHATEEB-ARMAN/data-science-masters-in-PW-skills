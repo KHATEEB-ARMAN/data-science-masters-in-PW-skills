{
 "cells": [
  {
   "cell_type": "markdown",
   "id": "fe36e877-6355-4041-b6c8-25b9dcd65a54",
   "metadata": {},
   "source": [
    "## 1"
   ]
  },
  {
   "cell_type": "code",
   "execution_count": 1,
   "id": "40d83ae3-f912-480f-8191-fd7d63b0c877",
   "metadata": {},
   "outputs": [],
   "source": [
    "import numpy as np\n",
    "import pandas as pd"
   ]
  },
  {
   "cell_type": "code",
   "execution_count": 2,
   "id": "5b267b70-73b7-4e43-b876-ebde5309ea4b",
   "metadata": {},
   "outputs": [],
   "source": [
    "list_=['1','2','3','4','5']"
   ]
  },
  {
   "cell_type": "code",
   "execution_count": 3,
   "id": "4bd7d817-a4e4-45a9-a4a2-aff7157d0943",
   "metadata": {},
   "outputs": [],
   "source": [
    "array_list=np.array(object=list)"
   ]
  },
  {
   "cell_type": "code",
   "execution_count": 4,
   "id": "caa04f14-b35a-45b1-96d2-8e6d818c884c",
   "metadata": {},
   "outputs": [
    {
     "data": {
      "text/plain": [
       "array(<class 'list'>, dtype=object)"
      ]
     },
     "execution_count": 4,
     "metadata": {},
     "output_type": "execute_result"
    }
   ],
   "source": [
    "array_list"
   ]
  },
  {
   "cell_type": "code",
   "execution_count": 18,
   "id": "0850ee6d-26b8-4442-aeba-cc5c17650484",
   "metadata": {},
   "outputs": [
    {
     "data": {
      "text/plain": [
       "array(['1', '2', '3', '4', '5'], dtype='<U1')"
      ]
     },
     "execution_count": 18,
     "metadata": {},
     "output_type": "execute_result"
    }
   ],
   "source": [
    "(array_list)"
   ]
  },
  {
   "cell_type": "code",
   "execution_count": 6,
   "id": "dd18f3c6-516e-410b-91ed-c6c1a6910ac8",
   "metadata": {},
   "outputs": [
    {
     "data": {
      "text/plain": [
       "list"
      ]
     },
     "execution_count": 6,
     "metadata": {},
     "output_type": "execute_result"
    }
   ],
   "source": [
    "type(list_)"
   ]
  },
  {
   "cell_type": "code",
   "execution_count": 7,
   "id": "36c16380-c0b2-478a-b3c5-bfca592bc2ce",
   "metadata": {},
   "outputs": [
    {
     "data": {
      "text/plain": [
       "numpy.ndarray"
      ]
     },
     "execution_count": 7,
     "metadata": {},
     "output_type": "execute_result"
    }
   ],
   "source": [
    "type(array_list)"
   ]
  },
  {
   "cell_type": "markdown",
   "id": "b0ee5581-88f6-44ca-af3b-c61652cab8ac",
   "metadata": {},
   "source": [
    "## 2."
   ]
  },
  {
   "cell_type": "code",
   "execution_count": 11,
   "id": "1197a5a2-ca2c-459a-be51-c361b2157918",
   "metadata": {},
   "outputs": [
    {
     "data": {
      "text/plain": [
       "str"
      ]
     },
     "execution_count": 11,
     "metadata": {},
     "output_type": "execute_result"
    }
   ],
   "source": [
    "type(list_[0])"
   ]
  },
  {
   "cell_type": "code",
   "execution_count": 26,
   "id": "1d8bf72e-89f8-4d3b-9379-87284f1abbdf",
   "metadata": {},
   "outputs": [
    {
     "data": {
      "text/plain": [
       "dtype('O')"
      ]
     },
     "execution_count": 26,
     "metadata": {},
     "output_type": "execute_result"
    }
   ],
   "source": [
    "array_list.dtype"
   ]
  },
  {
   "cell_type": "markdown",
   "id": "95892604-25be-4993-b7d2-e88ebeb6d26d",
   "metadata": {},
   "source": [
    "## 3."
   ]
  },
  {
   "cell_type": "code",
   "execution_count": 30,
   "id": "92e83074-fa06-4b04-a57d-eb4f665a093b",
   "metadata": {},
   "outputs": [],
   "source": [
    "array_list=np.array(object=list_,dtype=int)"
   ]
  },
  {
   "cell_type": "code",
   "execution_count": 31,
   "id": "984eeb4f-f490-4a3c-861f-55fa0c0b8665",
   "metadata": {},
   "outputs": [
    {
     "data": {
      "text/plain": [
       "array([1, 2, 3, 4, 5])"
      ]
     },
     "execution_count": 31,
     "metadata": {},
     "output_type": "execute_result"
    }
   ],
   "source": [
    "array_list"
   ]
  },
  {
   "cell_type": "code",
   "execution_count": 32,
   "id": "5c478163-e61a-4357-81d3-7c0fb8fa97fe",
   "metadata": {},
   "outputs": [
    {
     "data": {
      "text/plain": [
       "['1', '2', '3', '4', '5']"
      ]
     },
     "execution_count": 32,
     "metadata": {},
     "output_type": "execute_result"
    }
   ],
   "source": [
    "list_"
   ]
  },
  {
   "cell_type": "code",
   "execution_count": 34,
   "id": "be7a4825-92e9-457c-95e7-6e51c39a990b",
   "metadata": {},
   "outputs": [
    {
     "data": {
      "text/plain": [
       "str"
      ]
     },
     "execution_count": 34,
     "metadata": {},
     "output_type": "execute_result"
    }
   ],
   "source": [
    "type(list_[1])"
   ]
  },
  {
   "cell_type": "code",
   "execution_count": 35,
   "id": "f65d9c45-13e0-498e-be80-dd9bb5bd9053",
   "metadata": {},
   "outputs": [
    {
     "data": {
      "text/plain": [
       "numpy.int64"
      ]
     },
     "execution_count": 35,
     "metadata": {},
     "output_type": "execute_result"
    }
   ],
   "source": [
    "type(array_list[1])"
   ]
  },
  {
   "cell_type": "code",
   "execution_count": 36,
   "id": "c31422c4-c0b0-4833-987a-62799ac5a0f5",
   "metadata": {},
   "outputs": [],
   "source": [
    "###\n"
   ]
  },
  {
   "cell_type": "code",
   "execution_count": 37,
   "id": "a460c554-866e-4aa8-82c0-ae9b4b972922",
   "metadata": {},
   "outputs": [],
   "source": [
    "import numpy as np"
   ]
  },
  {
   "cell_type": "code",
   "execution_count": 40,
   "id": "f539c423-355d-4765-95a5-4ddaf96d76d2",
   "metadata": {},
   "outputs": [],
   "source": [
    "num_list=[[1,2,3],[4,5,6]]\n",
    "num_array=np.array(object=num_list)"
   ]
  },
  {
   "cell_type": "code",
   "execution_count": 41,
   "id": "99e3593d-a043-4e54-af41-ca1876fbe88c",
   "metadata": {},
   "outputs": [
    {
     "data": {
      "text/plain": [
       "[[1, 2, 3], [4, 5, 6]]"
      ]
     },
     "execution_count": 41,
     "metadata": {},
     "output_type": "execute_result"
    }
   ],
   "source": [
    "num_list"
   ]
  },
  {
   "cell_type": "code",
   "execution_count": 42,
   "id": "364a995e-30dd-48a1-872f-0399dc270905",
   "metadata": {},
   "outputs": [
    {
     "data": {
      "text/plain": [
       "array([[1, 2, 3],\n",
       "       [4, 5, 6]])"
      ]
     },
     "execution_count": 42,
     "metadata": {},
     "output_type": "execute_result"
    }
   ],
   "source": [
    "num_array"
   ]
  },
  {
   "cell_type": "code",
   "execution_count": 44,
   "id": "a8d92eae-3ff9-48f6-bc16-40e7496b9080",
   "metadata": {},
   "outputs": [
    {
     "data": {
      "text/plain": [
       "(2, 3)"
      ]
     },
     "execution_count": 44,
     "metadata": {},
     "output_type": "execute_result"
    }
   ],
   "source": [
    "np.shape(num_list)"
   ]
  },
  {
   "cell_type": "code",
   "execution_count": 45,
   "id": "15ec5f86-e32e-4f79-942b-20722887262c",
   "metadata": {},
   "outputs": [
    {
     "data": {
      "text/plain": [
       "(2, 3)"
      ]
     },
     "execution_count": 45,
     "metadata": {},
     "output_type": "execute_result"
    }
   ],
   "source": [
    "np.shape(num_array)"
   ]
  },
  {
   "cell_type": "code",
   "execution_count": 46,
   "id": "11b2a4ad-93d4-40da-a496-e18b0103cfe8",
   "metadata": {},
   "outputs": [
    {
     "data": {
      "text/plain": [
       "6"
      ]
     },
     "execution_count": 46,
     "metadata": {},
     "output_type": "execute_result"
    }
   ],
   "source": [
    "np.size(num_list)"
   ]
  },
  {
   "cell_type": "code",
   "execution_count": 47,
   "id": "5bbc0e77-3dd5-4081-8975-baf7eab44d16",
   "metadata": {},
   "outputs": [
    {
     "data": {
      "text/plain": [
       "6"
      ]
     },
     "execution_count": 47,
     "metadata": {},
     "output_type": "execute_result"
    }
   ],
   "source": [
    "np.size(num_array)"
   ]
  },
  {
   "cell_type": "markdown",
   "id": "5d88d66c-7eb0-4fc6-b0df-bad0a2a77d3a",
   "metadata": {},
   "source": [
    "## 5.  "
   ]
  },
  {
   "cell_type": "code",
   "execution_count": 49,
   "id": "00ee6e05-f51c-45da-8874-bc68263d91b9",
   "metadata": {},
   "outputs": [],
   "source": [
    "import numpy as np"
   ]
  },
  {
   "cell_type": "code",
   "execution_count": 54,
   "id": "f7f61c03-398e-4555-b3c8-a309eef188b3",
   "metadata": {},
   "outputs": [],
   "source": [
    "a=np.zeros([3,3])"
   ]
  },
  {
   "cell_type": "code",
   "execution_count": 55,
   "id": "0d63fade-4989-4642-8fea-4cb9785231d1",
   "metadata": {},
   "outputs": [
    {
     "data": {
      "text/plain": [
       "array([[0., 0., 0.],\n",
       "       [0., 0., 0.],\n",
       "       [0., 0., 0.]])"
      ]
     },
     "execution_count": 55,
     "metadata": {},
     "output_type": "execute_result"
    }
   ],
   "source": [
    "a"
   ]
  },
  {
   "cell_type": "code",
   "execution_count": 56,
   "id": "4fe0a2d9-16af-4f54-92d8-4ca6b63ea40c",
   "metadata": {},
   "outputs": [
    {
     "data": {
      "text/plain": [
       "9"
      ]
     },
     "execution_count": 56,
     "metadata": {},
     "output_type": "execute_result"
    }
   ],
   "source": [
    "np.size(a)"
   ]
  },
  {
   "cell_type": "markdown",
   "id": "f81a5e7b-f2ad-4b19-96ac-d2a406efd7ad",
   "metadata": {},
   "source": [
    "## 6."
   ]
  },
  {
   "cell_type": "code",
   "execution_count": 57,
   "id": "e1f51142-4f0e-40db-91a2-9b02f7e4975b",
   "metadata": {},
   "outputs": [],
   "source": [
    "a=np.eye(5,5)"
   ]
  },
  {
   "cell_type": "code",
   "execution_count": 58,
   "id": "8f47d61b-7310-4189-9719-1f4d535dbdee",
   "metadata": {},
   "outputs": [
    {
     "data": {
      "text/plain": [
       "array([[1., 0., 0., 0., 0.],\n",
       "       [0., 1., 0., 0., 0.],\n",
       "       [0., 0., 1., 0., 0.],\n",
       "       [0., 0., 0., 1., 0.],\n",
       "       [0., 0., 0., 0., 1.]])"
      ]
     },
     "execution_count": 58,
     "metadata": {},
     "output_type": "execute_result"
    }
   ],
   "source": [
    "a"
   ]
  },
  {
   "cell_type": "code",
   "execution_count": null,
   "id": "5e67f647-148c-4810-b488-82d6d9dd0b7b",
   "metadata": {},
   "outputs": [],
   "source": []
  }
 ],
 "metadata": {
  "kernelspec": {
   "display_name": "Python 3 (ipykernel)",
   "language": "python",
   "name": "python3"
  },
  "language_info": {
   "codemirror_mode": {
    "name": "ipython",
    "version": 3
   },
   "file_extension": ".py",
   "mimetype": "text/x-python",
   "name": "python",
   "nbconvert_exporter": "python",
   "pygments_lexer": "ipython3",
   "version": "3.10.8"
  }
 },
 "nbformat": 4,
 "nbformat_minor": 5
}
