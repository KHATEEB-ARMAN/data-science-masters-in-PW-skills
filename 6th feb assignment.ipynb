{
 "cells": [
  {
   "cell_type": "markdown",
   "id": "2e8c34f4-be70-4f1c-a311-daa386a1cb8c",
   "metadata": {},
   "source": [
    "# 1."
   ]
  },
  {
   "cell_type": "code",
   "execution_count": 4,
   "id": "5376c4d8-e0f9-4596-b871-7416b9158438",
   "metadata": {},
   "outputs": [],
   "source": [
    "list1 = [1,2,3,4, [44,55,66, True], False, (34,56,78,89,34), {1,2,3,3,2,1}, {1:34, \"key2\": [55, 67, 78, 89], 4: (45,\n",
    "22, 61, 34)}, [56, 'data science'], 'Machine Learning']"
   ]
  },
  {
   "cell_type": "code",
   "execution_count": 8,
   "id": "2fb0de92-61a2-45e5-a41c-e82456cef275",
   "metadata": {},
   "outputs": [],
   "source": [
    "from functools import reduce\n",
    "def list_func(lst):\n",
    "    flatList=[]\n",
    "    for i in lst:\n",
    "        if type(i)==list or type(i)==tuple or type(i)==set:\n",
    "            for j in i:\n",
    "                if type(j)==int:\n",
    "                    flatList.append(j)\n",
    "        elif type(i)==dict:\n",
    "            for a in i.keys():\n",
    "                if type(a)==int:\n",
    "                    flatList.append(a)\n",
    "            for b in i.values():\n",
    "                if type(b)==int:\n",
    "                    flatList.append(b)\n",
    "                if type(b)==list or type(b)==tuple:\n",
    "                    for c in b:\n",
    "                        if type(c)==int:\n",
    "                            flatList.append(c)\n",
    "        else:\n",
    "            if type(i)==int:\n",
    "                flatList.append(i)\n",
    "    return reduce(lambda x,y:x*y,flatList)"
   ]
  },
  {
   "cell_type": "code",
   "execution_count": 10,
   "id": "d3bc5906-184b-44d8-bc85-6dfb94f59d97",
   "metadata": {},
   "outputs": [
    {
     "data": {
      "text/plain": [
       "4134711838987085478833841242112000"
      ]
     },
     "execution_count": 10,
     "metadata": {},
     "output_type": "execute_result"
    }
   ],
   "source": [
    "list_func(list1)"
   ]
  },
  {
   "cell_type": "markdown",
   "id": "e72449c2-9f31-4422-a9e9-a00eb64b6bd1",
   "metadata": {},
   "source": [
    "# 2."
   ]
  },
  {
   "cell_type": "code",
   "execution_count": 14,
   "id": "05f02aae-86de-426e-9942-4d6a12d6fe0a",
   "metadata": {},
   "outputs": [
    {
     "name": "stdout",
     "output_type": "stream",
     "text": [
      "r$wznt$to$yvxonv$z$wztz$sxrvntrst.\n"
     ]
    }
   ],
   "source": [
    "sentance=\"I want to become a Data Scientist.\"\n",
    "lower_case=sentance.lower()\n",
    "encrypted=lower_case.replace('a','z').replace('b','y').replace('c','x').replace('d','w').replace('e','v').replace('f','u').replace('g','t').replace('h','s').replace('i','r').replace('j','q').replace('k','p').replace('l','o').replace('m','n').replace(' ','$')\n",
    "print(encrypted)"
   ]
  },
  {
   "cell_type": "code",
   "execution_count": null,
   "id": "7601d57c-97f9-45dc-8c0f-3c13fda1d349",
   "metadata": {},
   "outputs": [],
   "source": []
  }
 ],
 "metadata": {
  "kernelspec": {
   "display_name": "Python 3 (ipykernel)",
   "language": "python",
   "name": "python3"
  },
  "language_info": {
   "codemirror_mode": {
    "name": "ipython",
    "version": 3
   },
   "file_extension": ".py",
   "mimetype": "text/x-python",
   "name": "python",
   "nbconvert_exporter": "python",
   "pygments_lexer": "ipython3",
   "version": "3.10.8"
  }
 },
 "nbformat": 4,
 "nbformat_minor": 5
}
