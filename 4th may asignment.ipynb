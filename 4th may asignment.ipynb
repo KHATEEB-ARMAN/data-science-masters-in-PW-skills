{
 "cells": [
  {
   "cell_type": "markdown",
   "id": "14fd71c7-cce1-4eb2-bc2f-53aba4396d23",
   "metadata": {},
   "source": [
    "## 1"
   ]
  },
  {
   "cell_type": "code",
   "execution_count": 2,
   "id": "de2efe5d-d175-4d47-b1c6-039ebf7bc359",
   "metadata": {},
   "outputs": [],
   "source": [
    "# A time series is a data set that tracks a sample over time. In particular, a time series allows one to see what\n",
    "# factors influence certain variables from period to period"
   ]
  },
  {
   "cell_type": "code",
   "execution_count": 3,
   "id": "f79d7b92-eb51-42a9-86c9-f11abc0e20d8",
   "metadata": {},
   "outputs": [],
   "source": [
    "# It has tons of practical applications including: \n",
    "# weather forecasting.\n",
    "# climate forecasting.\n",
    "# economic forecasting.\n",
    "# healthcare forecasting engineering forecasting.\n",
    "# finance forecasting.\n",
    "# retail forecasting.\n",
    "# business forecasting.\n",
    "# environmental studies forecasting. \n",
    "# social studies forecasting."
   ]
  },
  {
   "cell_type": "markdown",
   "id": "781fb240-67dd-4686-b90f-b05cfb6056e9",
   "metadata": {},
   "source": [
    "## 2"
   ]
  },
  {
   "cell_type": "code",
   "execution_count": 4,
   "id": "6b6218da-7950-4f64-9d66-1537912354d8",
   "metadata": {},
   "outputs": [],
   "source": [
    "# There are three types of time series patterns:\n",
    "# 1. trend. \n",
    "# 2. seasonal.\n",
    "# 3. cyclic.\n",
    "\n",
    "# A trend pattern exists when there is a long-term increase or decrease in the series.\n",
    "\n",
    "# A seasonal pattern occurs when a time series is affected by seasonal factors such as the time of the year or the day of the week.\n",
    "# Seasonality is always of a fixed and known frequency. \n",
    "\n",
    "# A cycle occurs when the data exhibit rises and falls that are not of a fixed frequency. These fluctuations are usually\n",
    "# due to economic conditions, and are often related to the “business cycle”. The duration of these fluctuations is usually\n",
    "# at least 2 years."
   ]
  },
  {
   "cell_type": "markdown",
   "id": "94dd4f58-fc64-4313-a648-896759b95ef7",
   "metadata": {},
   "source": [
    "## 3"
   ]
  },
  {
   "cell_type": "code",
   "execution_count": 5,
   "id": "ff9e4fdc-54f0-4bf3-a24d-6063b4f25365",
   "metadata": {},
   "outputs": [],
   "source": [
    "# Preprocessing steps for time series data:\n",
    "\n",
    "# Structuring time-series data.\n",
    "# finding the missing values.\n",
    "# denoising the features.\n",
    "# finding the outliers present in the dataset."
   ]
  },
  {
   "cell_type": "markdown",
   "id": "daa60ead-600f-4dc3-9f71-18d7ef4b5218",
   "metadata": {},
   "source": [
    "## 4"
   ]
  },
  {
   "cell_type": "code",
   "execution_count": 6,
   "id": "4239f6f7-9471-4be3-a5e9-b7180e1e34a8",
   "metadata": {},
   "outputs": [],
   "source": [
    "# Many companies use time series forecasting, and analysis to develop business strategies. These techniques help businesses\n",
    "# in measuring, tracking, defining, and predicting business trends. Time series analysis provides you with an opportunity to\n",
    "# know the impact of the past over the future."
   ]
  },
  {
   "cell_type": "code",
   "execution_count": 7,
   "id": "7dea42ce-83cb-4d97-be0c-9d044ca7000c",
   "metadata": {},
   "outputs": [],
   "source": [
    "# Limitation:\n",
    "\n",
    "# It can suffer from generalization from a single study where more data points and models were warranted.\n",
    "# Human error could misidentify the correct data model, which can have a snowballing effect on the output.\n",
    "# It could also be difficult to obtain the appropriate data points."
   ]
  },
  {
   "cell_type": "code",
   "execution_count": 8,
   "id": "b28079c5-6453-41db-830b-cc3820eb8c42",
   "metadata": {},
   "outputs": [],
   "source": [
    "# Challenges:\n",
    "\n",
    "# Multiple seasonality: Time series that have multiple repeating patterns that occur at different frequencies and/or \n",
    "# timescales are more challenging to address using predictive models."
   ]
  },
  {
   "cell_type": "markdown",
   "id": "c01e3bc2-d866-474a-a527-a8c08f21b1d4",
   "metadata": {},
   "source": [
    "## 5"
   ]
  },
  {
   "cell_type": "code",
   "execution_count": 9,
   "id": "0e8ce825-7741-4750-b338-f934e9f5e523",
   "metadata": {},
   "outputs": [],
   "source": [
    "# ARIMA:\n",
    "\n",
    "# Autoregressive integrated moving average (ARIMA) models predict future values based on past values.\n",
    "# ARIMA makes use of lagged moving averages to smooth time series data. They are widely used in technical\n",
    "# analysis to forecast future security prices."
   ]
  },
  {
   "cell_type": "code",
   "execution_count": 10,
   "id": "35caaff0-2595-47bd-88e4-2a8d3b026988",
   "metadata": {},
   "outputs": [],
   "source": [
    "# It is a class of statistical algorithms that captures the standard temporal dependencies that is unique to a time series data."
   ]
  },
  {
   "cell_type": "markdown",
   "id": "09d6b2c8-5bdf-4918-8f55-c50e36d2242c",
   "metadata": {},
   "source": [
    "## 6"
   ]
  },
  {
   "cell_type": "code",
   "execution_count": 11,
   "id": "363e5175-dcb5-4653-8116-1b62b26a246a",
   "metadata": {},
   "outputs": [],
   "source": [
    "# Autocorrelation Function (ACF):\n",
    "\n",
    "# The autocorrelation analysis helps in detecting hidden patterns and seasonality and in checking for randomness.\n",
    "# It is especially important when you intend to use an ARIMA model for forecasting because the autocorrelation analysis\n",
    "# helps to identify the AR and MA parameters for the ARIMA model."
   ]
  },
  {
   "cell_type": "code",
   "execution_count": 12,
   "id": "7ad434c1-c47a-4621-b3ba-abf97671f39b",
   "metadata": {},
   "outputs": [],
   "source": [
    "# Partial Autocorrelation Function (PACF):\n",
    "\n",
    "# Additional correlation explained by each successive lagged term. The correlation between pbservations at two time spots\n",
    "# given that we consider both observations are correlated to observations at other time spots."
   ]
  },
  {
   "cell_type": "code",
   "execution_count": 13,
   "id": "71401373-c39d-4fab-b72d-2b31a1388a98",
   "metadata": {},
   "outputs": [],
   "source": [
    "# 1. Look for tail off pattern in either ACF or PACF.\n",
    "# 2. If tail off at ACF → AR model → Cut off at PACF will provide order p for AR(p).\n",
    "# 3. If tail off at PACF → MA model → Cut off at ACF will provide order q for MA(q).\n",
    "# 4. Tail of at both ACF and PACF → ARMA model"
   ]
  },
  {
   "cell_type": "markdown",
   "id": "9730a780-e967-46b4-b71e-f7ed8fe3af10",
   "metadata": {},
   "source": [
    "## 7"
   ]
  },
  {
   "cell_type": "code",
   "execution_count": 14,
   "id": "5f5e6a19-6667-4739-936f-52f5189f64bc",
   "metadata": {},
   "outputs": [],
   "source": [
    "# ARIMA models also assume that the data is normally distributed and homoscedastic, meaning it has constant variance,\n",
    "# which may not be true for some time series data. For the standard implementations out there for estimating ARIMA models\n",
    "# the above remarks are accurate."
   ]
  },
  {
   "cell_type": "code",
   "execution_count": 15,
   "id": "9427ee13-c0d8-4064-86f9-2ead78b4e0e2",
   "metadata": {},
   "outputs": [],
   "source": [
    "# The modelling process of ARIMA (SARIMA) can be complicated, in particular when selecting p,d,q and P,D,Q. \n",
    "# The ACF, the inverse autocorrelation function (IACF), and the PACF are typically used to confirm appropriateness \n",
    "# of the model's parameters and seasonality components"
   ]
  },
  {
   "cell_type": "markdown",
   "id": "b0df2310-4961-4c14-b4c8-d6d9c939420c",
   "metadata": {},
   "source": [
    "## 8"
   ]
  },
  {
   "cell_type": "code",
   "execution_count": 16,
   "id": "b1a80096-13a7-424f-af7c-336ee8896cc5",
   "metadata": {},
   "outputs": [],
   "source": [
    "# Time series forecasting model\n",
    "\n",
    "# Time series forecasting models are used to project future sales based on past sales trends. These models take into account the seasonality of a product or service to better predict future demand."
   ]
  },
  {
   "cell_type": "markdown",
   "id": "8d57afa2-e4e5-44f4-bbce-e01db4337e81",
   "metadata": {},
   "source": [
    "## 9"
   ]
  },
  {
   "cell_type": "code",
   "execution_count": 17,
   "id": "9b46e5b8-1c25-4f43-8b64-e17753e2e92c",
   "metadata": {},
   "outputs": [],
   "source": [
    "#Time series has the below-mentioned limitations:\n",
    "\n",
    "# 1. The data points must be linear in their relationship. \n",
    "# 2. Data transformations are mandatory.\n",
    "# 3. They are a little expensive.\n",
    "# 4. Models mostly work on Uni-variate data."
   ]
  },
  {
   "cell_type": "code",
   "execution_count": 18,
   "id": "bdda13bf-2105-44a3-8302-16390fd2b2d5",
   "metadata": {},
   "outputs": [],
   "source": [
    "# 1. Stock market analysis is an excellent example of time series analysis in action, especially with automated trading algorithms.\n",
    "# 2. time series analysis is ideal for forecasting weather changes, helping meteorologists predict everything from tomorrow's weather\n",
    "# report to future years of climate change."
   ]
  },
  {
   "cell_type": "markdown",
   "id": "9f8ab43d-2701-45d9-961f-5b4e155e3948",
   "metadata": {},
   "source": [
    "## 10"
   ]
  },
  {
   "cell_type": "code",
   "execution_count": 19,
   "id": "8182cff6-689b-4bb7-8795-2a17e2089026",
   "metadata": {},
   "outputs": [],
   "source": [
    "#  A stationary time series is a series whose statistical properties are independent of the point in time at which they are observed.\n",
    "\n",
    "# A stationary time series has a constant variance and it always returns to the long-run mean.\n",
    "\n",
    "# A stationary time series always reverts to the long-term mean.\n",
    "\n",
    "# A stationary time series will not have trends, seasonality, etc."
   ]
  },
  {
   "cell_type": "code",
   "execution_count": 20,
   "id": "3b83fc3f-e62a-4268-b1ce-230e0c3dc097",
   "metadata": {},
   "outputs": [],
   "source": [
    "# A time series whose statistical properties change over time is called a non-stationary time series.\n",
    "# Thus a time series with a trend or seasonality is non-stationary in nature.\n",
    "\n",
    "# This is because the presence of trend or seasonality will affect the mean, variance and other properties at any given point in time.\n",
    "\n",
    "# A non-stationary time series does not revert to the long term mean.\n",
    "\n",
    "# Presence of trends, seasonality makes a series non-stationary."
   ]
  },
  {
   "cell_type": "code",
   "execution_count": null,
   "id": "6fdbcfae-a626-41da-847d-20b117c2ad84",
   "metadata": {},
   "outputs": [],
   "source": []
  }
 ],
 "metadata": {
  "kernelspec": {
   "display_name": "Python 3 (ipykernel)",
   "language": "python",
   "name": "python3"
  },
  "language_info": {
   "codemirror_mode": {
    "name": "ipython",
    "version": 3
   },
   "file_extension": ".py",
   "mimetype": "text/x-python",
   "name": "python",
   "nbconvert_exporter": "python",
   "pygments_lexer": "ipython3",
   "version": "3.10.8"
  }
 },
 "nbformat": 4,
 "nbformat_minor": 5
}
