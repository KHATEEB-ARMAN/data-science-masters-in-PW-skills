{
 "cells": [
  {
   "cell_type": "markdown",
   "id": "05115e78-ae35-454e-8ea4-637bcaf379eb",
   "metadata": {},
   "source": [
    "## 1."
   ]
  },
  {
   "cell_type": "code",
   "execution_count": 18,
   "id": "2ff93457-a427-46f2-b983-3d904c9aed9a",
   "metadata": {},
   "outputs": [],
   "source": [
    "## open(\"file name\",\"mode\")"
   ]
  },
  {
   "cell_type": "code",
   "execution_count": 19,
   "id": "21b0de2c-117e-4f4f-9f3e-ac74d3d0436d",
   "metadata": {},
   "outputs": [],
   "source": [
    "## there is 6 diffrent modes to open python file.\n",
    "#  Read Only ('r') : Open text file for reading.\n",
    "#  Read and Write ('r+'): Open the file for reading and writing\n",
    "#  Write Only ('w') : Open the file for writing.\n",
    "#  Write and Read ('w+') : Open the file for reading and writing. \n",
    "#  Append Only ('a'): Open the file for writing.\n",
    "#  Append and read ('a+'): open the file foe read and writing."
   ]
  },
  {
   "cell_type": "markdown",
   "id": "e7c7d031-3dfa-45c7-8393-afb95d6a6321",
   "metadata": {},
   "source": [
    "## 2."
   ]
  },
  {
   "cell_type": "code",
   "execution_count": 20,
   "id": "ac032748-caec-4491-9564-34e5254d2448",
   "metadata": {},
   "outputs": [],
   "source": [
    "## The close() method closes an open file. You should always close your files, in some cases, due to buffering, changes made to a file may not show until you close the file."
   ]
  },
  {
   "cell_type": "markdown",
   "id": "eebe9d36-754e-4f86-889e-014b2eb4885b",
   "metadata": {},
   "source": [
    "## 3."
   ]
  },
  {
   "cell_type": "code",
   "execution_count": 21,
   "id": "91081c33-71c8-4748-9468-8bfc395b9be8",
   "metadata": {},
   "outputs": [],
   "source": [
    "import io"
   ]
  },
  {
   "cell_type": "code",
   "execution_count": 22,
   "id": "0e0e1ca6-75a6-48ab-bd51-d218139446cc",
   "metadata": {},
   "outputs": [],
   "source": [
    "with open(\"test9.txt\",\"w\") as f:\n",
    "    f.write('I want to become a data scientist')\n",
    "    f.close()\n",
    "    "
   ]
  },
  {
   "cell_type": "code",
   "execution_count": 24,
   "id": "de48b6c8-e8db-4363-9341-0092aed5c8ac",
   "metadata": {},
   "outputs": [
    {
     "name": "stdout",
     "output_type": "stream",
     "text": [
      "I want to become a data scientist\n"
     ]
    }
   ],
   "source": [
    "with open(\"test9.txt\",\"r\") as f:\n",
    "    print(f.read())"
   ]
  },
  {
   "cell_type": "markdown",
   "id": "ef22607b-6c68-44e4-8265-61af55c28abd",
   "metadata": {},
   "source": [
    "## 4."
   ]
  },
  {
   "cell_type": "code",
   "execution_count": null,
   "id": "a81234a8-0258-44d1-bf20-2ea16fca4d9b",
   "metadata": {},
   "outputs": [],
   "source": [
    "## a.read():The read() method returns the specified number of bytes from the file. Default is -1 which means the whole file.\n",
    "## b.readline():The readline() method returns one line from the file. You can also specified how many bytes from the line to return, by using the size parameter.\n",
    "## c.readlines():The readlines() method returns a list containing each line in the file as a list item. Use the hint parameter to limit the number of lines returned."
   ]
  },
  {
   "cell_type": "markdown",
   "id": "24360336-c022-4d3f-8a07-a0e2a75c4d1d",
   "metadata": {},
   "source": [
    "## 5."
   ]
  },
  {
   "cell_type": "code",
   "execution_count": 26,
   "id": "cf7099ad-889f-482c-930b-8a62446e8fc9",
   "metadata": {},
   "outputs": [],
   "source": [
    "## In Python, with statement is used in exception handling to make the code cleaner and much more readable. It simplifies the management of common resources like file streams."
   ]
  },
  {
   "cell_type": "markdown",
   "id": "a1c051d0-f91a-4d3e-a055-df8bcf726090",
   "metadata": {},
   "source": [
    "## 6."
   ]
  },
  {
   "cell_type": "code",
   "execution_count": null,
   "id": "e98cdb04-5888-473f-896e-6d321f2a154f",
   "metadata": {},
   "outputs": [],
   "source": [
    "## write():Write() method displays the output but do not provide a new line character. \n",
    "## writeline():WriteLine is used to print data along with printing the new line."
   ]
  },
  {
   "cell_type": "code",
   "execution_count": 30,
   "id": "12bcb610-aa43-402f-80b6-73c62b0f197e",
   "metadata": {},
   "outputs": [],
   "source": [
    "file_obj = open(\"writing.txt\", \"w\")\n",
    "file_obj.write(\"This is how you write to a file\")\n",
    "file_obj.write(\"Now this will be written to another line\")\n",
    "file_obj.close()"
   ]
  },
  {
   "cell_type": "code",
   "execution_count": null,
   "id": "2dc55bba-043c-4a3f-94b5-3be37f6fa65b",
   "metadata": {},
   "outputs": [],
   "source": [
    "## if we want to print i different lines then we to type \"\\n\" in end of the first line."
   ]
  },
  {
   "cell_type": "code",
   "execution_count": 31,
   "id": "857b73f4-5362-4b6e-97e6-2d5c7ec557ff",
   "metadata": {},
   "outputs": [],
   "source": [
    "file_obj = open(\"writing.txt\", \"w\")\n",
    "file_obj.write(\"This is how you write to a file \\n\")\n",
    "file_obj.write(\"Now this will be written to another line\")\n",
    "file_obj.close()"
   ]
  },
  {
   "cell_type": "code",
   "execution_count": null,
   "id": "f56f7873-07d0-48c6-aebf-8e181d4eafcc",
   "metadata": {},
   "outputs": [],
   "source": [
    "## example for writelin"
   ]
  },
  {
   "cell_type": "code",
   "execution_count": null,
   "id": "8f538ea8-366b-4767-823f-07767f33f17a",
   "metadata": {},
   "outputs": [],
   "source": []
  },
  {
   "cell_type": "code",
   "execution_count": null,
   "id": "4001c6b8-fdd7-40bd-81c2-422cb94815c2",
   "metadata": {},
   "outputs": [],
   "source": []
  },
  {
   "cell_type": "code",
   "execution_count": null,
   "id": "56fe8355-72a8-4cea-bf14-875b44e17383",
   "metadata": {},
   "outputs": [],
   "source": []
  },
  {
   "cell_type": "code",
   "execution_count": null,
   "id": "9b4085a3-82e3-4979-aaf8-0c1bcce6bd91",
   "metadata": {},
   "outputs": [],
   "source": []
  },
  {
   "cell_type": "code",
   "execution_count": null,
   "id": "ca79afe1-2f43-465b-822f-333cbaf538af",
   "metadata": {},
   "outputs": [],
   "source": []
  },
  {
   "cell_type": "code",
   "execution_count": null,
   "id": "64cac81d-63a3-439f-a656-4965ebc0fb74",
   "metadata": {},
   "outputs": [],
   "source": []
  }
 ],
 "metadata": {
  "kernelspec": {
   "display_name": "Python 3 (ipykernel)",
   "language": "python",
   "name": "python3"
  },
  "language_info": {
   "codemirror_mode": {
    "name": "ipython",
    "version": 3
   },
   "file_extension": ".py",
   "mimetype": "text/x-python",
   "name": "python",
   "nbconvert_exporter": "python",
   "pygments_lexer": "ipython3",
   "version": "3.10.8"
  }
 },
 "nbformat": 4,
 "nbformat_minor": 5
}
