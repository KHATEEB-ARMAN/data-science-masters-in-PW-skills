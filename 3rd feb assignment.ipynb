{
 "cells": [
  {
   "cell_type": "markdown",
   "id": "4c1e12ba-49c2-4a86-acec-f47abaae942c",
   "metadata": {},
   "source": [
    "            ## assignment"
   ]
  },
  {
   "cell_type": "code",
   "execution_count": 1,
   "id": "a2070994-261f-4452-8951-796756f1c387",
   "metadata": {},
   "outputs": [],
   "source": [
    "## 1.\"def\"function is used to create a function."
   ]
  },
  {
   "cell_type": "code",
   "execution_count": 4,
   "id": "b4a60af5-af9a-48ff-980b-15a70baa7459",
   "metadata": {},
   "outputs": [],
   "source": [
    "def test10(n):\n",
    "    for i in range(n):\n",
    "        if i%2==1:\n",
    "            print(i)"
   ]
  },
  {
   "cell_type": "code",
   "execution_count": 5,
   "id": "839bd0d3-5129-4b61-8225-26215c223e79",
   "metadata": {},
   "outputs": [
    {
     "name": "stdout",
     "output_type": "stream",
     "text": [
      "1\n",
      "3\n",
      "5\n",
      "7\n",
      "9\n",
      "11\n",
      "13\n",
      "15\n",
      "17\n",
      "19\n",
      "21\n",
      "23\n"
     ]
    }
   ],
   "source": [
    "test10(25)"
   ]
  },
  {
   "cell_type": "code",
   "execution_count": null,
   "id": "88515209-bfd8-4b1c-8934-894b36729e9c",
   "metadata": {},
   "outputs": [],
   "source": [
    "#  2.We use *args and **kwargs as an argument when we are unsure about the number of arguments to pass in the functions."
   ]
  },
  {
   "cell_type": "code",
   "execution_count": 37,
   "id": "0b42a24a-a076-4783-94df-26e7b8929e3a",
   "metadata": {},
   "outputs": [],
   "source": [
    "a=(1,2,3,4,5,\"mohammed\",\"arman\")"
   ]
  },
  {
   "cell_type": "code",
   "execution_count": 32,
   "id": "a1968410-4a12-49ec-acf1-98a86a80c36d",
   "metadata": {},
   "outputs": [],
   "source": [
    "def test1(*args):\n",
    "    k=[]\n",
    "    for i in args:\n",
    "        if type(i)==int:\n",
    "            k.append(i)\n",
    "    return k"
   ]
  },
  {
   "cell_type": "code",
   "execution_count": 39,
   "id": "42396b4f-f1ff-428b-8ff9-60ee508ac350",
   "metadata": {},
   "outputs": [
    {
     "data": {
      "text/plain": [
       "[1, 2, 3, 4, 5]"
      ]
     },
     "execution_count": 39,
     "metadata": {},
     "output_type": "execute_result"
    }
   ],
   "source": [
    "test1(1,2,3,4,5,\"mohammed\",\"arman\")"
   ]
  },
  {
   "cell_type": "code",
   "execution_count": 40,
   "id": "415518d6-de9f-4106-acd1-b37e73b2475c",
   "metadata": {},
   "outputs": [],
   "source": [
    "def test1(*args):\n",
    "    k=[]\n",
    "    for i in args:\n",
    "        if type(i)==str:\n",
    "            k.append(i)\n",
    "    return k"
   ]
  },
  {
   "cell_type": "code",
   "execution_count": 41,
   "id": "c2634e49-d485-4976-a1c8-1d231247a4ea",
   "metadata": {},
   "outputs": [
    {
     "data": {
      "text/plain": [
       "['mohammed', 'arman']"
      ]
     },
     "execution_count": 41,
     "metadata": {},
     "output_type": "execute_result"
    }
   ],
   "source": [
    "test1(1,2,3,4,5,\"mohammed\",\"arman\")"
   ]
  },
  {
   "cell_type": "code",
   "execution_count": null,
   "id": "deb08a10-0ef9-4e7d-b4e3-f604f4b2449a",
   "metadata": {},
   "outputs": [],
   "source": [
    "## for kwargs"
   ]
  },
  {
   "cell_type": "code",
   "execution_count": 43,
   "id": "3b4a3378-8831-4775-9da1-b797f200fb7c",
   "metadata": {},
   "outputs": [],
   "source": [
    "def test2(**kwargs):\n",
    "    for i in kwargs:\n",
    "        if type(kwargs[i])==list:\n",
    "            return i,kwargs[i]"
   ]
  },
  {
   "cell_type": "code",
   "execution_count": 44,
   "id": "78bc714e-7eee-4511-95db-d9c376351d89",
   "metadata": {},
   "outputs": [
    {
     "data": {
      "text/plain": [
       "('c', [1, 2, 3, 4])"
      ]
     },
     "execution_count": 44,
     "metadata": {},
     "output_type": "execute_result"
    }
   ],
   "source": [
    "test2(a=34,b=23,c=[1,2,3,4],d=(\"arman\",\"khat\"))"
   ]
  },
  {
   "cell_type": "code",
   "execution_count": 9,
   "id": "cf80be52-babc-4773-82ae-5bd5e0b1dc41",
   "metadata": {},
   "outputs": [],
   "source": [
    "def test2(**kwargs):\n",
    "    for i in kwargs:\n",
    "        if type(kwargs[i])==tuple:\n",
    "            return i,kwargs[i]"
   ]
  },
  {
   "cell_type": "code",
   "execution_count": 10,
   "id": "fab70534-518a-4cef-8675-a603a5f3f925",
   "metadata": {},
   "outputs": [
    {
     "data": {
      "text/plain": [
       "('d', ('arman', 'khat'))"
      ]
     },
     "execution_count": 10,
     "metadata": {},
     "output_type": "execute_result"
    }
   ],
   "source": [
    "test2(a=34,b=23,c=[1,2,3,4],d=(\"arman\",\"khat\"))"
   ]
  },
  {
   "cell_type": "code",
   "execution_count": 11,
   "id": "5d30d133-24bd-4b6b-b597-13da26682469",
   "metadata": {},
   "outputs": [],
   "source": [
    "def test2(**kwargs):\n",
    "    for i in kwargs:\n",
    "        if type(kwargs[i])==list:\n",
    "            return i,kwargs[i]"
   ]
  },
  {
   "cell_type": "code",
   "execution_count": 12,
   "id": "19059037-d668-42d8-9943-970bce50133d",
   "metadata": {},
   "outputs": [
    {
     "data": {
      "text/plain": [
       "('c', [1, 2, 3, 4])"
      ]
     },
     "execution_count": 12,
     "metadata": {},
     "output_type": "execute_result"
    }
   ],
   "source": [
    "test2(a=34,b=23,c=[1,2,3,4],d=(\"arman\",\"khat\"))"
   ]
  },
  {
   "cell_type": "code",
   "execution_count": 15,
   "id": "7971bc89-a2f9-47a3-a6a3-bc5edbb8fc35",
   "metadata": {},
   "outputs": [],
   "source": [
    "def test2(*args,**kwargs):\n",
    "    for i in kwargs:\n",
    "        if type(kwargs[i])==int:\n",
    "            return i,kwargs[i]"
   ]
  },
  {
   "cell_type": "code",
   "execution_count": 16,
   "id": "950b82da-7ea7-42ae-9b9b-2565c58265bf",
   "metadata": {},
   "outputs": [
    {
     "data": {
      "text/plain": [
       "('a', 34)"
      ]
     },
     "execution_count": 16,
     "metadata": {},
     "output_type": "execute_result"
    }
   ],
   "source": [
    "test2(a=34,b=23,c=[1,2,3,4],d=(\"arman\",\"khat\"))"
   ]
  },
  {
   "cell_type": "code",
   "execution_count": 71,
   "id": "5d127961-f393-40a6-88f8-b1205001a87c",
   "metadata": {},
   "outputs": [],
   "source": [
    "#3.An iterator is an object that contains a countable number of values."
   ]
  },
  {
   "cell_type": "code",
   "execution_count": null,
   "id": "684eabf5-0cc9-4806-a67f-38d64701b6cc",
   "metadata": {},
   "outputs": [],
   "source": [
    "# _iter_() and _next_() are used to iterstion. "
   ]
  },
  {
   "cell_type": "code",
   "execution_count": null,
   "id": "317b9dea-df3f-4c59-baea-9352286edace",
   "metadata": {},
   "outputs": [],
   "source": [
    "# 4. Python Generator functions allow you to declare a function that behaves likes an iterator, allowing programmers to make an iterator in a fast, easy, and clean way"
   ]
  },
  {
   "cell_type": "code",
   "execution_count": null,
   "id": "d6995fae-eb7b-45c1-9de3-ff7cb72883f4",
   "metadata": {},
   "outputs": [],
   "source": [
    "# The yield statement returns a generator object to the one who calls the function which contains yield, instead of simply returning a value."
   ]
  },
  {
   "cell_type": "code",
   "execution_count": 22,
   "id": "20d62663-7778-4bb1-8ec9-1183198094b2",
   "metadata": {},
   "outputs": [],
   "source": [
    "def test_fib(n):\n",
    "    a,b=0,1\n",
    "    for i in range(n):\n",
    "        yield a\n",
    "        a,b=b,a+b\n",
    "    "
   ]
  },
  {
   "cell_type": "code",
   "execution_count": 24,
   "id": "0885c389-5a5e-481e-9079-138a08e490d2",
   "metadata": {},
   "outputs": [
    {
     "data": {
      "text/plain": [
       "<generator object test_fib at 0x7f4fd84368f0>"
      ]
     },
     "execution_count": 24,
     "metadata": {},
     "output_type": "execute_result"
    }
   ],
   "source": [
    "test_fib(10)"
   ]
  },
  {
   "cell_type": "code",
   "execution_count": 25,
   "id": "b087bd48-fc8d-4f6d-86e2-32a3d63825ba",
   "metadata": {},
   "outputs": [
    {
     "name": "stdout",
     "output_type": "stream",
     "text": [
      "0 1 1 2 3 5 8 13 21 34 "
     ]
    }
   ],
   "source": [
    "for i in test_fib(10):\n",
    "    print(i,end=\" \")"
   ]
  },
  {
   "cell_type": "code",
   "execution_count": null,
   "id": "9c70225d-9d03-4199-888e-a1add80c43b4",
   "metadata": {},
   "outputs": [],
   "source": [
    "#   5."
   ]
  },
  {
   "cell_type": "code",
   "execution_count": 69,
   "id": "566dba93-689d-4403-8f63-32deaf795b92",
   "metadata": {},
   "outputs": [],
   "source": [
    "def prime_numbers(n):\n",
    "    primes = []\n",
    "    for i in range(2,n+1):\n",
    "        for j in range(2,int(i **0.5) +1):\n",
    "            if i%j==0:\n",
    "                break\n",
    "        else:\n",
    "            primes.append(i)\n",
    "    return primes"
   ]
  },
  {
   "cell_type": "code",
   "execution_count": 70,
   "id": "43289aea-da68-4201-a5f5-63f67b6f282d",
   "metadata": {},
   "outputs": [
    {
     "data": {
      "text/plain": [
       "[2,\n",
       " 3,\n",
       " 5,\n",
       " 7,\n",
       " 11,\n",
       " 13,\n",
       " 17,\n",
       " 19,\n",
       " 23,\n",
       " 29,\n",
       " 31,\n",
       " 37,\n",
       " 41,\n",
       " 43,\n",
       " 47,\n",
       " 53,\n",
       " 59,\n",
       " 61,\n",
       " 67,\n",
       " 71,\n",
       " 73,\n",
       " 79,\n",
       " 83,\n",
       " 89]"
      ]
     },
     "execution_count": 70,
     "metadata": {},
     "output_type": "execute_result"
    }
   ],
   "source": [
    "prime_numbers(90)"
   ]
  },
  {
   "cell_type": "code",
   "execution_count": null,
   "id": "6652b0e2-1a7d-4c77-97fa-8326f6a92454",
   "metadata": {},
   "outputs": [],
   "source": []
  }
 ],
 "metadata": {
  "kernelspec": {
   "display_name": "Python 3 (ipykernel)",
   "language": "python",
   "name": "python3"
  },
  "language_info": {
   "codemirror_mode": {
    "name": "ipython",
    "version": 3
   },
   "file_extension": ".py",
   "mimetype": "text/x-python",
   "name": "python",
   "nbconvert_exporter": "python",
   "pygments_lexer": "ipython3",
   "version": "3.10.8"
  }
 },
 "nbformat": 4,
 "nbformat_minor": 5
}
