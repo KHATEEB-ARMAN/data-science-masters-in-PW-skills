{
 "cells": [
  {
   "cell_type": "markdown",
   "id": "349b1b9f-865a-47c9-b013-f410004c71a1",
   "metadata": {},
   "source": [
    "## 1."
   ]
  },
  {
   "cell_type": "code",
   "execution_count": 13,
   "id": "743edb61-0d4a-479a-aa5f-aa733dfddcd9",
   "metadata": {},
   "outputs": [],
   "source": [
    "# Encoding is the process of converting the data or a given sequence of characters, symbols, alphabets etc., into a specified format,\n",
    "# for the secured transmission of data. "
   ]
  },
  {
   "cell_type": "code",
   "execution_count": 14,
   "id": "54feb012-08f9-49bf-9e61-1068db46c032",
   "metadata": {},
   "outputs": [],
   "source": [
    "#  Encoding is necessary to convert the categorical values of the features into numerical ones, So the machine can learn from those data and gives the right model.\n",
    "# This process of converting categorical data into numerical data is called Encoding. There are two most popular types of encoding, Nominal Encoding."
   ]
  },
  {
   "cell_type": "code",
   "execution_count": 15,
   "id": "5a333402-b668-43dd-a9d3-6bfa6b7d6d1f",
   "metadata": {},
   "outputs": [],
   "source": [
    "# Encoding enables computers to process and transmit information that is not numerical-based, such as text, audio, and video"
   ]
  },
  {
   "cell_type": "markdown",
   "id": "24c09573-558f-45e2-87a4-cb3a71e8b77b",
   "metadata": {},
   "source": [
    "## 2."
   ]
  },
  {
   "cell_type": "code",
   "execution_count": 16,
   "id": "71ac05a2-b4a9-4c09-93ea-28432c66feba",
   "metadata": {},
   "outputs": [],
   "source": [
    "# When we have a feature where variables are just names and there is no order or rank to this variable's feature.\n",
    "# For example: City of person lives in, Gender of person, Marital Status, etc… In the above example, We do not have any order or rank, or sequence."
   ]
  },
  {
   "cell_type": "markdown",
   "id": "14b1d15b-4961-4873-bfcb-b25b6b09ed6b",
   "metadata": {},
   "source": [
    "## 3."
   ]
  },
  {
   "cell_type": "code",
   "execution_count": 17,
   "id": "543b7c64-fa5d-49d7-8c9f-83d8d3d36151",
   "metadata": {},
   "outputs": [],
   "source": [
    "# When we have a feature where variables are just names and there is no order or rank to this variable's feature. \n",
    "# For example: City of person lives in, Gender of person, Marital Status, etc… In the above example, We do not have any order or rank, or sequence."
   ]
  },
  {
   "cell_type": "code",
   "execution_count": 18,
   "id": "8d75bc6f-03c0-4048-866f-c92383633d2e",
   "metadata": {},
   "outputs": [],
   "source": [
    "#  one-hot encoding comes in help because it transforms categorical data into numerical; in other words: it transforms strings into numbers so\n",
    "# that we can apply our Machine Learning algorithms without any problems.\n"
   ]
  },
  {
   "cell_type": "code",
   "execution_count": 19,
   "id": "663c75ec-0f41-4e10-9ccb-52dc64dd6cd1",
   "metadata": {},
   "outputs": [
    {
     "name": "stdout",
     "output_type": "stream",
     "text": [
      "setosa        50\n",
      "versicolor    50\n",
      "virginica     50\n",
      "Name: species, dtype: int64 150 ['setosa' 'versicolor' 'virginica']\n",
      "150\n",
      "['setosa' 'versicolor' 'virginica']\n"
     ]
    }
   ],
   "source": [
    "# Exmaple:\n",
    "\n",
    "import pandas as pd\n",
    "import numpy as np\n",
    "import seaborn as sns\n",
    "df=sns.load_dataset(\"iris\")\n",
    "\n",
    "# we are ding one hot encoding for species.\n",
    "\n",
    "print(df['species'].value_counts(),df['species'].count(),df['species'].unique())\n",
    "print(df['species'].count())\n",
    "print(df['species'].unique())"
   ]
  },
  {
   "cell_type": "code",
   "execution_count": 20,
   "id": "ef737e3e-572a-43db-b74a-4186b6ada46c",
   "metadata": {},
   "outputs": [
    {
     "name": "stdout",
     "output_type": "stream",
     "text": [
      "     sepal_length  sepal_width  petal_length  petal_width  species_setosa  \\\n",
      "0             5.1          3.5           1.4          0.2               1   \n",
      "1             4.9          3.0           1.4          0.2               1   \n",
      "2             4.7          3.2           1.3          0.2               1   \n",
      "3             4.6          3.1           1.5          0.2               1   \n",
      "4             5.0          3.6           1.4          0.2               1   \n",
      "..            ...          ...           ...          ...             ...   \n",
      "145           6.7          3.0           5.2          2.3               0   \n",
      "146           6.3          2.5           5.0          1.9               0   \n",
      "147           6.5          3.0           5.2          2.0               0   \n",
      "148           6.2          3.4           5.4          2.3               0   \n",
      "149           5.9          3.0           5.1          1.8               0   \n",
      "\n",
      "     species_versicolor  species_virginica  \n",
      "0                     0                  0  \n",
      "1                     0                  0  \n",
      "2                     0                  0  \n",
      "3                     0                  0  \n",
      "4                     0                  0  \n",
      "..                  ...                ...  \n",
      "145                   0                  1  \n",
      "146                   0                  1  \n",
      "147                   0                  1  \n",
      "148                   0                  1  \n",
      "149                   0                  1  \n",
      "\n",
      "[150 rows x 7 columns]\n"
     ]
    }
   ],
   "source": [
    "one_hot_encoded_data=pd.get_dummies(df,columns=['species'])\n",
    "print(one_hot_encoded_data)"
   ]
  },
  {
   "cell_type": "markdown",
   "id": "013870c6-3803-416b-bebc-bf2e5779dc8b",
   "metadata": {},
   "source": [
    "## 4."
   ]
  },
  {
   "cell_type": "code",
   "execution_count": 21,
   "id": "1731039d-7571-4794-b488-4aacb509a967",
   "metadata": {},
   "outputs": [],
   "source": [
    "# we use label  encoding.\n",
    "\n",
    "# Because the label encoding convert the  all categorical data into numerical or some label values."
   ]
  },
  {
   "cell_type": "markdown",
   "id": "fb8a0af9-ffb2-49b5-a96f-1473df3e758e",
   "metadata": {},
   "source": [
    "## 5."
   ]
  },
  {
   "cell_type": "code",
   "execution_count": 22,
   "id": "98e67188-3cfe-44e8-9588-f63c6a3cdbb0",
   "metadata": {},
   "outputs": [],
   "source": [
    "# Nominal encoding: In nominal encoding onlt 2 extra columns are created.\n",
    "#Ordina encoding : in ordinal encoding how many diffrent feature are available in thae column tat much extra columns are creted."
   ]
  },
  {
   "cell_type": "markdown",
   "id": "3bd47f46-a205-4d88-8875-2a1ac5f2a2e2",
   "metadata": {},
   "source": [
    "## 6. "
   ]
  },
  {
   "cell_type": "code",
   "execution_count": 23,
   "id": "0c4614ef-9d95-4540-81e7-4ca527438734",
   "metadata": {},
   "outputs": [],
   "source": [
    "# we use nominal encodig technique.\n",
    "\n",
    "# because in animal,species,habit and diet all tge coiulmns are like a group.we cant \n",
    "# make any rank in that."
   ]
  },
  {
   "cell_type": "markdown",
   "id": "f239db93-20fd-4371-a1a1-d0420da9ca85",
   "metadata": {},
   "source": [
    "## 7."
   ]
  },
  {
   "cell_type": "code",
   "execution_count": 24,
   "id": "600e844a-9422-4c2e-96d5-2cde0fcc1e64",
   "metadata": {},
   "outputs": [],
   "source": [
    "# In this only 2 are the categorical colummns.\n",
    "\n",
    "# gender: for gender we can use binary encoding because it has only 2 feature.\n",
    "\n",
    "# contract type: for contract type we can use ordinal encoding technique technique.\n",
    "#                because it will be like 1,2,3... years. so we can make itlike a rank who did more years or experiene it has the high rank."
   ]
  },
  {
   "cell_type": "code",
   "execution_count": null,
   "id": "8a54265f-0acc-4c83-b2a4-1704c33ad25a",
   "metadata": {},
   "outputs": [],
   "source": []
  }
 ],
 "metadata": {
  "kernelspec": {
   "display_name": "Python 3 (ipykernel)",
   "language": "python",
   "name": "python3"
  },
  "language_info": {
   "codemirror_mode": {
    "name": "ipython",
    "version": 3
   },
   "file_extension": ".py",
   "mimetype": "text/x-python",
   "name": "python",
   "nbconvert_exporter": "python",
   "pygments_lexer": "ipython3",
   "version": "3.10.8"
  }
 },
 "nbformat": 4,
 "nbformat_minor": 5
}
