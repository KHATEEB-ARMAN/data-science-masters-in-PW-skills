{
 "cells": [
  {
   "cell_type": "markdown",
   "id": "456f872c-41e6-421b-b7e0-3ea67d5ad633",
   "metadata": {},
   "source": [
    "## 1"
   ]
  },
  {
   "cell_type": "code",
   "execution_count": 2,
   "id": "a58028e3-db34-4bef-962e-8edc68c9ff15",
   "metadata": {},
   "outputs": [],
   "source": [
    "# Web scraping is an automatic method to obtain large amounts of data from websites. Most of this data is unstructured data\n",
    "# in an HTML format which is then converted into structured data in a spreadsheet or a database so that it can be used in\n",
    "# various applications."
   ]
  },
  {
   "cell_type": "code",
   "execution_count": 3,
   "id": "e6d0deb2-0a6d-476b-a6a7-a289d41d351e",
   "metadata": {},
   "outputs": [],
   "source": [
    "# Web scraping is used in a variety of digital businesses that rely on data harvesting. Legitimate use cases include: Search engine bots crawling a site, analyzing its content and then ranking it. Price comparison sites deploying bots to auto-fetch prices and product descriptions for allied seller websites."
   ]
  },
  {
   "cell_type": "code",
   "execution_count": 4,
   "id": "183a054e-231d-4b5a-a3c4-bdb045cf32a0",
   "metadata": {},
   "outputs": [],
   "source": [
    "# 1. Price Monitoring\n",
    "#   Web Scraping can be used by companies to scrap the product data for their products and competing products as well to see how\n",
    "#   it impacts their pricing strategies.\n",
    "\n",
    "# 2. Market Research\n",
    "#   Web scraping can be used for market research by companies. High-quality web scraped data obtained in large volumes can be\n",
    "#   very helpful for companies in analyzing consumer trends and understanding which direction the company should move in the future. \n",
    "\n",
    "# 3. News Monitoring\n",
    "#   Web scraping news sites can provide detailed reports on the current news to a company. This is even more essential for companies\n",
    "#   that are frequently in the news or that depend on daily news for their day-to-day functioning."
   ]
  },
  {
   "cell_type": "markdown",
   "id": "dcf3345a-a0ab-497a-bbff-04c2e88c552f",
   "metadata": {},
   "source": [
    "## 2"
   ]
  },
  {
   "cell_type": "code",
   "execution_count": 5,
   "id": "3585735f-5950-4cbb-a122-64a7ec8e4f36",
   "metadata": {},
   "outputs": [],
   "source": [
    "# Best Python Libraries For Web Scraping.\n",
    "\n",
    "# 1.BeautifulSoup Python Scraping Library.\n",
    "# 2.Scrapy- Python Web Scraping Library. \n",
    "# 3.Selenium Web Scraping Python Library. \n",
    "# 4.Requests. \n",
    "# 5.Urllib3 Python Library for Web Scraping. \n",
    "# 6.Lxml.\n",
    "# 7.MechanicalSoup."
   ]
  },
  {
   "cell_type": "markdown",
   "id": "6035da1e-5c6b-4bc3-95a9-af73c8929c98",
   "metadata": {},
   "source": [
    "## 3"
   ]
  },
  {
   "cell_type": "code",
   "execution_count": 6,
   "id": "006a096f-a641-4bff-bf9a-09e6cb6b8c6a",
   "metadata": {},
   "outputs": [],
   "source": [
    "# Beautiful Soup is a Python package for parsing HTML and XML documents (including having malformed markup,\n",
    "# i.e. non-closed tags, so named after tag soup). It creates a parse tree for parsed pages that can be used to extract data \n",
    "# from HTML, which is useful for web scraping."
   ]
  },
  {
   "cell_type": "code",
   "execution_count": 7,
   "id": "abfbbb59-d4f6-4bdb-965e-06be57e30ec8",
   "metadata": {},
   "outputs": [],
   "source": [
    "# Here are the primary benefits of choosing Beautiful Soup over Selenium: It's faster. Beautiful Soup's beginner-friendly\n",
    "# and easier to set up. The library works independently from browsers."
   ]
  },
  {
   "cell_type": "markdown",
   "id": "dcd7c156-952c-4c72-9458-182d9515fda1",
   "metadata": {},
   "source": [
    "## 4"
   ]
  },
  {
   "cell_type": "code",
   "execution_count": 8,
   "id": "07549592-d823-4da4-a577-32b2c5ed56a1",
   "metadata": {},
   "outputs": [],
   "source": [
    "# Web scraping is the process of using bots to extract content and data from a website. Unlike screen scraping, which only copies pixels displayed onscreen, web scraping extracts underlying HTML code and, with it, data stored in a database. The scraper can then replicate entire website content elsewhere."
   ]
  },
  {
   "cell_type": "markdown",
   "id": "d4c7c4f0-b4cd-42ae-b612-5c63a52838c1",
   "metadata": {},
   "source": [
    "## 5"
   ]
  },
  {
   "cell_type": "code",
   "execution_count": 9,
   "id": "9bf192d5-fd1e-403c-ac2d-2162065c0137",
   "metadata": {},
   "outputs": [],
   "source": [
    "# Amazon EC2 (Elastic Compute Cloud).\n",
    "# NAmazon RDS (Relational Database Services).\n",
    "# Bonus Service: Amazon Connect. \n",
    "# Amazon S3 (Simple Storage Service) \n",
    "# Amazon Lambda. \n",
    "# Amazon Cognito. \n",
    "# Amazon Glacier.\n",
    "# Amazon Lightsail."
   ]
  },
  {
   "cell_type": "code",
   "execution_count": 10,
   "id": "1d9a1aad-8015-4dba-b834-0b7e466a8d40",
   "metadata": {},
   "outputs": [],
   "source": [
    "# Uses:\n",
    "\n",
    "# AWS services can offer an organization tools such as compute power, database storage and content delivery services.\n",
    "# Amazon.com Web Services launched its first web services in 2002 from the internal infrastructure that Amazon.com built\n",
    "# to handle its online retail operations.\n",
    "\n",
    "# WS offers many different tools and solutions for enterprises and software developers that can be used in data centers \n",
    "# in up to 190 countries. Groups such as government agencies, education institutions, non-profits and private organizations can\n",
    "# use AWS services."
   ]
  }
 ],
 "metadata": {
  "kernelspec": {
   "display_name": "Python 3 (ipykernel)",
   "language": "python",
   "name": "python3"
  },
  "language_info": {
   "codemirror_mode": {
    "name": "ipython",
    "version": 3
   },
   "file_extension": ".py",
   "mimetype": "text/x-python",
   "name": "python",
   "nbconvert_exporter": "python",
   "pygments_lexer": "ipython3",
   "version": "3.10.8"
  }
 },
 "nbformat": 4,
 "nbformat_minor": 5
}
