{
 "cells": [
  {
   "cell_type": "code",
   "execution_count": null,
   "id": "18a255e9-54f7-412d-9289-2faf918d1eaa",
   "metadata": {},
   "outputs": [],
   "source": [
    "#'Guido van rossum' devoloped python programming launguage.\n",
    "#Python supports object oriented and structured programming.\n",
    "#Python is case sensitive launguage.\n",
    "#the correct extension is \".py\" or\".pyi'.\n",
    "#Python is interpreted launguage.\n",
    "#a module,functio body.\n",
    "#\"#\" is used for single line comment.\n",
    "#\"sys.version\".\n",
    "#\"lamda\"\n",
    "#PIP stand for\"preferred installer program\".\n",
    "#range(),type(),print(),bytes().\n",
    "79 character is the maximmum length.\n",
    "3easy to use, more inbuilt libraries,  easy to analyze the data.\n",
    "memory is managed by \"python private heap space\".\n",
    "right click to my computer click advanced system setting,click environment varible tab and click new tab of user varibales,write path in varible name copy path to folder.\n",
    "The indentation in Python is very important."
   ]
  }
 ],
 "metadata": {
  "kernelspec": {
   "display_name": "Python 3 (ipykernel)",
   "language": "python",
   "name": "python3"
  },
  "language_info": {
   "codemirror_mode": {
    "name": "ipython",
    "version": 3
   },
   "file_extension": ".py",
   "mimetype": "text/x-python",
   "name": "python",
   "nbconvert_exporter": "python",
   "pygments_lexer": "ipython3",
   "version": "3.10.8"
  }
 },
 "nbformat": 4,
 "nbformat_minor": 5
}
