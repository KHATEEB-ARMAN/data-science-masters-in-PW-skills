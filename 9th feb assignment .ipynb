{
 "cells": [
  {
   "cell_type": "markdown",
   "id": "62e8360f-e00e-48a8-b22d-6adc1918954d",
   "metadata": {},
   "source": [
    "## Assignment"
   ]
  },
  {
   "cell_type": "markdown",
   "id": "68dd9376-7446-417f-817b-7b13d7854f36",
   "metadata": {},
   "source": [
    "##1."
   ]
  },
  {
   "cell_type": "code",
   "execution_count": 5,
   "id": "5dae7f2c-4b01-4d9a-96dc-07b3a205c55d",
   "metadata": {},
   "outputs": [],
   "source": [
    "class vehicle:\n",
    "    def __init__(self,name_of_vehicle,max_speed,average_of_vehicle):\n",
    "        self.name_of_vehicle=name_of_vehicle\n",
    "        self.max_speed=max_speed\n",
    "        self.average_of_vehicle=average_of_vehicle\n",
    "    def return_car_details(self):\n",
    "        return self.name_of_vehicle,self.max_speed,self.average_of_vehicle\n",
    "    \n",
    "    "
   ]
  },
  {
   "cell_type": "code",
   "execution_count": 6,
   "id": "e4144c79-93f5-4294-a859-fcc311c549c0",
   "metadata": {},
   "outputs": [],
   "source": [
    "cars=vehicle(\"innova\",120,20)"
   ]
  },
  {
   "cell_type": "code",
   "execution_count": 7,
   "id": "4ab37dd8-cb4b-4ea0-b52f-2ea9ca38e00d",
   "metadata": {},
   "outputs": [
    {
     "data": {
      "text/plain": [
       "'innova'"
      ]
     },
     "execution_count": 7,
     "metadata": {},
     "output_type": "execute_result"
    }
   ],
   "source": [
    "cars.name_of_vehicle"
   ]
  },
  {
   "cell_type": "code",
   "execution_count": 8,
   "id": "39d77430-9fba-44fd-99e9-6f7b4ced234d",
   "metadata": {},
   "outputs": [
    {
     "data": {
      "text/plain": [
       "('innova', 120, 20)"
      ]
     },
     "execution_count": 8,
     "metadata": {},
     "output_type": "execute_result"
    }
   ],
   "source": [
    "cars.return_car_details()"
   ]
  },
  {
   "cell_type": "markdown",
   "id": "4b77c90e-40f3-4889-ac2a-4670f18816c6",
   "metadata": {},
   "source": [
    "## 2."
   ]
  },
  {
   "cell_type": "code",
   "execution_count": 18,
   "id": "0958b8d9-82da-4900-9482-6fb1b3594b1c",
   "metadata": {},
   "outputs": [],
   "source": [
    "class vehicle:\n",
    "    def __init__(self,name_of_vehicle,max_speed,average_of_vehicle):\n",
    "        self.name_of_vehicle=name_of_vehicle\n",
    "        self.max_speed=max_speed\n",
    "        self.average_of_vehicle=average_of_vehicle\n",
    "    def return_car_details(self):\n",
    "        return self.name_of_vehicle,self.max_speed,self.average_of_vehicle\n",
    "    \n",
    "    "
   ]
  },
  {
   "cell_type": "code",
   "execution_count": 19,
   "id": "bad534f6-22fa-4821-ab2d-f3a3a7736b2f",
   "metadata": {},
   "outputs": [],
   "source": [
    "class vehicle2(vehicle):\n",
    "    def return_car_details(self):\n",
    "        pass\n",
    "    def class_parcer(class_obj):\n",
    "        for i in class_obj:\n",
    "            i.vehicle()\n",
    "    "
   ]
  },
  {
   "cell_type": "code",
   "execution_count": 20,
   "id": "bd3bfc03-85a7-4fff-b17b-be7f9540fee5",
   "metadata": {},
   "outputs": [],
   "source": [
    "obj_class_parcer=vehicle2(\"suzuki\",150,18)"
   ]
  },
  {
   "cell_type": "code",
   "execution_count": 26,
   "id": "de871de4-cf37-4809-b386-23bb2aa51955",
   "metadata": {},
   "outputs": [],
   "source": [
    "obj_car=vehicle2"
   ]
  },
  {
   "cell_type": "code",
   "execution_count": 23,
   "id": "682d7250-d02b-45c9-8391-40169424f00b",
   "metadata": {},
   "outputs": [],
   "source": [
    "class_obj=obj_car"
   ]
  },
  {
   "cell_type": "code",
   "execution_count": 27,
   "id": "f2db7216-80ae-49c0-9e69-0e3f1fe6ca6e",
   "metadata": {},
   "outputs": [
    {
     "data": {
      "text/plain": [
       "'suzuki'"
      ]
     },
     "execution_count": 27,
     "metadata": {},
     "output_type": "execute_result"
    }
   ],
   "source": [
    "obj_class_parcer.name_of_vehicle"
   ]
  },
  {
   "cell_type": "markdown",
   "id": "349107c2-b151-48a9-9549-b8cca98ce8fe",
   "metadata": {},
   "source": [
    "## 3"
   ]
  },
  {
   "cell_type": "code",
   "execution_count": null,
   "id": "0ed7e882-0f45-4898-87ef-b2f4f1fce606",
   "metadata": {},
   "outputs": [],
   "source": [
    "# When a class is derived from more than one base class it is called multiple Inheritance. The derived class inherits all the features of the base case.\n"
   ]
  },
  {
   "cell_type": "code",
   "execution_count": null,
   "id": "21514e34-b5b9-408b-89f8-ba108295f4f3",
   "metadata": {},
   "outputs": [],
   "source": [
    "class class1:\n",
    "    def test_class1(self):\n",
    "        print(\"This is class 1\")"
   ]
  },
  {
   "cell_type": "code",
   "execution_count": null,
   "id": "1b79a3f1-c784-4be2-ab17-a1714a4ae95f",
   "metadata": {},
   "outputs": [],
   "source": [
    "class class2:\n",
    "    def test_class2(self):\n",
    "        print(\"This is my class2\")"
   ]
  },
  {
   "cell_type": "code",
   "execution_count": null,
   "id": "58bf8f1e-171e-4356-b374-62181afb860c",
   "metadata": {},
   "outputs": [],
   "source": [
    "class class3(class1,class2):\n",
    "    pass"
   ]
  },
  {
   "cell_type": "code",
   "execution_count": null,
   "id": "f9c657fa-9e67-4edd-b1f0-2c72034453aa",
   "metadata": {},
   "outputs": [],
   "source": [
    "obj_class3=class3()"
   ]
  },
  {
   "cell_type": "code",
   "execution_count": null,
   "id": "dd4c5540-b0ad-47ac-a51a-74e4cdb3c8be",
   "metadata": {},
   "outputs": [],
   "source": [
    "obj_class3.test_class1()"
   ]
  },
  {
   "cell_type": "code",
   "execution_count": null,
   "id": "7c860204-b0c7-4f7c-8d7e-387bafa9da2a",
   "metadata": {},
   "outputs": [],
   "source": [
    "obj_class3.test_class2()"
   ]
  },
  {
   "cell_type": "markdown",
   "id": "602d3719-172f-4aeb-b30d-fe89b4f26479",
   "metadata": {},
   "source": [
    "## 4."
   ]
  },
  {
   "cell_type": "code",
   "execution_count": null,
   "id": "012a56a4-0565-4b7a-8d5b-ebfb9805a761",
   "metadata": {},
   "outputs": [],
   "source": [
    "# Getters: These are the methods used in Object-Oriented Programming (OOPS) which helps to access the private attributes from a class.\n",
    "# Setters: These are the methods used in OOPS feature which helps to set the value to private attributes in a class."
   ]
  },
  {
   "cell_type": "code",
   "execution_count": 39,
   "id": "bc893d4c-f569-455d-9dec-65bc326a4efd",
   "metadata": {},
   "outputs": [],
   "source": [
    " class simple:\n",
    "        def __init__(self,roll_no,batch_no,class_no):\n",
    "            self.__roll_no=roll_no\n",
    "            self.batch_no=batch_no\n",
    "            self.class_no=class_no\n",
    "        def get_roll_no(self):\n",
    "            return self.__roll_no\n",
    "        "
   ]
  },
  {
   "cell_type": "code",
   "execution_count": 41,
   "id": "d6371efa-4cc5-4aa0-8560-196c1c5c567e",
   "metadata": {},
   "outputs": [],
   "source": [
    "t=simple(\"10\",\"A\",\"6\")"
   ]
  },
  {
   "cell_type": "code",
   "execution_count": 42,
   "id": "29f634b7-3f93-47af-9c86-7d95856ba314",
   "metadata": {},
   "outputs": [
    {
     "data": {
      "text/plain": [
       "'A'"
      ]
     },
     "execution_count": 42,
     "metadata": {},
     "output_type": "execute_result"
    }
   ],
   "source": [
    "t.batch_no"
   ]
  },
  {
   "cell_type": "code",
   "execution_count": 45,
   "id": "8243124d-b029-461d-b7c8-4952c27d31e0",
   "metadata": {},
   "outputs": [
    {
     "data": {
      "text/plain": [
       "'10'"
      ]
     },
     "execution_count": 45,
     "metadata": {},
     "output_type": "execute_result"
    }
   ],
   "source": [
    "t._simple__roll_no"
   ]
  },
  {
   "cell_type": "code",
   "execution_count": 46,
   "id": "e1e9c1db-e7fb-42a4-bf4d-bed2d18d1555",
   "metadata": {},
   "outputs": [],
   "source": [
    "class pwskills4:\n",
    "    def __init__(self,course_price,course_name):\n",
    "        self.course_name=course_name\n",
    "        self.__course_price=course_price\n",
    "        \n",
    "    @property\n",
    "    def course_price_access(self):\n",
    "        return self.__course_price\n",
    "    \n",
    "    \n",
    "    @course_price_access.setter\n",
    "    def course_price_set(self,price):\n",
    "        if price<=3500:\n",
    "            pass\n",
    "        else:\n",
    "            self.__course_price=price\n",
    "            \n",
    "            \n",
    "            \n",
    "    @course_price_access.deleter\n",
    "    def customer_price_del(self):\n",
    "        del self.__customer_price\n",
    "            "
   ]
  },
  {
   "cell_type": "code",
   "execution_count": 48,
   "id": "47319213-333f-4a80-9e14-356549435c1e",
   "metadata": {},
   "outputs": [],
   "source": [
    "pw=pwskills4(3500,\"java\")"
   ]
  },
  {
   "cell_type": "code",
   "execution_count": 49,
   "id": "c0f17227-78dd-4571-a29a-356e0b40b05a",
   "metadata": {},
   "outputs": [],
   "source": [
    "pw.course_price_set=4000"
   ]
  },
  {
   "cell_type": "code",
   "execution_count": 51,
   "id": "f7c4b486-e5ad-45cf-9109-e548ab565621",
   "metadata": {},
   "outputs": [
    {
     "data": {
      "text/plain": [
       "4000"
      ]
     },
     "execution_count": 51,
     "metadata": {},
     "output_type": "execute_result"
    }
   ],
   "source": [
    "pw.course_price_access"
   ]
  },
  {
   "cell_type": "markdown",
   "id": "5a89bed3-d292-47aa-bb98-7569d6f64ef2",
   "metadata": {},
   "source": [
    "##  5."
   ]
  },
  {
   "cell_type": "code",
   "execution_count": 52,
   "id": "938c3a86-8218-4095-ab7c-13151b985137",
   "metadata": {},
   "outputs": [],
   "source": [
    "# Method Overriding is redefining a parent class method in the derived class"
   ]
  },
  {
   "cell_type": "code",
   "execution_count": 53,
   "id": "ccd6ade9-c928-40a9-a140-2f1e73b5c37a",
   "metadata": {},
   "outputs": [
    {
     "name": "stdout",
     "output_type": "stream",
     "text": [
      "The method Walk here is overridden in the code\n",
      "Hello, I am the child class\n",
      "Hello, I am the parent class\n"
     ]
    }
   ],
   "source": [
    "class Animal:\n",
    "    def Walk(self):\n",
    "        print('Hello, I am the parent class')\n",
    "\n",
    "class Dog(Animal):\n",
    "    def Walk(self):\n",
    "        print('Hello, I am the child class')\n",
    "        \n",
    "print('The method Walk here is overridden in the code')\n",
    "\n",
    "r = Dog()\n",
    "r.Walk()\n",
    "\n",
    "r = Animal()\n",
    "r.Walk()"
   ]
  },
  {
   "cell_type": "code",
   "execution_count": null,
   "id": "cf79cefa-6071-4a02-ba6b-a6e726537041",
   "metadata": {},
   "outputs": [],
   "source": []
  }
 ],
 "metadata": {
  "kernelspec": {
   "display_name": "Python 3 (ipykernel)",
   "language": "python",
   "name": "python3"
  },
  "language_info": {
   "codemirror_mode": {
    "name": "ipython",
    "version": 3
   },
   "file_extension": ".py",
   "mimetype": "text/x-python",
   "name": "python",
   "nbconvert_exporter": "python",
   "pygments_lexer": "ipython3",
   "version": "3.10.8"
  }
 },
 "nbformat": 4,
 "nbformat_minor": 5
}
