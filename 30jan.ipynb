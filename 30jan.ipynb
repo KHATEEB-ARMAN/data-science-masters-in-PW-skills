{
 "cells": [
  {
   "cell_type": "code",
   "execution_count": 1,
   "id": "d50bd3e2-2984-42eb-a08d-a9bfa05cc639",
   "metadata": {},
   "outputs": [
    {
     "name": "stdout",
     "output_type": "stream",
     "text": [
      "hello\n"
     ]
    }
   ],
   "source": [
    "print('hello')"
   ]
  },
  {
   "cell_type": "code",
   "execution_count": 2,
   "id": "f060469b-4307-4878-a56e-c7267e331dae",
   "metadata": {},
   "outputs": [
    {
     "data": {
      "text/plain": [
       "0"
      ]
     },
     "execution_count": 2,
     "metadata": {},
     "output_type": "execute_result"
    }
   ],
   "source": [
    "int()"
   ]
  },
  {
   "cell_type": "code",
   "execution_count": 3,
   "id": "6b79d62a-1ecb-4307-a188-70cb36227d03",
   "metadata": {},
   "outputs": [
    {
     "name": "stdout",
     "output_type": "stream",
     "text": [
      "abcd\n"
     ]
    }
   ],
   "source": [
    "print('abcd')"
   ]
  },
  {
   "cell_type": "code",
   "execution_count": 4,
   "id": "6682b92c-39f4-483a-ba33-75976902164f",
   "metadata": {},
   "outputs": [
    {
     "name": "stdout",
     "output_type": "stream",
     "text": [
      "123\n"
     ]
    }
   ],
   "source": [
    "print('123')"
   ]
  },
  {
   "cell_type": "code",
   "execution_count": 5,
   "id": "76a52e2e-415c-459d-bada-12aae04afff8",
   "metadata": {},
   "outputs": [
    {
     "data": {
      "text/plain": [
       "('my age is:', 21)"
      ]
     },
     "execution_count": 5,
     "metadata": {},
     "output_type": "execute_result"
    }
   ],
   "source": [
    "age= 21\n",
    "print('my age is:',age)"
   ]
  },
  {
   "cell_type": "code",
   "execution_count": 9,
   "id": "5216793d-463b-4c22-ad76-bf021eb5d2b0",
   "metadata": {},
   "outputs": [
    {
     "name": "stdout",
     "output_type": "stream",
     "text": [
      "my age is:21\n"
     ]
    }
   ],
   "source": [
    "#f is consider as farmatic (fstring)\n",
    "print(f'my age is:{age}')"
   ]
  },
  {
   "cell_type": "code",
   "execution_count": null,
   "id": "03b7fdc3-bac6-4231-8be5-fb74cfceb7a5",
   "metadata": {},
   "outputs": [],
   "source": [
    "#note In python language we start a index from zero"
   ]
  },
  {
   "cell_type": "code",
   "execution_count": 17,
   "id": "8d87bc9f-05e8-487a-bb64-527619140268",
   "metadata": {},
   "outputs": [
    {
     "name": "stdout",
     "output_type": "stream",
     "text": [
      "my name is resauk and age is 20\n"
     ]
    }
   ],
   "source": [
    "#format()\n",
    "name=\"resauk\"\n",
    "age=20\n",
    "print('my name is {} and age is {}'.format(name,age))"
   ]
  },
  {
   "cell_type": "code",
   "execution_count": 21,
   "id": "f0f43d53-6f38-4785-bb7a-2b5834df3766",
   "metadata": {},
   "outputs": [
    {
     "name": "stdout",
     "output_type": "stream",
     "text": [
      "my name is mursalin nad age is 21\n"
     ]
    }
   ],
   "source": [
    "print(\"my name is {} nad age is {}\".format(name,age))"
   ]
  },
  {
   "cell_type": "code",
   "execution_count": 18,
   "id": "8231493d-1303-4635-af84-43d7f1ae5e11",
   "metadata": {},
   "outputs": [
    {
     "name": "stdout",
     "output_type": "stream",
     "text": [
      "my name is 21 and age is mursalin\n"
     ]
    }
   ],
   "source": [
    "name=\"mursalin\"\n",
    "age=21\n",
    "print(\"my name is {} and age is {}\".format(age,name))"
   ]
  },
  {
   "cell_type": "code",
   "execution_count": 24,
   "id": "29f2c809-d6d8-4a54-9d4c-149a92ff594e",
   "metadata": {},
   "outputs": [
    {
     "name": "stdout",
     "output_type": "stream",
     "text": [
      "my name is mursalin nad age is 21\n"
     ]
    }
   ],
   "source": [
    "#placeholder\n",
    "print(\"my name is {firstname} nad age is {firstage}\".format(firstname=name,firstage=age))"
   ]
  },
  {
   "cell_type": "code",
   "execution_count": 12,
   "id": "389bde00-0c10-4fda-95b2-f26c28806236",
   "metadata": {},
   "outputs": [
    {
     "ename": "TypeError",
     "evalue": "'str' object is not callable",
     "output_type": "error",
     "traceback": [
      "\u001b[0;31m---------------------------------------------------------------------------\u001b[0m",
      "\u001b[0;31mTypeError\u001b[0m                                 Traceback (most recent call last)",
      "Cell \u001b[0;32mIn[12], line 4\u001b[0m\n\u001b[1;32m      2\u001b[0m age\u001b[38;5;241m=\u001b[39m\u001b[38;5;241m21\u001b[39m\n\u001b[1;32m      3\u001b[0m degree\u001b[38;5;241m=\u001b[39m\u001b[38;5;124m'\u001b[39m\u001b[38;5;124mBE\u001b[39m\u001b[38;5;124m'\u001b[39m\n\u001b[0;32m----> 4\u001b[0m \u001b[38;5;28;43mprint\u001b[39;49m\u001b[43m(\u001b[49m\u001b[38;5;124;43m'\u001b[39;49m\u001b[38;5;124;43mmy age is:\u001b[39;49m\u001b[38;5;124;43m'\u001b[39;49m\u001b[43m,\u001b[49m\u001b[43mage\u001b[49m\u001b[43m)\u001b[49m\n",
      "\u001b[0;31mTypeError\u001b[0m: 'str' object is not callable"
     ]
    }
   ],
   "source": [
    "name='mursalin'\n",
    "age=21\n",
    "degree='BE'\n",
    "print('my age is:',age)\n"
   ]
  },
  {
   "cell_type": "code",
   "execution_count": 13,
   "id": "ef9ecc63-90f5-4d5e-b1e3-61b19f42880e",
   "metadata": {},
   "outputs": [
    {
     "ename": "TypeError",
     "evalue": "'str' object is not callable",
     "output_type": "error",
     "traceback": [
      "\u001b[0;31m---------------------------------------------------------------------------\u001b[0m",
      "\u001b[0;31mTypeError\u001b[0m                                 Traceback (most recent call last)",
      "Cell \u001b[0;32mIn[13], line 1\u001b[0m\n\u001b[0;32m----> 1\u001b[0m \u001b[38;5;28;43mprint\u001b[39;49m\u001b[43m(\u001b[49m\u001b[38;5;124;43mf\u001b[39;49m\u001b[38;5;124;43m'\u001b[39;49m\u001b[38;5;124;43mmy age is :\u001b[39;49m\u001b[38;5;132;43;01m{\u001b[39;49;00m\u001b[43mage\u001b[49m\u001b[38;5;132;43;01m}\u001b[39;49;00m\u001b[38;5;124;43m'\u001b[39;49m\u001b[43m)\u001b[49m\n",
      "\u001b[0;31mTypeError\u001b[0m: 'str' object is not callable"
     ]
    }
   ],
   "source": [
    "print(f'my age is :{age}')"
   ]
  },
  {
   "cell_type": "code",
   "execution_count": 14,
   "id": "520bb124-2b00-4366-9ab3-ee7502732ff8",
   "metadata": {},
   "outputs": [],
   "source": [
    "print=(\"my name is {} and my age is {} with my degree{}\".format(name,age,degree))"
   ]
  },
  {
   "cell_type": "code",
   "execution_count": null,
   "id": "7b7de824-5de0-4c13-bd7b-f1796cb24afa",
   "metadata": {},
   "outputs": [],
   "source": []
  },
  {
   "cell_type": "code",
   "execution_count": 5,
   "id": "91726b28-bcd2-42ee-813e-2d6818d1e4d2",
   "metadata": {},
   "outputs": [],
   "source": [
    "name='resuak'\n",
    "age=19\n",
    "print=(\"my name is\", age)"
   ]
  },
  {
   "cell_type": "code",
   "execution_count": null,
   "id": "1a7e36b9-2f04-45ab-ae7c-7126062cec05",
   "metadata": {},
   "outputs": [],
   "source": [
    "## control flow \n",
    "## decision making statement\n"
   ]
  },
  {
   "cell_type": "markdown",
   "id": "91c2f6d5-b3ce-47db-8c64-b6e85fc545e1",
   "metadata": {},
   "source": []
  },
  {
   "cell_type": "code",
   "execution_count": 25,
   "id": "14954d5a-4f49-458c-938c-b9ee5cf28f99",
   "metadata": {},
   "outputs": [
    {
     "ename": "TypeError",
     "evalue": "'str' object is not callable",
     "output_type": "error",
     "traceback": [
      "\u001b[0;31m---------------------------------------------------------------------------\u001b[0m",
      "\u001b[0;31mTypeError\u001b[0m                                 Traceback (most recent call last)",
      "Cell \u001b[0;32mIn[25], line 3\u001b[0m\n\u001b[1;32m      1\u001b[0m age\u001b[38;5;241m=\u001b[39m\u001b[38;5;241m10\u001b[39m\n\u001b[1;32m      2\u001b[0m \u001b[38;5;28;01mif\u001b[39;00m age\u001b[38;5;241m<\u001b[39m\u001b[38;5;241m=\u001b[39m\u001b[38;5;241m18\u001b[39m:\n\u001b[0;32m----> 3\u001b[0m     \u001b[38;5;28;43mprint\u001b[39;49m\u001b[43m(\u001b[49m\u001b[38;5;124;43m\"\u001b[39;49m\u001b[38;5;124;43myou are not eligible to vote\u001b[39;49m\u001b[38;5;124;43m\"\u001b[39;49m\u001b[43m)\u001b[49m\n",
      "\u001b[0;31mTypeError\u001b[0m: 'str' object is not callable"
     ]
    }
   ],
   "source": [
    "age=10\n",
    "if age<=18:\n",
    "    print(\"you are not eligible to vote\")"
   ]
  },
  {
   "cell_type": "code",
   "execution_count": 1,
   "id": "b0fd3c47-7ac3-4636-8d50-94ce9951101c",
   "metadata": {},
   "outputs": [
    {
     "name": "stdout",
     "output_type": "stream",
     "text": [
      "you are eligible to vote\n"
     ]
    }
   ],
   "source": [
    "## if statement\n",
    "age=18\n",
    "if age<=18:\n",
    "    print('you are eligible to vote')"
   ]
  },
  {
   "cell_type": "code",
   "execution_count": 13,
   "id": "19371c3e-e974-40c7-9e48-bfd82b4fff6e",
   "metadata": {},
   "outputs": [
    {
     "name": "stdout",
     "output_type": "stream",
     "text": [
      "you are eligible to vote\n"
     ]
    }
   ],
   "source": [
    "age=17\n",
    "if age<=18:\n",
    "    print('you are eligible to vote')\n"
   ]
  },
  {
   "cell_type": "code",
   "execution_count": 15,
   "id": "9b1edd7c-6b4a-4ae7-a885-6ae9dcc1e34c",
   "metadata": {},
   "outputs": [
    {
     "data": {
      "text/plain": [
       "False"
      ]
     },
     "execution_count": 15,
     "metadata": {},
     "output_type": "execute_result"
    }
   ],
   "source": [
    "18<18"
   ]
  },
  {
   "cell_type": "code",
   "execution_count": 17,
   "id": "3896b8fd-51fe-4e91-b67b-9cc8ab9a8803",
   "metadata": {},
   "outputs": [
    {
     "data": {
      "text/plain": [
       "False"
      ]
     },
     "execution_count": 17,
     "metadata": {},
     "output_type": "execute_result"
    }
   ],
   "source": [
    "18>18"
   ]
  },
  {
   "cell_type": "code",
   "execution_count": 18,
   "id": "6ae0ee6b-aca1-4e1f-9723-5590eb12ab22",
   "metadata": {},
   "outputs": [
    {
     "data": {
      "text/plain": [
       "True"
      ]
     },
     "execution_count": 18,
     "metadata": {},
     "output_type": "execute_result"
    }
   ],
   "source": [
    "16<17"
   ]
  },
  {
   "cell_type": "code",
   "execution_count": 19,
   "id": "9d7da1e9-05e5-449f-9b69-41d46f3aac24",
   "metadata": {},
   "outputs": [
    {
     "data": {
      "text/plain": [
       "False"
      ]
     },
     "execution_count": 19,
     "metadata": {},
     "output_type": "execute_result"
    }
   ],
   "source": [
    "16>17"
   ]
  },
  {
   "cell_type": "code",
   "execution_count": null,
   "id": "15bcea20-10ae-4a96-a1c3-b5b08cc90a6a",
   "metadata": {},
   "outputs": [],
   "source": [
    "#:(colen indicate start of the if block) "
   ]
  },
  {
   "cell_type": "code",
   "execution_count": null,
   "id": "49963862-a66a-4f67-8dca-82f50e15d9a8",
   "metadata": {},
   "outputs": [],
   "source": [
    "input()"
   ]
  },
  {
   "cell_type": "code",
   "execution_count": 20,
   "id": "4389d56d-82df-46b5-81a1-6beada7af5cf",
   "metadata": {},
   "outputs": [
    {
     "name": "stdin",
     "output_type": "stream",
     "text": [
      "enter the name mursalin khan\n"
     ]
    }
   ],
   "source": [
    "namr=input('enter the name')"
   ]
  },
  {
   "cell_type": "code",
   "execution_count": 22,
   "id": "45a23111-9493-41a8-b30c-6ba131bdd191",
   "metadata": {},
   "outputs": [
    {
     "data": {
      "text/plain": [
       "'mursalin khan'"
      ]
     },
     "execution_count": 22,
     "metadata": {},
     "output_type": "execute_result"
    }
   ],
   "source": [
    "namr"
   ]
  },
  {
   "cell_type": "code",
   "execution_count": 26,
   "id": "772edc68-497b-413f-9233-205cf8ddd472",
   "metadata": {},
   "outputs": [
    {
     "name": "stdin",
     "output_type": "stream",
     "text": [
      "enter your age 31\n"
     ]
    }
   ],
   "source": [
    "age=int(input('enter your age'))"
   ]
  },
  {
   "cell_type": "code",
   "execution_count": 27,
   "id": "11b61356-176b-447e-ac31-be730d07313b",
   "metadata": {},
   "outputs": [
    {
     "data": {
      "text/plain": [
       "31"
      ]
     },
     "execution_count": 27,
     "metadata": {},
     "output_type": "execute_result"
    }
   ],
   "source": [
    "age"
   ]
  },
  {
   "cell_type": "code",
   "execution_count": 28,
   "id": "36911274-d7cd-4fd6-b3ef-b5f7f9109ea3",
   "metadata": {},
   "outputs": [
    {
     "data": {
      "text/plain": [
       "method"
      ]
     },
     "execution_count": 28,
     "metadata": {},
     "output_type": "execute_result"
    }
   ],
   "source": [
    "type(input)"
   ]
  },
  {
   "cell_type": "code",
   "execution_count": 32,
   "id": "0c1c45c1-3ee2-4a81-ae52-f1fae081fb0a",
   "metadata": {},
   "outputs": [
    {
     "data": {
      "text/plain": [
       "int"
      ]
     },
     "execution_count": 32,
     "metadata": {},
     "output_type": "execute_result"
    }
   ],
   "source": [
    "type(age)"
   ]
  },
  {
   "cell_type": "code",
   "execution_count": 33,
   "id": "323f3ebf-76da-4cda-b0f6-c40ba925aae9",
   "metadata": {},
   "outputs": [
    {
     "data": {
      "text/plain": [
       "str"
      ]
     },
     "execution_count": 33,
     "metadata": {},
     "output_type": "execute_result"
    }
   ],
   "source": [
    "type('name')"
   ]
  },
  {
   "cell_type": "code",
   "execution_count": 6,
   "id": "62dc6550-144e-4014-85da-a349f7526075",
   "metadata": {},
   "outputs": [
    {
     "name": "stdin",
     "output_type": "stream",
     "text": [
      "enter the age 22\n"
     ]
    },
    {
     "name": "stdout",
     "output_type": "stream",
     "text": [
      "you are young blood\n"
     ]
    }
   ],
   "source": [
    "age=int(input('enter the age'))\n",
    "if age>=18 and age<=45:\n",
    "        print('you are young blood')"
   ]
  },
  {
   "cell_type": "code",
   "execution_count": 7,
   "id": "d89cf35f-6c69-44cb-8138-e5b43d799ed6",
   "metadata": {},
   "outputs": [
    {
     "data": {
      "text/plain": [
       "True"
      ]
     },
     "execution_count": 7,
     "metadata": {},
     "output_type": "execute_result"
    }
   ],
   "source": [
    "22>=18"
   ]
  },
  {
   "cell_type": "code",
   "execution_count": 8,
   "id": "b0b733b6-bbf8-44ce-a5cf-5d5a52e18a7a",
   "metadata": {},
   "outputs": [
    {
     "data": {
      "text/plain": [
       "True"
      ]
     },
     "execution_count": 8,
     "metadata": {},
     "output_type": "execute_result"
    }
   ],
   "source": [
    "22<=45"
   ]
  },
  {
   "cell_type": "code",
   "execution_count": 11,
   "id": "85ea7030-6d9b-461c-adc0-9a4ea334e19e",
   "metadata": {},
   "outputs": [
    {
     "name": "stdin",
     "output_type": "stream",
     "text": [
      "enter the age 5\n"
     ]
    },
    {
     "name": "stdout",
     "output_type": "stream",
     "text": [
      "thank you we will let u know\n"
     ]
    }
   ],
   "source": [
    "age=int(input('enter the age'))\n",
    "if age>=18 and age<=45:\n",
    "        print('you are young blood')\n",
    "else:\n",
    "    print('thank you we will let u know')"
   ]
  },
  {
   "cell_type": "code",
   "execution_count": 9,
   "id": "25de872d-9dee-4c77-9961-9695697913e4",
   "metadata": {},
   "outputs": [
    {
     "name": "stdin",
     "output_type": "stream",
     "text": [
      "enter the age 55\n"
     ]
    }
   ],
   "source": [
    "age=int(input('enter the age'))\n",
    "if age>=18 and age<=45:\n",
    "        print('you are young blood')"
   ]
  },
  {
   "cell_type": "code",
   "execution_count": 12,
   "id": "b4ff0136-539f-4aeb-bca7-42c6f7f6f294",
   "metadata": {},
   "outputs": [
    {
     "name": "stdin",
     "output_type": "stream",
     "text": [
      "enter the age 50\n"
     ]
    },
    {
     "name": "stdout",
     "output_type": "stream",
     "text": [
      "thank you we will let u know\n"
     ]
    }
   ],
   "source": [
    "age=int(input('enter the age'))\n",
    "if age>=18 and age<=45:\n",
    "        print('you are young blood')\n",
    "else:\n",
    "    print('thank you we will let u know')"
   ]
  },
  {
   "cell_type": "code",
   "execution_count": 10,
   "id": "d03ab835-0a74-403a-9a80-634595b58f89",
   "metadata": {},
   "outputs": [
    {
     "name": "stdin",
     "output_type": "stream",
     "text": [
      "enter the age 17\n"
     ]
    }
   ],
   "source": [
    "age=int(input('enter the age'))\n",
    "if age>=18 and age<=45:\n",
    "        print('you are young blood')"
   ]
  },
  {
   "cell_type": "code",
   "execution_count": 9,
   "id": "87c9e911-e444-49fa-81ec-ca31b1aa8376",
   "metadata": {},
   "outputs": [
    {
     "name": "stdin",
     "output_type": "stream",
     "text": [
      "enter the age 17\n"
     ]
    }
   ],
   "source": [
    "age=int(input('enter the age'))\n",
    "if age>=18 and age<=45:\n",
    "         print('you are young blood')      "
   ]
  },
  {
   "cell_type": "code",
   "execution_count": null,
   "id": "75365e40-d372-485f-bd07-90a9780694a0",
   "metadata": {},
   "outputs": [],
   "source": [
    "## IF ELSE STATEMENT\n"
   ]
  },
  {
   "cell_type": "code",
   "execution_count": 15,
   "id": "d7a68a74-d0d2-43f0-a779-e1b33e69bdf2",
   "metadata": {},
   "outputs": [
    {
     "name": "stdin",
     "output_type": "stream",
     "text": [
      "the product price 900\n"
     ]
    }
   ],
   "source": [
    "product=int(input('the product price'))\n",
    "if product>1000 and product<=1000:\n",
    "            print('the product price after the discout')\n",
    "        #wrong \n",
    "        "
   ]
  },
  {
   "cell_type": "code",
   "execution_count": 11,
   "id": "ccab3ac9-ebfe-4add-b0e4-5909df068ff9",
   "metadata": {},
   "outputs": [
    {
     "name": "stdin",
     "output_type": "stream",
     "text": [
      "enter the age 1\n"
     ]
    },
    {
     "name": "stdout",
     "output_type": "stream",
     "text": [
      "thank you your apllication is rejected\n"
     ]
    }
   ],
   "source": [
    "age=int(input('enter the age'))\n",
    "if age>=18 and age<=45:\n",
    "         print('you are young blood')\n",
    "else:\n",
    "    print('thank you your apllication is rejected')"
   ]
  },
  {
   "cell_type": "code",
   "execution_count": 19,
   "id": "ae4d80e1-a24a-49f9-8160-41f70997abb5",
   "metadata": {},
   "outputs": [
    {
     "name": "stdin",
     "output_type": "stream",
     "text": [
      "enter the price 10000\n"
     ]
    },
    {
     "name": "stdout",
     "output_type": "stream",
     "text": [
      "the price of the product is 8000.0\n"
     ]
    }
   ],
   "source": [
    "product_price=int(input('enter the price'))\n",
    "if product_price>1000:\n",
    "    print(\"the price of the product is {}\".format(product_price*0.8))\n",
    "else:\n",
    "    print(\"the price of the product is {}\".format(product_price*0.7))              "
   ]
  },
  {
   "cell_type": "code",
   "execution_count": 22,
   "id": "0fc74cc2-2dae-4811-b1af-eb28add517c0",
   "metadata": {},
   "outputs": [
    {
     "data": {
      "text/plain": [
       "2000"
      ]
     },
     "execution_count": 22,
     "metadata": {},
     "output_type": "execute_result"
    }
   ],
   "source": [
    "int((20/100)*10000)"
   ]
  },
  {
   "cell_type": "code",
   "execution_count": 1,
   "id": "9f7c03cb-af56-4f20-9f55-16c9c12647b6",
   "metadata": {},
   "outputs": [
    {
     "name": "stdin",
     "output_type": "stream",
     "text": [
      "enter the price 100000\n"
     ]
    },
    {
     "name": "stdout",
     "output_type": "stream",
     "text": [
      "the price of the product is 80000.0\n"
     ]
    }
   ],
   "source": [
    "product_price=int(input('enter the price'))\n",
    "if product_price>1000:\n",
    "    print(f\"the price of the product is {product_price*0.8}\")\n",
    "else:\n",
    "    print(\"the price of the product is {}\".format(product_price*0.7))              "
   ]
  },
  {
   "cell_type": "code",
   "execution_count": null,
   "id": "55796388-91f7-4a03-bd97-03aca22506bc",
   "metadata": {},
   "outputs": [],
   "source": [
    "product_price=int(input('enter the price'))\n",
    "if product_price>1000:\n",
    "    print(f\"the price of the product is {product_price*0.8}\")\n",
    "elif product_price>=2000 and product_price<3000:\n",
    "    print(f\"the price of the product is {product_price*0.7}\")\n",
    "elif product_price>=100 amd product_price<=2000:\n",
    "    print(f\"the price of the product is {product_price*0.6}\")\n",
    "else:\n",
    "    print(\"go for coffee\")              "
   ]
  },
  {
   "cell_type": "code",
   "execution_count": 2,
   "id": "f5e8d824-a087-478b-b8f3-4ae97343d6e0",
   "metadata": {},
   "outputs": [
    {
     "ename": "NameError",
     "evalue": "name 'true' is not defined",
     "output_type": "error",
     "traceback": [
      "\u001b[0;31m---------------------------------------------------------------------------\u001b[0m",
      "\u001b[0;31mNameError\u001b[0m                                 Traceback (most recent call last)",
      "Cell \u001b[0;32mIn[2], line 2\u001b[0m\n\u001b[1;32m      1\u001b[0m \u001b[38;5;66;03m#camprssion operaters\u001b[39;00m\n\u001b[0;32m----> 2\u001b[0m \u001b[38;5;28;01mTrue\u001b[39;00m\u001b[38;5;241m==\u001b[39m\u001b[43mtrue\u001b[49m\n",
      "\u001b[0;31mNameError\u001b[0m: name 'true' is not defined"
     ]
    }
   ],
   "source": [
    "#camprssion operaters\n",
    "True==true"
   ]
  },
  {
   "cell_type": "code",
   "execution_count": 3,
   "id": "4fd5b822-4880-49e5-abd7-a25858434395",
   "metadata": {},
   "outputs": [
    {
     "ename": "NameError",
     "evalue": "name 'true' is not defined",
     "output_type": "error",
     "traceback": [
      "\u001b[0;31m---------------------------------------------------------------------------\u001b[0m",
      "\u001b[0;31mNameError\u001b[0m                                 Traceback (most recent call last)",
      "Cell \u001b[0;32mIn[3], line 1\u001b[0m\n\u001b[0;32m----> 1\u001b[0m \u001b[43mtrue\u001b[49m\u001b[38;5;241m==\u001b[39mtrue\n",
      "\u001b[0;31mNameError\u001b[0m: name 'true' is not defined"
     ]
    }
   ],
   "source": [
    "true==true"
   ]
  },
  {
   "cell_type": "markdown",
   "id": "38aec369-0dea-4b99-8124-8fd4d9e193b1",
   "metadata": {},
   "source": [
    "# loop statement \n",
    "## while loop\n",
    "## fir loop \n",
    "## nested loop\n",
    "## loop control (break,continous,pass)"
   ]
  },
  {
   "cell_type": "code",
   "execution_count": 7,
   "id": "4289e052-e83d-4d39-bd63-ce9b13e8d4a5",
   "metadata": {},
   "outputs": [
    {
     "name": "stdout",
     "output_type": "stream",
     "text": [
      "25\n",
      "26\n",
      "27\n",
      "28\n",
      "29\n",
      "30\n",
      "31\n",
      "32\n",
      "33\n",
      "34\n",
      "35\n",
      "36\n",
      "37\n",
      "38\n",
      "39\n",
      "40\n",
      "41\n",
      "42\n",
      "43\n",
      "44\n",
      "45\n",
      "46\n",
      "47\n",
      "48\n",
      "49\n",
      "50\n",
      "51\n",
      "52\n",
      "53\n",
      "54\n",
      "55\n",
      "56\n",
      "57\n",
      "58\n",
      "59\n",
      "60\n",
      "the retirement age\n"
     ]
    }
   ],
   "source": [
    "# whike loop (else)\n",
    "joining_age=25\n",
    "while joining_age<=60:\n",
    "    print(joining_age)\n",
    "    joining_age=joining_age+1\n",
    "else:\n",
    "    print(\"the retirement age\")\n",
    "    \n",
    "    "
   ]
  },
  {
   "cell_type": "code",
   "execution_count": null,
   "id": "d1853f89-06ed-4ed8-8434-25a213eabf16",
   "metadata": {},
   "outputs": [],
   "source": [
    "#atm machine\n",
    "total_amount=1000\n",
    "while total_amount!=1000:\n",
    "    print(total_amount)\n",
    "    total_amount=total_amount+100\n",
    "else:\n",
    "    print(\"put more money bank people\")\n",
    "print(\"hello all\")    \n",
    "    \n"
   ]
  },
  {
   "cell_type": "markdown",
   "id": "71880f98-b37a-40aa-b537-a06df20d0b66",
   "metadata": {},
   "source": [
    "# for loop"
   ]
  },
  {
   "cell_type": "code",
   "execution_count": 11,
   "id": "d1ef5301-4233-4968-af23-4078f4a652df",
   "metadata": {},
   "outputs": [],
   "source": [
    "lst=[\"mursalin\",1,2,3,\"khan\"]"
   ]
  },
  {
   "cell_type": "code",
   "execution_count": 11,
   "id": "4e5bacb1-636e-4d48-b18b-04bafcbd7703",
   "metadata": {},
   "outputs": [
    {
     "data": {
      "text/plain": [
       "list"
      ]
     },
     "execution_count": 11,
     "metadata": {},
     "output_type": "execute_result"
    }
   ],
   "source": [
    "type(lst)"
   ]
  },
  {
   "cell_type": "code",
   "execution_count": 12,
   "id": "2c2f2bc5-dd4c-4cdd-b60a-afab9c2b7525",
   "metadata": {},
   "outputs": [
    {
     "data": {
      "text/plain": [
       "'mursalin'"
      ]
     },
     "execution_count": 12,
     "metadata": {},
     "output_type": "execute_result"
    }
   ],
   "source": [
    "lst[0]"
   ]
  },
  {
   "cell_type": "code",
   "execution_count": 8,
   "id": "0ee169f4-06d9-41e2-9b03-e6b5687eb284",
   "metadata": {},
   "outputs": [
    {
     "data": {
      "text/plain": [
       "2"
      ]
     },
     "execution_count": 8,
     "metadata": {},
     "output_type": "execute_result"
    }
   ],
   "source": [
    "lst[2]"
   ]
  },
  {
   "cell_type": "code",
   "execution_count": 12,
   "id": "3f44005a-70a4-4d35-9b7d-9947ce1a0c5a",
   "metadata": {},
   "outputs": [
    {
     "data": {
      "text/plain": [
       "['mursalin', 1, 2, 3, 'khan']"
      ]
     },
     "execution_count": 12,
     "metadata": {},
     "output_type": "execute_result"
    }
   ],
   "source": [
    "lst"
   ]
  },
  {
   "cell_type": "code",
   "execution_count": 14,
   "id": "63b7d874-4e7c-4b38-8842-c6bbda90a843",
   "metadata": {},
   "outputs": [
    {
     "name": "stdout",
     "output_type": "stream",
     "text": [
      "mursalin\n",
      "1\n",
      "2\n",
      "3\n",
      "khan\n"
     ]
    }
   ],
   "source": [
    "for a in lst:\n",
    "    print(a)"
   ]
  },
  {
   "cell_type": "code",
   "execution_count": null,
   "id": "beeb3435-7f8d-412d-aaab-abb91110ae2c",
   "metadata": {},
   "outputs": [],
   "source": [
    "lst[\"as\",1,2,3,\"khan\"]"
   ]
  },
  {
   "cell_type": "code",
   "execution_count": 15,
   "id": "3ce41614-24c2-4679-95a8-02523467d78a",
   "metadata": {},
   "outputs": [
    {
     "data": {
      "text/plain": [
       "list"
      ]
     },
     "execution_count": 15,
     "metadata": {},
     "output_type": "execute_result"
    }
   ],
   "source": [
    "type(lst)"
   ]
  },
  {
   "cell_type": "code",
   "execution_count": 17,
   "id": "18be85eb-a6f5-42b2-8f37-ce3641c19b59",
   "metadata": {},
   "outputs": [
    {
     "data": {
      "text/plain": [
       "['mursalin', 1, 2, 3, 'khan']"
      ]
     },
     "execution_count": 17,
     "metadata": {},
     "output_type": "execute_result"
    }
   ],
   "source": [
    "lst"
   ]
  },
  {
   "cell_type": "code",
   "execution_count": null,
   "id": "d50f1f25-3adc-4233-938f-a3812f2319ef",
   "metadata": {},
   "outputs": [],
   "source": [
    "friend_lst=[\"mursalin\",\"khan\",\"resuak\"] "
   ]
  },
  {
   "cell_type": "code",
   "execution_count": 22,
   "id": "161e63b5-e05a-4bc5-af8e-857c06c41aa8",
   "metadata": {},
   "outputs": [
    {
     "ename": "NameError",
     "evalue": "name 'friend_lst' is not defined",
     "output_type": "error",
     "traceback": [
      "\u001b[0;31m---------------------------------------------------------------------------\u001b[0m",
      "\u001b[0;31mNameError\u001b[0m                                 Traceback (most recent call last)",
      "Cell \u001b[0;32mIn[22], line 1\u001b[0m\n\u001b[0;32m----> 1\u001b[0m \u001b[38;5;28;01mfor\u001b[39;00m a \u001b[38;5;129;01min\u001b[39;00m \u001b[43mfriend_lst\u001b[49m:\n\u001b[1;32m      2\u001b[0m     \u001b[38;5;28mprint\u001b[39m(a)\n\u001b[1;32m      3\u001b[0m     \u001b[38;5;28;01mif\u001b[39;00m a\u001b[38;5;241m==\u001b[39m\u001b[38;5;124m\"\u001b[39m\u001b[38;5;124mmursalin\u001b[39m\u001b[38;5;124m\"\u001b[39m:\n",
      "\u001b[0;31mNameError\u001b[0m: name 'friend_lst' is not defined"
     ]
    }
   ],
   "source": [
    "for a in friend_lst:\n",
    "    print(a)\n",
    "    if a==\"mursalin\":\n",
    "        print(\"the friend name is mursalin\")"
   ]
  },
  {
   "cell_type": "code",
   "execution_count": 27,
   "id": "fb316993-875c-496f-b719-3a04ae6dd874",
   "metadata": {},
   "outputs": [
    {
     "name": "stdout",
     "output_type": "stream",
     "text": [
      "apple"
     ]
    }
   ],
   "source": [
    "fruit='apple'\n",
    "for x in fruit:\n",
    "    print(x,end='')"
   ]
  },
  {
   "cell_type": "code",
   "execution_count": 24,
   "id": "7563fb13-d2e9-492e-8edd-7ff7ebdb9d9e",
   "metadata": {},
   "outputs": [
    {
     "data": {
      "text/plain": [
       "'p'"
      ]
     },
     "execution_count": 24,
     "metadata": {},
     "output_type": "execute_result"
    }
   ],
   "source": [
    "fruit[1]"
   ]
  },
  {
   "cell_type": "markdown",
   "id": "d888aa7f-4188-4ada-a97d-7c7ac24ecbb8",
   "metadata": {},
   "source": [
    "### nested loops"
   ]
  },
  {
   "cell_type": "code",
   "execution_count": null,
   "id": "779b28b9-1438-46d4-97ba-a4c7617f6367",
   "metadata": {},
   "outputs": [],
   "source": [
    "n=7"
   ]
  },
  {
   "cell_type": "code",
   "execution_count": 30,
   "id": "fd90220e-7439-450b-90aa-74daf27439bb",
   "metadata": {},
   "outputs": [
    {
     "name": "stdout",
     "output_type": "stream",
     "text": [
      "1\n",
      "3\n",
      "5\n",
      "7\n"
     ]
    }
   ],
   "source": [
    "for i in range(1,9,2):\n",
    "    print(i)"
   ]
  },
  {
   "cell_type": "code",
   "execution_count": 36,
   "id": "77fb4d40-a48f-4b68-8075-1db37ed011f0",
   "metadata": {},
   "outputs": [
    {
     "name": "stdout",
     "output_type": "stream",
     "text": [
      "*\n",
      "**\n",
      "***\n",
      "****\n",
      "*****\n",
      "******\n",
      "*******\n"
     ]
    }
   ],
   "source": [
    "# nested loops\n",
    "n=7\n",
    "for i in range(0,n):\n",
    "    for j in range(0,i+1):\n",
    "        print(\"*\",end=\"\")\n",
    "    print(\"\\r\")"
   ]
  },
  {
   "cell_type": "code",
   "execution_count": null,
   "id": "601b35ce-b226-487f-80d8-92e7c4f1ab99",
   "metadata": {},
   "outputs": [],
   "source": []
  },
  {
   "cell_type": "code",
   "execution_count": null,
   "id": "e21fe563-e360-47f9-8e91-10d647354478",
   "metadata": {},
   "outputs": [],
   "source": []
  },
  {
   "cell_type": "code",
   "execution_count": null,
   "id": "ecd60a03-6f14-423f-8fa9-781a2fa6e38a",
   "metadata": {},
   "outputs": [],
   "source": []
  },
  {
   "cell_type": "code",
   "execution_count": null,
   "id": "614da9bf-1859-4a34-914a-d26835426a91",
   "metadata": {},
   "outputs": [],
   "source": []
  },
  {
   "cell_type": "code",
   "execution_count": null,
   "id": "674e3280-1897-4a1b-9662-2ed6970625b8",
   "metadata": {},
   "outputs": [],
   "source": []
  },
  {
   "cell_type": "code",
   "execution_count": null,
   "id": "cfb0beee-ee90-4029-be72-d579be7d2324",
   "metadata": {},
   "outputs": [],
   "source": []
  },
  {
   "cell_type": "code",
   "execution_count": null,
   "id": "e3a03510-18de-48c2-bb00-d488831be370",
   "metadata": {},
   "outputs": [],
   "source": []
  },
  {
   "cell_type": "code",
   "execution_count": null,
   "id": "d5e4a7cb-c6ee-44f0-a5e8-5d8f04d4ddeb",
   "metadata": {},
   "outputs": [],
   "source": []
  },
  {
   "cell_type": "code",
   "execution_count": null,
   "id": "224c91a0-d51e-4e90-920a-fff806b5ec76",
   "metadata": {},
   "outputs": [],
   "source": []
  },
  {
   "cell_type": "code",
   "execution_count": null,
   "id": "10a17d72-d041-42d6-b2d9-031350f0cc45",
   "metadata": {},
   "outputs": [],
   "source": []
  },
  {
   "cell_type": "code",
   "execution_count": null,
   "id": "95e7eb0f-d153-4593-b5b6-d821f55e7246",
   "metadata": {},
   "outputs": [],
   "source": []
  },
  {
   "cell_type": "code",
   "execution_count": null,
   "id": "33a448ec-fb10-4cf1-a583-280df1222f32",
   "metadata": {},
   "outputs": [],
   "source": []
  }
 ],
 "metadata": {
  "kernelspec": {
   "display_name": "Python 3 (ipykernel)",
   "language": "python",
   "name": "python3"
  },
  "language_info": {
   "codemirror_mode": {
    "name": "ipython",
    "version": 3
   },
   "file_extension": ".py",
   "mimetype": "text/x-python",
   "name": "python",
   "nbconvert_exporter": "python",
   "pygments_lexer": "ipython3",
   "version": "3.10.8"
  }
 },
 "nbformat": 4,
 "nbformat_minor": 5
}
