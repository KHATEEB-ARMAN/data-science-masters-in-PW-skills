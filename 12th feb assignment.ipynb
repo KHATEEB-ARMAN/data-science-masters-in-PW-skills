{
 "cells": [
  {
   "cell_type": "markdown",
   "id": "e3e399ca-6131-4bf1-ace5-2eae15615222",
   "metadata": {},
   "source": [
    "## 1."
   ]
  },
  {
   "cell_type": "code",
   "execution_count": 2,
   "id": "3c4cb13c-ad92-4e3e-831b-2302a7790926",
   "metadata": {},
   "outputs": [],
   "source": [
    "#  An exception is an event, which occurs during the execution of a program that disrupts the normal flow of the program's instructions.\n",
    "#  in general, when a Python script encounters a situation that it cannot cope with, it raises an exception.\n",
    "#  An exception is a Python object that represents an error."
   ]
  },
  {
   "cell_type": "code",
   "execution_count": 3,
   "id": "28bafe9b-f8a3-4896-a0c0-60ab261c1ee6",
   "metadata": {},
   "outputs": [],
   "source": [
    "#  Errors mostly occur at runtime that's they belong to an unchecked type.\n",
    "#  Exceptions are the problems which can occur at runtime and compile time. "
   ]
  },
  {
   "cell_type": "markdown",
   "id": "a2aa60f2-ffc0-44a3-b780-6086b2d165e4",
   "metadata": {},
   "source": [
    "## 2."
   ]
  },
  {
   "cell_type": "code",
   "execution_count": 4,
   "id": "b854d953-c011-4c1e-9946-7f0c343becc1",
   "metadata": {},
   "outputs": [],
   "source": [
    "#  When an exception occurred, if you don't handle it, the program terminates abruptly \n",
    "#  and the code past the line that caused the exception will not get executed."
   ]
  },
  {
   "cell_type": "code",
   "execution_count": 5,
   "id": "60d729e3-de29-414f-8422-a8e38cb81a56",
   "metadata": {},
   "outputs": [
    {
     "ename": "ZeroDivisionError",
     "evalue": "division by zero",
     "output_type": "error",
     "traceback": [
      "\u001b[0;31m---------------------------------------------------------------------------\u001b[0m",
      "\u001b[0;31mZeroDivisionError\u001b[0m                         Traceback (most recent call last)",
      "Cell \u001b[0;32mIn[5], line 2\u001b[0m\n\u001b[1;32m      1\u001b[0m a\u001b[38;5;241m=\u001b[39m\u001b[38;5;241m10\u001b[39m\n\u001b[0;32m----> 2\u001b[0m \u001b[38;5;241;43m10\u001b[39;49m\u001b[38;5;241;43m/\u001b[39;49m\u001b[38;5;241;43m0\u001b[39;49m\n\u001b[1;32m      3\u001b[0m \u001b[38;5;28mprint\u001b[39m(\u001b[38;5;124m\"\u001b[39m\u001b[38;5;124mthis is work\u001b[39m\u001b[38;5;124m\"\u001b[39m)\n",
      "\u001b[0;31mZeroDivisionError\u001b[0m: division by zero"
     ]
    }
   ],
   "source": [
    "a=10\n",
    "10/0\n",
    "print(\"this is work\")\n",
    "    "
   ]
  },
  {
   "cell_type": "markdown",
   "id": "9dbd300e-a1e2-40d6-87ca-f66d32a59a31",
   "metadata": {},
   "source": [
    "## 3."
   ]
  },
  {
   "cell_type": "code",
   "execution_count": 6,
   "id": "fe0a14fb-f48f-4682-9732-765ea28c8dbf",
   "metadata": {},
   "outputs": [],
   "source": [
    "# Try and except statements are used to catch and handle exceptions in Python"
   ]
  },
  {
   "cell_type": "code",
   "execution_count": 7,
   "id": "28c696d2-c6f6-44ed-a20b-b3c1f58951aa",
   "metadata": {},
   "outputs": [
    {
     "name": "stdout",
     "output_type": "stream",
     "text": [
      "this block will execute once try will execute itself without an exception\n",
      "i will execute\n"
     ]
    }
   ],
   "source": [
    "try:\n",
    "    f=open(\"test.txt\",'w')\n",
    "    f.write(\"this is my file\")\n",
    "\n",
    "except Exception as e:\n",
    "    print(\"there is some issue with my code\",e)\n",
    "else:\n",
    "    f.close()\n",
    "    print(\"this block will execute once try will execute itself without an exception\")\n",
    "    \n",
    "finally:\n",
    "    print(\"i will execute\")"
   ]
  },
  {
   "cell_type": "markdown",
   "id": "c6c9a6b1-76cd-4fdf-9f99-c7dcb2970c8a",
   "metadata": {},
   "source": [
    "## 4."
   ]
  },
  {
   "cell_type": "code",
   "execution_count": 8,
   "id": "dff83dfd-a3f9-4d0b-a5ae-80aeeb01ddde",
   "metadata": {},
   "outputs": [],
   "source": [
    "# The intended use is to have a context for more code to run if there were no exceptions where it was expected to be handled.\n",
    "# This context avoids accidentally handling errors you did not expect."
   ]
  },
  {
   "cell_type": "code",
   "execution_count": 9,
   "id": "eb7b4d3b-74c4-41cf-bb7d-b5b387eac676",
   "metadata": {},
   "outputs": [
    {
     "name": "stdout",
     "output_type": "stream",
     "text": [
      "this block will execute once try will execute itself without an exception\n"
     ]
    }
   ],
   "source": [
    "try:\n",
    "    f=open(\"test.txt\",'w')\n",
    "    f.write(\"this is my file\")\n",
    "\n",
    "except Exception as e:\n",
    "    print(\"there is some issue with my code\",e)\n",
    "else:\n",
    "    f.close()\n",
    "    print(\"this block will execute once try will execute itself without an exception\")\n",
    "    "
   ]
  },
  {
   "cell_type": "code",
   "execution_count": null,
   "id": "058e3ff2-4e83-40a3-a5c3-c8c065aee6b1",
   "metadata": {},
   "outputs": [],
   "source": [
    "## b."
   ]
  },
  {
   "cell_type": "code",
   "execution_count": null,
   "id": "e54c02b6-dea6-43a2-a786-a6bbe83cb9b0",
   "metadata": {},
   "outputs": [],
   "source": [
    "# The finally block in java is used to put important codes such as clean up code.\n",
    "# e.g. closing the file or closing the connection. \n",
    "# The finally block executes whether exception rise or not and whether exception handled or not.\n",
    "# A finally contains all the crucial statements regardless of the exception occurs or not."
   ]
  },
  {
   "cell_type": "code",
   "execution_count": null,
   "id": "aa862be8-9d07-4eb3-a1e2-5955647719c6",
   "metadata": {},
   "outputs": [],
   "source": [
    "## c. The raise keyword is used to raise an exception. \n",
    "##    You can define what kind of error to raise, and the text to print to the user."
   ]
  },
  {
   "cell_type": "markdown",
   "id": "890f09f3-1a70-4586-9e4b-d7797e0d967d",
   "metadata": {},
   "source": [
    "## 5."
   ]
  },
  {
   "cell_type": "code",
   "execution_count": null,
   "id": "1afc850a-1ae3-4c5c-9792-78a2bc619610",
   "metadata": {},
   "outputs": [],
   "source": [
    "#  Like standard exception classes, custom exceptions are also classes. \n",
    "#  Hence, you can add functionality to the custom exception classes.\n",
    "\n",
    "# a.Adding attributes and properties.\n",
    "# b.Adding methods e.g., log the exception, format the output, etc.\n",
    "# c.Overriding the __str__ and __repr__ methods.\n",
    "# d.And doing anything else that you can do with regular classes."
   ]
  },
  {
   "cell_type": "code",
   "execution_count": null,
   "id": "eda9434e-e9d7-4182-ba50-b54c708b63c0",
   "metadata": {},
   "outputs": [],
   "source": [
    "# Built-in exceptions offer information about Python-related problems,\n",
    "# and custom exceptions will add information about project-related problems."
   ]
  },
  {
   "cell_type": "code",
   "execution_count": 10,
   "id": "448fae90-77ea-437a-a2a0-72d2d91e9003",
   "metadata": {},
   "outputs": [
    {
     "name": "stdout",
     "output_type": "stream",
     "text": [
      "Second element = 2\n",
      "An error occurred\n"
     ]
    }
   ],
   "source": [
    "a = [1, 2, 3]\n",
    "try: \n",
    "    print (\"Second element = %d\" %(a[1]))\n",
    "  \n",
    "    # Throws error since there are only 3 elements in array\n",
    "    print (\"Fourth element = %d\" %(a[3]))\n",
    "  \n",
    "except:\n",
    "    print (\"An error occurred\")"
   ]
  },
  {
   "cell_type": "markdown",
   "id": "f96fb1ff-d1e8-477e-a481-93ae7a1827ce",
   "metadata": {},
   "source": [
    "## 6."
   ]
  },
  {
   "cell_type": "code",
   "execution_count": 12,
   "id": "76675ecf-078a-4430-b79b-c8c31fce99ab",
   "metadata": {},
   "outputs": [
    {
     "name": "stdin",
     "output_type": "stream",
     "text": [
      "Enter a number:  12\n"
     ]
    },
    {
     "name": "stdout",
     "output_type": "stream",
     "text": [
      "Exception occurred: Invalid Age\n"
     ]
    }
   ],
   "source": [
    "\n",
    "class InvalidAgeException(Exception):\n",
    "    \"Raised when the input value is less than 18\"\n",
    "    pass\n",
    "\n",
    "\n",
    "number = 18\n",
    "\n",
    "try:\n",
    "    input_num = int(input(\"Enter a number: \"))\n",
    "    if input_num < number:\n",
    "        raise InvalidAgeException\n",
    "    else:\n",
    "        print(\"Eligible to Vote\")\n",
    "        \n",
    "except InvalidAgeException:\n",
    "    print(\"Exception occurred: Invalid Age\")"
   ]
  },
  {
   "cell_type": "code",
   "execution_count": null,
   "id": "7afefa86-a24a-4a5d-9afd-79d6d023ccc6",
   "metadata": {},
   "outputs": [],
   "source": []
  }
 ],
 "metadata": {
  "kernelspec": {
   "display_name": "Python 3 (ipykernel)",
   "language": "python",
   "name": "python3"
  },
  "language_info": {
   "codemirror_mode": {
    "name": "ipython",
    "version": 3
   },
   "file_extension": ".py",
   "mimetype": "text/x-python",
   "name": "python",
   "nbconvert_exporter": "python",
   "pygments_lexer": "ipython3",
   "version": "3.10.8"
  }
 },
 "nbformat": 4,
 "nbformat_minor": 5
}
