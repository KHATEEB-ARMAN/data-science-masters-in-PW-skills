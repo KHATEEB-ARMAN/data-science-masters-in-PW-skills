{
 "cells": [
  {
   "cell_type": "code",
   "execution_count": 2,
   "id": "547a2b77-8d8e-47c8-8514-6c0bb05fe440",
   "metadata": {},
   "outputs": [
    {
     "ename": "IndentationError",
     "evalue": "unexpected indent (2895085398.py, line 13)",
     "output_type": "error",
     "traceback": [
      "\u001b[0;36m  Cell \u001b[0;32mIn[2], line 13\u001b[0;36m\u001b[0m\n\u001b[0;31m    for ex\u001b[0m\n\u001b[0m    ^\u001b[0m\n\u001b[0;31mIndentationError\u001b[0m\u001b[0;31m:\u001b[0m unexpected indent\n"
     ]
    }
   ],
   "source": [
    "#   1.   tuples are ordered.\n",
    "#        the object in index is unchangaable.\n",
    "#        tuples allows the duplicate items.\n",
    "#      yes tuples are  immutables.\n",
    "#    2. tuples has only 2 methods.index() and count().\n",
    "#        the main reason why tuple has less built in methods copared to list  is, because of immutable feature.\n",
    "#    3. \"set\" are not allow the duplicate items.\n",
    "#        set does not allow duplicates.\n",
    "#    4. The union() method returns a set that contains all items from the original set, and all items from the specified set.\n",
    "#       for ex:d5={1,2,3,2,2,3,34,2,2,4,5,6,5,4,5,5,5,6,6,6,}\n",
    "#             d5.union()  \n",
    "#       update() function in set adds elements from a set (passed as an argument) to the set. \n",
    "#       for ex:d5=d5={1,2,3,2,2,3,34,2,2,4,5,6,5,4,5,5,5,6,6,6,}\n",
    "#                d6={8,9,78,87,99}\n",
    "#                    d5.update(d6)\n",
    "#                    d5\n",
    "#      5.  Dictionaries are used to store data values in key:value pairs.                  \n",
    "#             dictionaries are ordered.\n",
    "#           ex: dict = {\"name\":\"khateeb\",\"city\":\"bangalore\"}\n",
    "#      6. yes nested dictionry created in python.\n",
    "#        ex:  d19={\"key1\" :\"value\",\"key2\" :\"value2\"}\n",
    "#             d20={\"key\":\"value3\",\"key4\" : \"value4\"}\n",
    "#              (d19,d20)        \n",
    "#       8.\"keys\", \"values\" and \"items\" are the three view object in dictioneris. \n",
    "#            dict1={'sport':'cricket','teams':['indis','australia','Englad','South Africa','SriLanka','new Zeland']}\n",
    "#                dict1.keys()\n",
    "#                 dict1.values()\n",
    "#                 dict1.items()\n",
    "\n",
    "\n",
    "\n",
    "\n"
   ]
  },
  {
   "cell_type": "code",
   "execution_count": null,
   "id": "7a274c15-f506-4e55-9a69-7d78475c662e",
   "metadata": {},
   "outputs": [],
   "source": []
  }
 ],
 "metadata": {
  "kernelspec": {
   "display_name": "Python 3 (ipykernel)",
   "language": "python",
   "name": "python3"
  },
  "language_info": {
   "codemirror_mode": {
    "name": "ipython",
    "version": 3
   },
   "file_extension": ".py",
   "mimetype": "text/x-python",
   "name": "python",
   "nbconvert_exporter": "python",
   "pygments_lexer": "ipython3",
   "version": "3.10.8"
  }
 },
 "nbformat": 4,
 "nbformat_minor": 5
}
