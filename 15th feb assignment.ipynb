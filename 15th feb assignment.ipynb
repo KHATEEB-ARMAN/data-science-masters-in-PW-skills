{
 "cells": [
  {
   "cell_type": "markdown",
   "id": "89ba6d3f-524d-4dc1-86fa-08f667b608d3",
   "metadata": {},
   "source": [
    "## 1."
   ]
  },
  {
   "cell_type": "code",
   "execution_count": 1,
   "id": "910ced75-1863-46d4-88de-3131817075cb",
   "metadata": {},
   "outputs": [],
   "source": [
    "# Multiprocessing in Python is a built-in package that allows the system to run multiple processes simultaneously. \n",
    "# It will enable the breaking of applications into smaller threads that can run independently."
   ]
  },
  {
   "cell_type": "code",
   "execution_count": null,
   "id": "c470c0ff-7ba9-4e2d-8d22-e36ba55def05",
   "metadata": {},
   "outputs": [],
   "source": [
    "# The multiprocessing package offers both local and remote concurrency,\n",
    "# ffectively side-stepping the Global Interpreter Lock by using subprocesses instead of threads.\n",
    "# Due to this, the multiprocessing module allows the programmer to fully leverage multiple processors on a given machine.\n",
    "# It runs on both Unix and Windows."
   ]
  },
  {
   "cell_type": "markdown",
   "id": "55186fcb-fcb9-471d-a846-0ec7ae788050",
   "metadata": {},
   "source": [
    "## 2."
   ]
  },
  {
   "cell_type": "code",
   "execution_count": null,
   "id": "6df8236d-4580-4941-8a1b-8b1b8eab0fbb",
   "metadata": {},
   "outputs": [],
   "source": [
    "# Multithreading: is a technique where multiple threads are spawned by a process to do different tasks, at about the same time,\n",
    "# just one after the other. This gives you the illusion that the threads are running in parallel, but they are actually run in a concurrent manner. \n",
    "# In Python, the Global Interpreter Lock (GIL) prevents the threads from running simultaneously."
   ]
  },
  {
   "cell_type": "code",
   "execution_count": null,
   "id": "31146162-ef12-4c6d-8ed6-5954ab4ba3dc",
   "metadata": {},
   "outputs": [],
   "source": [
    "# Multiprocessing: is a technique where parallelism in its truest form is achieved.\n",
    "# Multiple processes are run across multiple CPU cores, which do not share the resources among them.\n",
    "# Each process can have many threads running in its own memory space. \n",
    "# In Python, each process has its own instance of Python interpreter doing the job of executing the instructions."
   ]
  },
  {
   "cell_type": "markdown",
   "id": "b4611fa8-8ff8-455b-a8ab-d575009bf4c2",
   "metadata": {},
   "source": [
    "## 3."
   ]
  },
  {
   "cell_type": "code",
   "execution_count": 38,
   "id": "af54b468-8692-4713-bd43-97d4c654091e",
   "metadata": {},
   "outputs": [
    {
     "name": "stdout",
     "output_type": "stream",
     "text": [
      "My name is  bob\n"
     ]
    }
   ],
   "source": [
    "from multiprocessing import Process\n",
    "def func1(name):\n",
    "    print(\"My name is \",name)\n",
    "    \n",
    "if __name__==\"__main__\":\n",
    "    a=Process(target=func1,args=(\"bob\",))\n",
    "    a.start()\n",
    "    "
   ]
  },
  {
   "cell_type": "markdown",
   "id": "76d39e85-7496-4f87-a758-b14d6a037a41",
   "metadata": {},
   "source": [
    "## 4."
   ]
  },
  {
   "cell_type": "code",
   "execution_count": 2,
   "id": "952bc83e-c475-46f2-8f27-5c8d55e8f91d",
   "metadata": {},
   "outputs": [],
   "source": [
    "# Python multiprocessing Pool can be used for parallel execution of a function across multiple input values, \n",
    "# distributing the input data across processes (data parallelism)."
   ]
  },
  {
   "cell_type": "code",
   "execution_count": null,
   "id": "bf6fd8b2-85c4-41f8-bd13-6f030734f38d",
   "metadata": {},
   "outputs": [],
   "source": [
    "# we are using multiprocessing. Pool class when you need to execute tasks that may or may not take arguments\n",
    "# and may or may not return a result once the tasks are complete."
   ]
  },
  {
   "cell_type": "markdown",
   "id": "8eab1e1a-d2fe-4b75-91da-4594c1cc65f3",
   "metadata": {},
   "source": [
    "## 5."
   ]
  },
  {
   "cell_type": "code",
   "execution_count": null,
   "id": "dc0fc80b-50bb-4673-985d-1ee5824083fe",
   "metadata": {},
   "outputs": [],
   "source": []
  },
  {
   "cell_type": "code",
   "execution_count": null,
   "id": "37cc4d67-9810-45d0-a99d-743858d3d76c",
   "metadata": {},
   "outputs": [
    {
     "name": "stdout",
     "output_type": "stream",
     "text": [
      "<multiprocessing.pool.Pool state=RUN pool_size=64>\n",
      "64\n",
      "64\n"
     ]
    }
   ],
   "source": [
    "from multiprocessing.pool import Pool\n",
    "from multiprocessing import active_children\n",
    " \n",
    "\n",
    "if __name__ == '__main__':\n",
    "    pool = Pool()\n",
    "    print(pool)\n",
    "    print(pool._processes)\n",
    "    children = active_children()\n",
    "    print(len(children))"
   ]
  },
  {
   "cell_type": "markdown",
   "id": "a1fb16cb-6168-4db0-a8d4-ea8d16a24be5",
   "metadata": {},
   "source": [
    "## 6."
   ]
  },
  {
   "cell_type": "code",
   "execution_count": null,
   "id": "a3aaa9e5-ade3-4398-bf5b-94e7dafeed2f",
   "metadata": {},
   "outputs": [],
   "source": []
  },
  {
   "cell_type": "code",
   "execution_count": 35,
   "id": "e9c8dbbc-5010-4ea8-a097-be7efd2d0317",
   "metadata": {},
   "outputs": [
    {
     "name": "stdout",
     "output_type": "stream",
     "text": [
      "\n",
      " the number is 6\n",
      "\n",
      " the number is  4\n",
      "\n",
      " the number is  3\n",
      "\n",
      " the number is 5\n"
     ]
    }
   ],
   "source": [
    "import multiprocessing as mp\n",
    "\n",
    "def func1(p):\n",
    "    print(\"\\n the number is\",p)\n",
    "    \n",
    "def func2(q):\n",
    "    print(\"\\n the number is \",q)\n",
    "    \n",
    "def func3(z):\n",
    "    print(\"\\n the number is \",z)\n",
    "    \n",
    "def func4(s):\n",
    "    print(\"\\n the number is\",s)\n",
    "    \n",
    "if __name__==\"__main__\":\n",
    "    a=mp.Process(target=func1,args=(6,))\n",
    "    b=mp.Process(target=func2,args=(4,))\n",
    "    c=mp.Process(target=func3,args=(3,))\n",
    "    d=mp.Process(target=func4,args=(5,))\n",
    "    \n",
    "    \n",
    "    a.start()\n",
    "    b.start()\n",
    "    c.start()\n",
    "    d.start()\n",
    "    \n",
    "    a.join()\n",
    "    b.join()\n",
    "    c.join()\n",
    "    d.join()\n",
    "    "
   ]
  },
  {
   "cell_type": "code",
   "execution_count": null,
   "id": "693b93e9-3f7d-472e-b31a-2dc68295fc03",
   "metadata": {},
   "outputs": [],
   "source": []
  }
 ],
 "metadata": {
  "kernelspec": {
   "display_name": "Python 3 (ipykernel)",
   "language": "python",
   "name": "python3"
  },
  "language_info": {
   "codemirror_mode": {
    "name": "ipython",
    "version": 3
   },
   "file_extension": ".py",
   "mimetype": "text/x-python",
   "name": "python",
   "nbconvert_exporter": "python",
   "pygments_lexer": "ipython3",
   "version": "3.10.8"
  }
 },
 "nbformat": 4,
 "nbformat_minor": 5
}
