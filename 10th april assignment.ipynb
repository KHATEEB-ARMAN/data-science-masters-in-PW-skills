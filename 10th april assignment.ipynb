{
 "cells": [
  {
   "cell_type": "markdown",
   "id": "5cf84ef7-794b-4325-8302-ae59462084eb",
   "metadata": {},
   "source": [
    "## 2."
   ]
  },
  {
   "cell_type": "code",
   "execution_count": 21,
   "id": "00a8e7d6-241c-4c92-9c27-8dfeefda899a",
   "metadata": {},
   "outputs": [],
   "source": [
    "# Multinomial NB cares about counts for multiple features that do occur.\n",
    "# MultinomialNB works with occurrence counts.\n",
    "\n",
    "\n",
    "# Bernoulli NB cares about counts for a single feature that do occur and counts for the same feature that do not occur.\n",
    "# BernoulliNB is designed for binary/boolean features."
   ]
  },
  {
   "cell_type": "markdown",
   "id": "9a43ddea-5c2f-427b-ae7b-aac37dc730c7",
   "metadata": {},
   "source": [
    "## 3."
   ]
  },
  {
   "cell_type": "code",
   "execution_count": 22,
   "id": "108b6076-b548-49dc-a748-719644429d05",
   "metadata": {},
   "outputs": [],
   "source": [
    "#  Bernouli Naive Bayes can handle missing data. Attributes are handled separately by the algorithm, at both model\n",
    "# construction time and prediction time. As such, if a data instance has a missing value for an attribute, it can be ignored\n",
    "# while preparing the model, and ignored when a probability is calculated for a class value."
   ]
  },
  {
   "cell_type": "markdown",
   "id": "6a1f7936-6ade-47d9-9123-d7963123889b",
   "metadata": {},
   "source": [
    "## 4."
   ]
  },
  {
   "cell_type": "code",
   "execution_count": 23,
   "id": "25ccaf15-b09e-4d62-a20b-a3238279da88",
   "metadata": {},
   "outputs": [],
   "source": [
    "# Yes\n",
    "# Gaussian Naive Bayes is a popular algorithm for classification tasks, especially for problems involving continuous numerical data.\n",
    "# This blog will discuss implementing multiclass Classification using Gaussian Naive Bayes through a vectorization approach,\n",
    "# which is much faster than the for-loop approach."
   ]
  },
  {
   "cell_type": "markdown",
   "id": "e847aec9-071d-4277-a177-9d76955268da",
   "metadata": {},
   "source": [
    "## 5."
   ]
  },
  {
   "cell_type": "code",
   "execution_count": 24,
   "id": "8e974754-ecb9-4d3b-aca1-c680f9b73e68",
   "metadata": {},
   "outputs": [],
   "source": [
    "import numpy as np \n",
    "import pandas as pd \n",
    "import seaborn as sns\n",
    "from matplotlib import pyplot as plt\n",
    "from sklearn.naive_bayes import BernoulliNB \n",
    "from sklearn.feature_extraction.text import CountVectorizer"
   ]
  },
  {
   "cell_type": "code",
   "execution_count": 25,
   "id": "8c31de6b-9ed1-45af-8cd6-b0e60c69049e",
   "metadata": {},
   "outputs": [],
   "source": [
    "#loading dataset\n",
    "df = pd.read_csv('spam.csv', encoding= 'latin-1')"
   ]
  },
  {
   "cell_type": "code",
   "execution_count": 26,
   "id": "54f147a4-6f8f-419f-8bd5-3330c76299ac",
   "metadata": {},
   "outputs": [
    {
     "data": {
      "text/html": [
       "<div>\n",
       "<style scoped>\n",
       "    .dataframe tbody tr th:only-of-type {\n",
       "        vertical-align: middle;\n",
       "    }\n",
       "\n",
       "    .dataframe tbody tr th {\n",
       "        vertical-align: top;\n",
       "    }\n",
       "\n",
       "    .dataframe thead th {\n",
       "        text-align: right;\n",
       "    }\n",
       "</style>\n",
       "<table border=\"1\" class=\"dataframe\">\n",
       "  <thead>\n",
       "    <tr style=\"text-align: right;\">\n",
       "      <th></th>\n",
       "      <th>v1</th>\n",
       "      <th>v2</th>\n",
       "      <th>Unnamed: 2</th>\n",
       "      <th>Unnamed: 3</th>\n",
       "      <th>Unnamed: 4</th>\n",
       "    </tr>\n",
       "  </thead>\n",
       "  <tbody>\n",
       "    <tr>\n",
       "      <th>0</th>\n",
       "      <td>ham</td>\n",
       "      <td>Go until jurong point, crazy.. Available only ...</td>\n",
       "      <td>NaN</td>\n",
       "      <td>NaN</td>\n",
       "      <td>NaN</td>\n",
       "    </tr>\n",
       "    <tr>\n",
       "      <th>1</th>\n",
       "      <td>ham</td>\n",
       "      <td>Ok lar... Joking wif u oni...</td>\n",
       "      <td>NaN</td>\n",
       "      <td>NaN</td>\n",
       "      <td>NaN</td>\n",
       "    </tr>\n",
       "    <tr>\n",
       "      <th>2</th>\n",
       "      <td>spam</td>\n",
       "      <td>Free entry in 2 a wkly comp to win FA Cup fina...</td>\n",
       "      <td>NaN</td>\n",
       "      <td>NaN</td>\n",
       "      <td>NaN</td>\n",
       "    </tr>\n",
       "    <tr>\n",
       "      <th>3</th>\n",
       "      <td>ham</td>\n",
       "      <td>U dun say so early hor... U c already then say...</td>\n",
       "      <td>NaN</td>\n",
       "      <td>NaN</td>\n",
       "      <td>NaN</td>\n",
       "    </tr>\n",
       "    <tr>\n",
       "      <th>4</th>\n",
       "      <td>ham</td>\n",
       "      <td>Nah I don't think he goes to usf, he lives aro...</td>\n",
       "      <td>NaN</td>\n",
       "      <td>NaN</td>\n",
       "      <td>NaN</td>\n",
       "    </tr>\n",
       "    <tr>\n",
       "      <th>5</th>\n",
       "      <td>spam</td>\n",
       "      <td>FreeMsg Hey there darling it's been 3 week's n...</td>\n",
       "      <td>NaN</td>\n",
       "      <td>NaN</td>\n",
       "      <td>NaN</td>\n",
       "    </tr>\n",
       "    <tr>\n",
       "      <th>6</th>\n",
       "      <td>ham</td>\n",
       "      <td>Even my brother is not like to speak with me. ...</td>\n",
       "      <td>NaN</td>\n",
       "      <td>NaN</td>\n",
       "      <td>NaN</td>\n",
       "    </tr>\n",
       "    <tr>\n",
       "      <th>7</th>\n",
       "      <td>ham</td>\n",
       "      <td>As per your request 'Melle Melle (Oru Minnamin...</td>\n",
       "      <td>NaN</td>\n",
       "      <td>NaN</td>\n",
       "      <td>NaN</td>\n",
       "    </tr>\n",
       "    <tr>\n",
       "      <th>8</th>\n",
       "      <td>spam</td>\n",
       "      <td>WINNER!! As a valued network customer you have...</td>\n",
       "      <td>NaN</td>\n",
       "      <td>NaN</td>\n",
       "      <td>NaN</td>\n",
       "    </tr>\n",
       "    <tr>\n",
       "      <th>9</th>\n",
       "      <td>spam</td>\n",
       "      <td>Had your mobile 11 months or more? U R entitle...</td>\n",
       "      <td>NaN</td>\n",
       "      <td>NaN</td>\n",
       "      <td>NaN</td>\n",
       "    </tr>\n",
       "  </tbody>\n",
       "</table>\n",
       "</div>"
      ],
      "text/plain": [
       "     v1                                                 v2 Unnamed: 2  \\\n",
       "0   ham  Go until jurong point, crazy.. Available only ...        NaN   \n",
       "1   ham                      Ok lar... Joking wif u oni...        NaN   \n",
       "2  spam  Free entry in 2 a wkly comp to win FA Cup fina...        NaN   \n",
       "3   ham  U dun say so early hor... U c already then say...        NaN   \n",
       "4   ham  Nah I don't think he goes to usf, he lives aro...        NaN   \n",
       "5  spam  FreeMsg Hey there darling it's been 3 week's n...        NaN   \n",
       "6   ham  Even my brother is not like to speak with me. ...        NaN   \n",
       "7   ham  As per your request 'Melle Melle (Oru Minnamin...        NaN   \n",
       "8  spam  WINNER!! As a valued network customer you have...        NaN   \n",
       "9  spam  Had your mobile 11 months or more? U R entitle...        NaN   \n",
       "\n",
       "  Unnamed: 3 Unnamed: 4  \n",
       "0        NaN        NaN  \n",
       "1        NaN        NaN  \n",
       "2        NaN        NaN  \n",
       "3        NaN        NaN  \n",
       "4        NaN        NaN  \n",
       "5        NaN        NaN  \n",
       "6        NaN        NaN  \n",
       "7        NaN        NaN  \n",
       "8        NaN        NaN  \n",
       "9        NaN        NaN  "
      ]
     },
     "execution_count": 26,
     "metadata": {},
     "output_type": "execute_result"
    }
   ],
   "source": [
    "df.head(n=10)"
   ]
  },
  {
   "cell_type": "code",
   "execution_count": 27,
   "id": "fc02a5ed-e61d-4cc1-99ae-5b47c180b640",
   "metadata": {},
   "outputs": [],
   "source": [
    "df= df.drop(['Unnamed: 2', 'Unnamed: 3', 'Unnamed: 4'], axis=1)"
   ]
  },
  {
   "cell_type": "code",
   "execution_count": 28,
   "id": "cd732e84-ee58-4f56-ae05-1e1cb3aa2c85",
   "metadata": {},
   "outputs": [
    {
     "data": {
      "text/plain": [
       "(5572, 2)"
      ]
     },
     "execution_count": 28,
     "metadata": {},
     "output_type": "execute_result"
    }
   ],
   "source": [
    "df.shape"
   ]
  },
  {
   "cell_type": "code",
   "execution_count": 29,
   "id": "711a0add-a7a9-4b66-adb9-fb2a6ea278f7",
   "metadata": {},
   "outputs": [
    {
     "data": {
      "text/plain": [
       "array(['ham', 'spam'], dtype=object)"
      ]
     },
     "execution_count": 29,
     "metadata": {},
     "output_type": "execute_result"
    }
   ],
   "source": [
    "np.unique(df['v1'])"
   ]
  },
  {
   "cell_type": "code",
   "execution_count": 30,
   "id": "9ce04bfa-670f-4be1-b85f-907978b5c0e4",
   "metadata": {},
   "outputs": [
    {
     "data": {
      "text/plain": [
       "array([' &lt;#&gt;  in mca. But not conform.',\n",
       "       ' &lt;#&gt;  mins but i had to stop somewhere first.',\n",
       "       ' &lt;DECIMAL&gt; m but its not a common car here so its better to buy from china or asia. Or if i find it less expensive. I.ll holla',\n",
       "       ..., 'ÌÏ thk of wat to eat tonight.', 'ÌÏ v ma fan...',\n",
       "       'ÌÏ wait 4 me in sch i finish ard 5..'], dtype=object)"
      ]
     },
     "execution_count": 30,
     "metadata": {},
     "output_type": "execute_result"
    }
   ],
   "source": [
    "np.unique(df['v2'])"
   ]
  },
  {
   "cell_type": "code",
   "execution_count": 31,
   "id": "356c4b7b-19af-46e6-afe6-8974be7c4120",
   "metadata": {},
   "outputs": [
    {
     "name": "stdout",
     "output_type": "stream",
     "text": [
      "[[0 0 0 ... 0 0 0]\n",
      " [0 0 0 ... 0 0 0]\n",
      " [0 0 0 ... 0 0 0]\n",
      " ...\n",
      " [0 0 0 ... 0 0 0]\n",
      " [0 0 0 ... 0 0 0]\n",
      " [0 0 0 ... 0 0 0]]\n"
     ]
    }
   ],
   "source": [
    "x =df[\"v2\"].values \n",
    "y = df[\"v1\"].values\n",
    "# creating count vectorizer object \n",
    "cv = CountVectorizer()\n",
    "#tranforming values \n",
    "x = cv.fit_transform(x)\n",
    "v= x.toarray()\n",
    "#printing sparse matrix \n",
    "print(v)"
   ]
  },
  {
   "cell_type": "code",
   "execution_count": 32,
   "id": "f2ec31e3-495d-4b9c-8e51-adbcf73c1ffb",
   "metadata": {},
   "outputs": [
    {
     "data": {
      "text/html": [
       "<div>\n",
       "<style scoped>\n",
       "    .dataframe tbody tr th:only-of-type {\n",
       "        vertical-align: middle;\n",
       "    }\n",
       "\n",
       "    .dataframe tbody tr th {\n",
       "        vertical-align: top;\n",
       "    }\n",
       "\n",
       "    .dataframe thead th {\n",
       "        text-align: right;\n",
       "    }\n",
       "</style>\n",
       "<table border=\"1\" class=\"dataframe\">\n",
       "  <thead>\n",
       "    <tr style=\"text-align: right;\">\n",
       "      <th></th>\n",
       "      <th>v2</th>\n",
       "      <th>v1</th>\n",
       "    </tr>\n",
       "  </thead>\n",
       "  <tbody>\n",
       "    <tr>\n",
       "      <th>0</th>\n",
       "      <td>Go until jurong point, crazy.. Available only ...</td>\n",
       "      <td>ham</td>\n",
       "    </tr>\n",
       "    <tr>\n",
       "      <th>1</th>\n",
       "      <td>Ok lar... Joking wif u oni...</td>\n",
       "      <td>ham</td>\n",
       "    </tr>\n",
       "    <tr>\n",
       "      <th>2</th>\n",
       "      <td>Free entry in 2 a wkly comp to win FA Cup fina...</td>\n",
       "      <td>spam</td>\n",
       "    </tr>\n",
       "    <tr>\n",
       "      <th>3</th>\n",
       "      <td>U dun say so early hor... U c already then say...</td>\n",
       "      <td>ham</td>\n",
       "    </tr>\n",
       "    <tr>\n",
       "      <th>4</th>\n",
       "      <td>Nah I don't think he goes to usf, he lives aro...</td>\n",
       "      <td>ham</td>\n",
       "    </tr>\n",
       "    <tr>\n",
       "      <th>...</th>\n",
       "      <td>...</td>\n",
       "      <td>...</td>\n",
       "    </tr>\n",
       "    <tr>\n",
       "      <th>5567</th>\n",
       "      <td>This is the 2nd time we have tried 2 contact u...</td>\n",
       "      <td>spam</td>\n",
       "    </tr>\n",
       "    <tr>\n",
       "      <th>5568</th>\n",
       "      <td>Will Ì_ b going to esplanade fr home?</td>\n",
       "      <td>ham</td>\n",
       "    </tr>\n",
       "    <tr>\n",
       "      <th>5569</th>\n",
       "      <td>Pity, * was in mood for that. So...any other s...</td>\n",
       "      <td>ham</td>\n",
       "    </tr>\n",
       "    <tr>\n",
       "      <th>5570</th>\n",
       "      <td>The guy did some bitching but I acted like i'd...</td>\n",
       "      <td>ham</td>\n",
       "    </tr>\n",
       "    <tr>\n",
       "      <th>5571</th>\n",
       "      <td>Rofl. Its true to its name</td>\n",
       "      <td>ham</td>\n",
       "    </tr>\n",
       "  </tbody>\n",
       "</table>\n",
       "<p>5572 rows × 2 columns</p>\n",
       "</div>"
      ],
      "text/plain": [
       "                                                     v2    v1\n",
       "0     Go until jurong point, crazy.. Available only ...   ham\n",
       "1                         Ok lar... Joking wif u oni...   ham\n",
       "2     Free entry in 2 a wkly comp to win FA Cup fina...  spam\n",
       "3     U dun say so early hor... U c already then say...   ham\n",
       "4     Nah I don't think he goes to usf, he lives aro...   ham\n",
       "...                                                 ...   ...\n",
       "5567  This is the 2nd time we have tried 2 contact u...  spam\n",
       "5568              Will Ì_ b going to esplanade fr home?   ham\n",
       "5569  Pity, * was in mood for that. So...any other s...   ham\n",
       "5570  The guy did some bitching but I acted like i'd...   ham\n",
       "5571                         Rofl. Its true to its name   ham\n",
       "\n",
       "[5572 rows x 2 columns]"
      ]
     },
     "execution_count": 32,
     "metadata": {},
     "output_type": "execute_result"
    }
   ],
   "source": [
    "first_col = df.pop('v2')\n",
    "df.insert(0, 'v2', first_col)\n",
    "df"
   ]
  },
  {
   "cell_type": "code",
   "execution_count": 33,
   "id": "ca10c884-e16e-411c-88ca-9243186cf3ff",
   "metadata": {},
   "outputs": [],
   "source": [
    "train_x = x[:4179]\n",
    "train_y = y[:4179]\n",
    "\n",
    "test_x = x[4179:]\n",
    "test_y = y[4179:]"
   ]
  },
  {
   "cell_type": "code",
   "execution_count": 34,
   "id": "7bdd675c-2cea-4b32-bd5d-e68f9ace8123",
   "metadata": {},
   "outputs": [],
   "source": [
    "bnb = BernoulliNB(binarize=0.0)\n",
    "model = bnb.fit(train_x, train_y)\n",
    "y_pred_train= bnb.predict(train_x)\n",
    "y_pred_test = bnb.predict(test_x)"
   ]
  },
  {
   "cell_type": "code",
   "execution_count": 35,
   "id": "ee856c56-ba0b-4264-9db7-04ac81b2cff5",
   "metadata": {},
   "outputs": [
    {
     "name": "stdout",
     "output_type": "stream",
     "text": [
      "98.73175400813592\n",
      "98.20531227566404\n"
     ]
    }
   ],
   "source": [
    "print(bnb.score(train_x, train_y)*100)\n",
    "print(bnb.score(test_x, test_y)*100)"
   ]
  },
  {
   "cell_type": "code",
   "execution_count": 36,
   "id": "e0ba48c1-ca36-41b9-8005-4b38a5815889",
   "metadata": {},
   "outputs": [
    {
     "data": {
      "text/plain": [
       "'\\nWe notice that we get good results on both training and testing sets. The training set gives us a score of 98.73, whereas the testing set gives us a score of 98.20. \\n\\n'"
      ]
     },
     "execution_count": 36,
     "metadata": {},
     "output_type": "execute_result"
    }
   ],
   "source": [
    "\"\"\"\n",
    "We notice that we get good results on both training and testing sets. The training set gives us a score of 98.73, whereas the testing set gives us a score of 98.20. \n",
    "\n",
    "\"\"\""
   ]
  },
  {
   "cell_type": "code",
   "execution_count": 37,
   "id": "aca05f66-c86e-4037-80b3-113c2740e30a",
   "metadata": {},
   "outputs": [
    {
     "name": "stdout",
     "output_type": "stream",
     "text": [
      "              precision    recall  f1-score   support\n",
      "\n",
      "         ham       0.99      1.00      0.99      3614\n",
      "        spam       0.99      0.91      0.95       565\n",
      "\n",
      "    accuracy                           0.99      4179\n",
      "   macro avg       0.99      0.96      0.97      4179\n",
      "weighted avg       0.99      0.99      0.99      4179\n",
      "\n"
     ]
    }
   ],
   "source": [
    "#for training set \n",
    "from sklearn.metrics import classification_report\n",
    "print(classification_report(train_y, y_pred_train))"
   ]
  },
  {
   "cell_type": "code",
   "execution_count": 38,
   "id": "73775a92-3d83-48cf-8f40-80fdfa49bbf8",
   "metadata": {},
   "outputs": [
    {
     "name": "stdout",
     "output_type": "stream",
     "text": [
      "              precision    recall  f1-score   support\n",
      "\n",
      "         ham       0.98      1.00      0.99      1211\n",
      "        spam       0.99      0.87      0.93       182\n",
      "\n",
      "    accuracy                           0.98      1393\n",
      "   macro avg       0.99      0.93      0.96      1393\n",
      "weighted avg       0.98      0.98      0.98      1393\n",
      "\n"
     ]
    }
   ],
   "source": [
    "#for testing set \n",
    "from sklearn.metrics import classification_report\n",
    "print(classification_report(test_y, y_pred_test))"
   ]
  },
  {
   "cell_type": "code",
   "execution_count": null,
   "id": "5a42fa9b-ff81-48c8-8701-8a8b62e1496d",
   "metadata": {},
   "outputs": [],
   "source": []
  }
 ],
 "metadata": {
  "kernelspec": {
   "display_name": "Python 3 (ipykernel)",
   "language": "python",
   "name": "python3"
  },
  "language_info": {
   "codemirror_mode": {
    "name": "ipython",
    "version": 3
   },
   "file_extension": ".py",
   "mimetype": "text/x-python",
   "name": "python",
   "nbconvert_exporter": "python",
   "pygments_lexer": "ipython3",
   "version": "3.10.8"
  }
 },
 "nbformat": 4,
 "nbformat_minor": 5
}
