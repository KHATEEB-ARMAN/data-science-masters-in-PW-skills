{
 "cells": [
  {
   "cell_type": "markdown",
   "id": "200321ac-4d71-433b-a47e-e95dc042e756",
   "metadata": {},
   "source": [
    "## 1."
   ]
  },
  {
   "cell_type": "code",
   "execution_count": 2,
   "id": "9b2e0c42-dbc2-42d1-b5f8-35fa28f1fb4b",
   "metadata": {},
   "outputs": [],
   "source": [
    "# A decision tree algorithm is a machine learning algorithm that uses a decision tree to make predictions. It follows a tree-like model of\n",
    "# decisions and their possible consequences. The algorithm works by recursively splitting the data into subsets based on the most significant \n",
    "# feature at each node of the tree"
   ]
  },
  {
   "cell_type": "code",
   "execution_count": 3,
   "id": "036f3ebc-b0c2-4f23-8597-a69e72211792",
   "metadata": {},
   "outputs": [],
   "source": [
    "# Start with your idea. Begin your diagram with one main idea or decision.\n",
    "# Add chance and decision nodes. \n",
    "# Expand until you reach end points. \n",
    "# Calculate tree values.\n",
    "# Evaluate outcomes."
   ]
  },
  {
   "cell_type": "markdown",
   "id": "89172492-15cc-4599-8108-eb724f8d7a68",
   "metadata": {},
   "source": [
    "## 2."
   ]
  },
  {
   "cell_type": "code",
   "execution_count": 4,
   "id": "c404a43c-b4d2-4957-b127-db96ac0156ea",
   "metadata": {},
   "outputs": [],
   "source": [
    "# Step-1: Begin the tree with the root node, says S, which contains the complete dataset.\n",
    "# Step-2: Find the best attribute in the dataset using Attribute Selection Measure (ASM).\n",
    "# tep-4: Generate the decision tree node, which contains the best attribute.\n",
    "# Step-5: Recursively make new decision trees using the subsets of the dataset created in step -3. Continue this process until\n",
    "#  a stage is reached where you cannot further classify the nodes and called the final node as a leaf nodeClassification and Regression Tree algorithm."
   ]
  },
  {
   "cell_type": "markdown",
   "id": "8c46b947-ac95-4fa2-b36f-5d2eb3c83e62",
   "metadata": {},
   "source": [
    "## 3."
   ]
  },
  {
   "cell_type": "code",
   "execution_count": 5,
   "id": "3c62c386-33ec-4651-9157-6c967f2490b5",
   "metadata": {},
   "outputs": [],
   "source": [
    "# After the first split, the decision tree algorithm examines each of the two subsets of data and finds a predictor variable and a value that\n",
    "# gives the most information. The process continues until a program-specified maximum tree depth is reached. There are several algorithms to split data"
   ]
  },
  {
   "cell_type": "markdown",
   "id": "5c70e235-5fb4-4e4f-9372-6b0008d58dea",
   "metadata": {},
   "source": [
    "## 4."
   ]
  },
  {
   "cell_type": "code",
   "execution_count": 6,
   "id": "b48cc4d4-8158-443c-9bf8-83e3d7067ba0",
   "metadata": {},
   "outputs": [],
   "source": [
    "# Entropy : Entropy is a measure of randomness. In other words, its a measure of unpredictability. \n",
    "# Information Gain : The information gain is based on the decrease in entropy after a dataset is split on an attribute. Constructing a decision\n",
    "#                  tree is all about finding the attribute that returns the highest information gain  \n",
    "# Gini Impurity : The Gini Index is calculated by subtracting the sum of the squared probabilities of each class from one. It favors larger \n",
    "#                  partitions. Information Gain multiplies the probability of the class times the log (base=2) of that class probability. "
   ]
  },
  {
   "cell_type": "markdown",
   "id": "15e27135-8c9a-4e40-a73f-ca0d72d1381a",
   "metadata": {},
   "source": [
    "## 5."
   ]
  },
  {
   "cell_type": "code",
   "execution_count": 7,
   "id": "ef025640-3068-436d-b709-39c127724999",
   "metadata": {},
   "outputs": [],
   "source": [
    "# A Confusion matrix is an N x N matrix used for evaluating the performance of a classification model, where N is the total number of target classes.\n",
    "# The matrix compares the actual target values with those predicted by the machine learning model."
   ]
  },
  {
   "cell_type": "code",
   "execution_count": 8,
   "id": "89bfbfef-ba3d-43c2-b0e0-773bd3b33ad8",
   "metadata": {},
   "outputs": [],
   "source": [
    "# Confusion matrices can be used to calculate performance metrics for classification models. Of the many performance metrics used, the most common\n",
    "# are accuracy, precision, recall, and F1 score."
   ]
  },
  {
   "cell_type": "markdown",
   "id": "02176ddf-1bd2-43d4-b3b9-5712cf799520",
   "metadata": {},
   "source": [
    "## 6."
   ]
  },
  {
   "cell_type": "code",
   "execution_count": 9,
   "id": "7515a310-3c1a-4712-94a6-7e4c2c82c07d",
   "metadata": {},
   "outputs": [],
   "source": [
    "# Accuracy = Correct Predictions / Total Cases * 100%\n",
    "# Accuracy = (TP + TN) / (TP + TN + FP + FN +) * 100%\n",
    "# Precision = TP / (TP + FP) * 100%\n",
    "# Recall = TP / TP + FN.\n",
    "# F1 Score = 2 * Precision * Recall / Precision + Recall."
   ]
  },
  {
   "cell_type": "markdown",
   "id": "0786ccb2-98f3-4a32-b228-67d26489ee0e",
   "metadata": {},
   "source": [
    "## 7."
   ]
  },
  {
   "cell_type": "code",
   "execution_count": 10,
   "id": "af526766-319e-4dcb-a1d2-4f3f70d7a135",
   "metadata": {},
   "outputs": [],
   "source": [
    "# Metrics like accuracy, precision, recall are good ways to evaluate classification models for balanced datasets, but if the data is imbalanced \n",
    "# then other methods like ROC/AUC perform better in evaluating the model performance"
   ]
  },
  {
   "cell_type": "code",
   "execution_count": 11,
   "id": "30d7a770-17ea-4d33-a727-964fc9a0e29f",
   "metadata": {},
   "outputs": [],
   "source": [
    "# Evaluation metrics are used to measure the quality of the statistical or machine learning model. Evaluating machine learning models or algorithms\n",
    "# is essential for any project. There are many different types of evaluation metrics available to test a model."
   ]
  },
  {
   "cell_type": "markdown",
   "id": "ed4fdfc4-2f8c-4a71-8216-d669a8355c92",
   "metadata": {},
   "source": [
    "## 8."
   ]
  },
  {
   "cell_type": "code",
   "execution_count": 12,
   "id": "9e8236db-a2e3-4bd3-8551-f2c943eca6df",
   "metadata": {},
   "outputs": [],
   "source": [
    "# Precision: The ability of a classification model to identify only the relevant data points. Mathematically, precision is the number of true\n",
    "# positives divided by the number of true positives plus the number of false positives."
   ]
  },
  {
   "cell_type": "code",
   "execution_count": 13,
   "id": "ed05d8d4-5844-4b09-a94e-f8a59a5bb2da",
   "metadata": {},
   "outputs": [],
   "source": [
    "# Ex:\n",
    "\n",
    "# If you weigh an object five times and you get 3.2 kg every time, then your measurement is very precise. Precision refers to a value in decimal\n",
    "#  numbers after the whole number, and it does not relate to accuracy."
   ]
  },
  {
   "cell_type": "markdown",
   "id": "f8bd458f-48e4-4bde-8f86-455105b94c82",
   "metadata": {},
   "source": [
    "## 9."
   ]
  },
  {
   "cell_type": "code",
   "execution_count": 14,
   "id": "1e6174e2-38b7-4881-9d18-3da18e8031d7",
   "metadata": {},
   "outputs": [],
   "source": [
    "# Recall: The ability of a model to find all the relevant cases within a data set. Mathematically, we define recall as the number of true positives\n",
    "# divided by the number of true positives plus the number of false negatives."
   ]
  },
  {
   "cell_type": "code",
   "execution_count": 15,
   "id": "e2b4cb45-4f07-4682-8be4-62621250d6ed",
   "metadata": {},
   "outputs": [],
   "source": [
    "# EX:In our apples and oranges example, recall measures the amount apples labeled correctly divided by the total amount of apples present.\n",
    "# In other words, recall measures how many apples we might have missed in the entire sample of fruit.\n",
    " "
   ]
  }
 ],
 "metadata": {
  "kernelspec": {
   "display_name": "Python 3 (ipykernel)",
   "language": "python",
   "name": "python3"
  },
  "language_info": {
   "codemirror_mode": {
    "name": "ipython",
    "version": 3
   },
   "file_extension": ".py",
   "mimetype": "text/x-python",
   "name": "python",
   "nbconvert_exporter": "python",
   "pygments_lexer": "ipython3",
   "version": "3.10.8"
  }
 },
 "nbformat": 4,
 "nbformat_minor": 5
}
