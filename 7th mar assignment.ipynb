{
 "cells": [
  {
   "cell_type": "markdown",
   "id": "e0567ffd-fa75-4114-b853-f542a8f14519",
   "metadata": {},
   "source": [
    "## 1."
   ]
  },
  {
   "cell_type": "code",
   "execution_count": null,
   "id": "bed2fcf0-41e4-4cb9-8391-4af36b1c36c3",
   "metadata": {},
   "outputs": [],
   "source": [
    "## 1. mean\n",
    "## 2. median\n",
    "## 3.mode\n"
   ]
  },
  {
   "cell_type": "markdown",
   "id": "f2eda575-8d4a-4803-a802-ed3ed4a91316",
   "metadata": {},
   "source": [
    "## 2."
   ]
  },
  {
   "cell_type": "code",
   "execution_count": 1,
   "id": "ab4f8442-302d-4292-9f4c-0805855f6433",
   "metadata": {},
   "outputs": [],
   "source": [
    "## Mean: Mean is the average value of the given observations. \n",
    "## Median: Median is the middle value of the given observations.\n",
    "## mode:Mode is the most repeated value in the given observation."
   ]
  },
  {
   "cell_type": "markdown",
   "id": "e2e80a7d-001b-4372-ba6b-dbddda6fdb3d",
   "metadata": {},
   "source": [
    "## 3."
   ]
  },
  {
   "cell_type": "code",
   "execution_count": 8,
   "id": "5a3ac3cc-bf95-4091-a724-916c1b33392f",
   "metadata": {},
   "outputs": [],
   "source": [
    "import pandas as pd\n",
    "import numpy as np"
   ]
  },
  {
   "cell_type": "code",
   "execution_count": 9,
   "id": "d18e5d7b-5af7-4263-8099-a8d495438935",
   "metadata": {},
   "outputs": [],
   "source": [
    "data=[178,177,176,177,178.2,178,175,179,180,175,178.9,176.2,177,172.5,178,176.5]"
   ]
  },
  {
   "cell_type": "code",
   "execution_count": 12,
   "id": "77ecceaf-a62d-4692-9586-b9a300512457",
   "metadata": {},
   "outputs": [
    {
     "data": {
      "text/plain": [
       "177.01875"
      ]
     },
     "execution_count": 12,
     "metadata": {},
     "output_type": "execute_result"
    }
   ],
   "source": [
    "np.mean(data)"
   ]
  },
  {
   "cell_type": "code",
   "execution_count": 16,
   "id": "7e4ccbf8-0b06-4fbe-94b5-b777c18685e8",
   "metadata": {},
   "outputs": [
    {
     "data": {
      "text/plain": [
       "177.0"
      ]
     },
     "execution_count": 16,
     "metadata": {},
     "output_type": "execute_result"
    }
   ],
   "source": [
    "np.median(data)"
   ]
  },
  {
   "cell_type": "code",
   "execution_count": 19,
   "id": "bd01b01e-8408-4aac-8f79-12d3af390e42",
   "metadata": {},
   "outputs": [],
   "source": [
    "import statistics as st"
   ]
  },
  {
   "cell_type": "code",
   "execution_count": 20,
   "id": "ee011b1f-f222-4d8c-b4bf-7d200b1b31a7",
   "metadata": {},
   "outputs": [
    {
     "data": {
      "text/plain": [
       "178"
      ]
     },
     "execution_count": 20,
     "metadata": {},
     "output_type": "execute_result"
    }
   ],
   "source": [
    "st.mode(data)"
   ]
  },
  {
   "cell_type": "markdown",
   "id": "35780d07-c7c5-4eda-b0a1-b5bf275d1cb6",
   "metadata": {},
   "source": [
    "## 4."
   ]
  },
  {
   "cell_type": "code",
   "execution_count": 29,
   "id": "85960d9e-a1e3-4126-adef-97c435768695",
   "metadata": {},
   "outputs": [
    {
     "data": {
      "text/plain": [
       "[178,\n",
       " 177,\n",
       " 176,\n",
       " 177,\n",
       " 178.2,\n",
       " 178,\n",
       " 175,\n",
       " 179,\n",
       " 180,\n",
       " 175,\n",
       " 178.9,\n",
       " 176.2,\n",
       " 177,\n",
       " 172.5,\n",
       " 178,\n",
       " 176.5]"
      ]
     },
     "execution_count": 29,
     "metadata": {},
     "output_type": "execute_result"
    }
   ],
   "source": [
    "data"
   ]
  },
  {
   "cell_type": "code",
   "execution_count": 28,
   "id": "49c0cbea-ff8d-4235-93ac-70916b374a9b",
   "metadata": {},
   "outputs": [
    {
     "data": {
      "text/plain": [
       "3.199023437500001"
      ]
     },
     "execution_count": 28,
     "metadata": {},
     "output_type": "execute_result"
    }
   ],
   "source": [
    "np.var(data)"
   ]
  },
  {
   "cell_type": "code",
   "execution_count": 31,
   "id": "af7bcd62-f43b-4747-9fb7-c838eec38840",
   "metadata": {},
   "outputs": [
    {
     "data": {
      "text/plain": [
       "1.7885814036548633"
      ]
     },
     "execution_count": 31,
     "metadata": {},
     "output_type": "execute_result"
    }
   ],
   "source": [
    "np.std(data)"
   ]
  },
  {
   "cell_type": "markdown",
   "id": "e007a3fe-7010-48fd-9db2-85eb991d5316",
   "metadata": {},
   "source": [
    "## 5."
   ]
  },
  {
   "cell_type": "code",
   "execution_count": null,
   "id": "f5b71866-3c74-4078-b6e5-2994c71bfece",
   "metadata": {},
   "outputs": [],
   "source": [
    "## Range: The range of the data is given as the difference between the maximum and the minimum values of the observations in the data.\n",
    "## Varience: The variance of the data is given by measuring the distance of the observed values from the mean of the distribution. \n",
    "##          Here we are not concerned with the sign of the distance of the point, we are more interested in the magnitude. So, we take squares of the distance from the mean.\n",
    "## Standard deviation: In the calculation of variance, notice that the units of the variance and the unit of the observations are not the same.\n",
    "##                    So, to remove this problem, we define standard deviation. It is denoted as \\sigma"
   ]
  },
  {
   "cell_type": "markdown",
   "id": "a4d6ae18-68f3-4e6c-86b1-b32bc2d36031",
   "metadata": {},
   "source": [
    "## 6."
   ]
  },
  {
   "cell_type": "code",
   "execution_count": null,
   "id": "8e38c9ea-ce6f-49c0-b870-a38423ae6424",
   "metadata": {},
   "outputs": [],
   "source": [
    "# Venn Digram:\n",
    "#    A Venn diagram is an illustration that uses circles to show the relationships among things or finite groups of things.\n",
    "#    Circles that overlap have a commonality while circles that do not overlap do not share those traits.\n",
    "#    Venn diagrams help to visually represent the similarities and differences between two concepts."
   ]
  },
  {
   "cell_type": "markdown",
   "id": "9f5795af-cbe4-4c4d-ace7-161155158097",
   "metadata": {},
   "source": [
    "## 7."
   ]
  },
  {
   "cell_type": "code",
   "execution_count": 36,
   "id": "bda7fc0d-6198-4573-bb04-c2ec2b652f05",
   "metadata": {},
   "outputs": [],
   "source": [
    "A={2,3,4,5,6,7}\n",
    "B={0,2,6,8,10}"
   ]
  },
  {
   "cell_type": "code",
   "execution_count": 37,
   "id": "d1b5c6e3-17f9-4480-a6a1-6356ca32ba42",
   "metadata": {},
   "outputs": [
    {
     "data": {
      "text/plain": [
       "{0, 2, 3, 4, 5, 6, 7, 8, 10}"
      ]
     },
     "execution_count": 37,
     "metadata": {},
     "output_type": "execute_result"
    }
   ],
   "source": [
    "A.union(B)"
   ]
  },
  {
   "cell_type": "code",
   "execution_count": 38,
   "id": "9c542bad-0976-4a7b-b535-2965c1ba0b3e",
   "metadata": {},
   "outputs": [
    {
     "data": {
      "text/plain": [
       "{2, 6}"
      ]
     },
     "execution_count": 38,
     "metadata": {},
     "output_type": "execute_result"
    }
   ],
   "source": [
    "A.intersection(B)"
   ]
  },
  {
   "cell_type": "markdown",
   "id": "318d362d-0ad0-40f6-8387-ede7e2e3f5d8",
   "metadata": {},
   "source": [
    "## 8."
   ]
  },
  {
   "cell_type": "code",
   "execution_count": 39,
   "id": "93b42423-f21b-4d23-9e9e-134cf70ae165",
   "metadata": {},
   "outputs": [],
   "source": [
    "## Skewness:\n",
    "#           kewness is a measurement of the distortion of symmetrical distribution or asymmetry in a data set. \n",
    "#           Skewness is demonstrated on a bell curve when data points are not distributed symmetrically to the left and right sides of the median on a bell curve."
   ]
  },
  {
   "cell_type": "markdown",
   "id": "bc4f278a-9a89-4bad-a91e-590a17967481",
   "metadata": {},
   "source": [
    "## 9."
   ]
  },
  {
   "cell_type": "code",
   "execution_count": 40,
   "id": "c5b86129-e432-473a-a11d-38fe97bcb33e",
   "metadata": {},
   "outputs": [],
   "source": [
    "## in left skew mean<median<mode\n",
    "## in right skew mean>median>mode"
   ]
  },
  {
   "cell_type": "code",
   "execution_count": null,
   "id": "ef63b6b9-aa0e-49be-a54d-c44a592f6c4e",
   "metadata": {},
   "outputs": [],
   "source": [
    "## Co_varience:Covariance is an indicator of the extent to which 2 random variables are dependent on each other. A higher number denotes higher dependency.\n",
    "\n",
    "## Co_relation:Correlation is a statistical measure that indicates how strongly two variables are related. The value of covariance lies in the range of -∞ and +∞."
   ]
  },
  {
   "cell_type": "markdown",
   "id": "902a7009-a272-48a2-bcc3-1ef1abf7f70f",
   "metadata": {},
   "source": [
    "## 10."
   ]
  },
  {
   "cell_type": "code",
   "execution_count": 41,
   "id": "022b4271-0620-487d-b7d3-225834c9fbea",
   "metadata": {},
   "outputs": [],
   "source": [
    "# sample mean== add up all the given values, then divide by how many values there are.\n"
   ]
  },
  {
   "cell_type": "code",
   "execution_count": 45,
   "id": "6f20ea9a-ab77-4150-b962-8f141e92f98b",
   "metadata": {},
   "outputs": [],
   "source": [
    "A=[1,2,3,4,5,6,7,8,9]\n",
    "sample=[2,3,4,5,6]\n",
    "\n",
    "sample_mean=(2+3+4+5+6)/5\n",
    "sample_mean=4"
   ]
  },
  {
   "cell_type": "markdown",
   "id": "74258682-903d-4b2a-b6a5-dc9157dbb9b0",
   "metadata": {},
   "source": [
    "## 11."
   ]
  },
  {
   "cell_type": "code",
   "execution_count": 47,
   "id": "16e69095-76e2-4531-813d-474156617810",
   "metadata": {},
   "outputs": [],
   "source": [
    "## Any normal distribution has a graph that is perfectly symmetric about a vertical line through its peak.\n",
    "## Therefore, all measures of central tendency (most commonly, the mean, median, and mode) give the same answer: the x -value of the peak."
   ]
  },
  {
   "cell_type": "code",
   "execution_count": null,
   "id": "ea8f2d3a-807b-416a-8ae4-031f174d8272",
   "metadata": {},
   "outputs": [],
   "source": [
    "## Covariance:\n",
    "\n",
    "## 1.It is the relationship between a pair of random variables where change in one variable causes change in another variable.\n",
    "## 2.It can take any value between -infinity to +infinity, where the negative value represents the negative relationship whereas a positive value represents the positive relationship.\n",
    "## 3.It is used for the linear relationship between variables.\n",
    "## 4.It gives the direction of relationship between variables."
   ]
  },
  {
   "cell_type": "code",
   "execution_count": null,
   "id": "d4917834-9f49-41b6-b684-cda4f95febee",
   "metadata": {},
   "outputs": [],
   "source": [
    "## Correlation:\n",
    "\n",
    "## 1.It show whether and how strongly pairs of variables are related to each other.\n",
    "## 2.Correlation takes values between -1 to +1, wherein values close to +1 represents strong positive correlation and values close to -1 represents strong negative correlation.\n",
    "## 3.In this variable are indirectly related to each other.\n",
    "## 4.It gives the direction and strength of relationship between variables."
   ]
  },
  {
   "cell_type": "markdown",
   "id": "194d3c02-99f2-43b4-80a5-c1ff59a7a2eb",
   "metadata": {},
   "source": [
    "## 14."
   ]
  },
  {
   "cell_type": "code",
   "execution_count": 48,
   "id": "91368b2f-137a-48f1-bd7d-20f1568ebeae",
   "metadata": {},
   "outputs": [],
   "source": [
    "## Outliers affect the mean value of the data but have little effect on the median or mode of a given set of data."
   ]
  },
  {
   "cell_type": "code",
   "execution_count": 49,
   "id": "3f2a4d9f-9e3b-4258-833f-4201f798d390",
   "metadata": {},
   "outputs": [],
   "source": [
    "a=[2,3,4,5,6,7,8]"
   ]
  },
  {
   "cell_type": "code",
   "execution_count": 50,
   "id": "f2181547-4f5d-4c48-a161-cd3f0f5a7a15",
   "metadata": {},
   "outputs": [
    {
     "data": {
      "text/plain": [
       "5.0"
      ]
     },
     "execution_count": 50,
     "metadata": {},
     "output_type": "execute_result"
    }
   ],
   "source": [
    "np.mean(a)"
   ]
  },
  {
   "cell_type": "code",
   "execution_count": 58,
   "id": "8d7fd3ea-6c97-4848-a7a2-c0a52502b9a0",
   "metadata": {},
   "outputs": [
    {
     "name": "stdout",
     "output_type": "stream",
     "text": [
      "2\n",
      "4.0\n",
      "2.0\n"
     ]
    }
   ],
   "source": [
    "print(st.mode(a))\n",
    "print(np.var(a))\n",
    "print(np.std(a))"
   ]
  },
  {
   "cell_type": "code",
   "execution_count": 53,
   "id": "a74fd128-1d4e-4c7c-afde-8802ba0cdecb",
   "metadata": {},
   "outputs": [
    {
     "data": {
      "text/plain": [
       "5.0"
      ]
     },
     "execution_count": 53,
     "metadata": {},
     "output_type": "execute_result"
    }
   ],
   "source": [
    "np.median(a)"
   ]
  },
  {
   "cell_type": "code",
   "execution_count": 54,
   "id": "8c211ad8-e4df-4ca3-8e38-d5028aa1924a",
   "metadata": {},
   "outputs": [
    {
     "data": {
      "text/plain": [
       "16.875"
      ]
     },
     "execution_count": 54,
     "metadata": {},
     "output_type": "execute_result"
    }
   ],
   "source": [
    "## if we add a outlier the mean value is suddenly changes.\n",
    "\n",
    "b=[2,3,4,5,6,7,8,100]\n",
    "np.mean(b)\n",
    "\n",
    "\n",
    "## mean is vary from % to 16.\n"
   ]
  },
  {
   "cell_type": "code",
   "execution_count": 59,
   "id": "c118f498-0c9c-4505-a034-fb306a6359bc",
   "metadata": {},
   "outputs": [
    {
     "name": "stdout",
     "output_type": "stream",
     "text": [
      "2\n",
      "990.609375\n",
      "31.473947559847016\n"
     ]
    }
   ],
   "source": [
    "print(st.mode(b))\n",
    "print(np.var(b))\n",
    "print(np.std(b))"
   ]
  },
  {
   "cell_type": "code",
   "execution_count": null,
   "id": "4ef3b5fc-8f5c-41c9-b1e0-9e136a912047",
   "metadata": {},
   "outputs": [],
   "source": []
  }
 ],
 "metadata": {
  "kernelspec": {
   "display_name": "Python 3 (ipykernel)",
   "language": "python",
   "name": "python3"
  },
  "language_info": {
   "codemirror_mode": {
    "name": "ipython",
    "version": 3
   },
   "file_extension": ".py",
   "mimetype": "text/x-python",
   "name": "python",
   "nbconvert_exporter": "python",
   "pygments_lexer": "ipython3",
   "version": "3.10.8"
  }
 },
 "nbformat": 4,
 "nbformat_minor": 5
}
