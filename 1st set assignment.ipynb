{
 "cells": [
  {
   "cell_type": "markdown",
   "id": "666895b6-4b33-4d6b-a58b-00c0d5aa6c78",
   "metadata": {},
   "source": [
    "## 1"
   ]
  },
  {
   "cell_type": "code",
   "execution_count": 9,
   "id": "ad32c546-e3a3-49e1-8f39-7287ef39c417",
   "metadata": {},
   "outputs": [],
   "source": [
    "def add_numbers(a,b):\n",
    "    return a+b"
   ]
  },
  {
   "cell_type": "code",
   "execution_count": 10,
   "id": "4669ccb7-5738-4c93-8409-cb7f1940c270",
   "metadata": {},
   "outputs": [
    {
     "data": {
      "text/plain": [
       "5"
      ]
     },
     "execution_count": 10,
     "metadata": {},
     "output_type": "execute_result"
    }
   ],
   "source": [
    "add_numbers(2,3)"
   ]
  },
  {
   "cell_type": "markdown",
   "id": "9d16f3c8-35a9-4401-b2a4-ea919788f3bb",
   "metadata": {},
   "source": [
    "## 2."
   ]
  },
  {
   "cell_type": "code",
   "execution_count": 11,
   "id": "c88ae2ca-20f7-4cee-b12d-67f1308458b6",
   "metadata": {},
   "outputs": [],
   "source": [
    "import math\n",
    "def sqrt(a):\n",
    "    print(math.sqrt(a))\n",
    "    "
   ]
  },
  {
   "cell_type": "code",
   "execution_count": 12,
   "id": "f4789e3a-2408-480f-9120-3d3f61133b5e",
   "metadata": {},
   "outputs": [
    {
     "name": "stdout",
     "output_type": "stream",
     "text": [
      "25.0\n"
     ]
    }
   ],
   "source": [
    "sqrt(625)"
   ]
  },
  {
   "cell_type": "code",
   "execution_count": 13,
   "id": "8d8faf26-b8eb-45c8-b9e3-4296ab5f89c9",
   "metadata": {},
   "outputs": [
    {
     "name": "stdout",
     "output_type": "stream",
     "text": [
      "7.3824115301167\n"
     ]
    }
   ],
   "source": [
    "sqrt(54.5)"
   ]
  },
  {
   "cell_type": "markdown",
   "id": "53f5b174-a167-4602-8185-915cf7e4434c",
   "metadata": {},
   "source": [
    "## 3."
   ]
  },
  {
   "cell_type": "code",
   "execution_count": 14,
   "id": "ae933419-b844-46c8-9298-09ff48b6bd5c",
   "metadata": {},
   "outputs": [],
   "source": [
    "def prime_num(x,y):\n",
    "    prime_list=[]\n",
    "    for i in range(x,y):\n",
    "        if i == 0 or i == 1:\n",
    "            continue\n",
    "        else:\n",
    "            for j in range(2,int(i/2)+1):\n",
    "                if i%j==0:\n",
    "                    break\n",
    "            else:\n",
    "                    prime_list.append(i)\n",
    "    return prime_list\n",
    "    \n",
    "    "
   ]
  },
  {
   "cell_type": "code",
   "execution_count": 15,
   "id": "9f7533e8-20ce-4b08-adbc-cb3a22c9e601",
   "metadata": {},
   "outputs": [
    {
     "data": {
      "text/plain": [
       "[2, 3, 5, 7, 11, 13, 17, 19, 23, 29, 31, 37, 41, 43, 47]"
      ]
     },
     "execution_count": 15,
     "metadata": {},
     "output_type": "execute_result"
    }
   ],
   "source": [
    "prime_num(2,50)"
   ]
  },
  {
   "cell_type": "markdown",
   "id": "cad3fb3f-84cb-4b72-a78c-31dbda5f28ac",
   "metadata": {},
   "source": [
    "## 4."
   ]
  },
  {
   "cell_type": "code",
   "execution_count": 16,
   "id": "1e4810b0-c2cb-4c95-a156-5bab24e390b2",
   "metadata": {},
   "outputs": [],
   "source": [
    "a=5\n",
    "b=8\n",
    "c=9"
   ]
  },
  {
   "cell_type": "code",
   "execution_count": null,
   "id": "c2efc8dc-8f49-42f2-b4ef-91d2c647c5ae",
   "metadata": {},
   "outputs": [],
   "source": []
  },
  {
   "cell_type": "code",
   "execution_count": null,
   "id": "6d03b107-784d-4ad3-b123-06e037d231e7",
   "metadata": {},
   "outputs": [],
   "source": []
  },
  {
   "cell_type": "code",
   "execution_count": null,
   "id": "27b5f437-ba5f-44a9-b6c4-ca8f87ed4412",
   "metadata": {},
   "outputs": [],
   "source": []
  },
  {
   "cell_type": "markdown",
   "id": "51bdab8d-13f6-4125-a82f-de5c47fae60b",
   "metadata": {},
   "source": [
    "## 5."
   ]
  },
  {
   "cell_type": "code",
   "execution_count": 17,
   "id": "c3b640c1-6a45-4942-b610-9d9b10431141",
   "metadata": {},
   "outputs": [],
   "source": [
    "def num(a):\n",
    "    if a>0:\n",
    "        print(\"The number is positive\")\n",
    "        \n",
    "    elif a<0:\n",
    "        print (\"the number is negative\")\n",
    "        \n",
    "    elif a==0:\n",
    "        print(\"The number is zero\")\n",
    "        \n",
    "    "
   ]
  },
  {
   "cell_type": "code",
   "execution_count": 18,
   "id": "8e4dea06-c3d4-4c2d-ae6d-8aad0c845d48",
   "metadata": {},
   "outputs": [
    {
     "name": "stdout",
     "output_type": "stream",
     "text": [
      "The number is positive\n"
     ]
    }
   ],
   "source": [
    "num(50)"
   ]
  },
  {
   "cell_type": "code",
   "execution_count": 19,
   "id": "9f9dd90a-5285-46b7-a4f3-ddb0e0bc9c10",
   "metadata": {},
   "outputs": [
    {
     "name": "stdout",
     "output_type": "stream",
     "text": [
      "the number is negative\n"
     ]
    }
   ],
   "source": [
    "num(-20)"
   ]
  },
  {
   "cell_type": "code",
   "execution_count": 20,
   "id": "aa00dc1c-c97e-4547-9b2a-4c74a0ffa5d1",
   "metadata": {},
   "outputs": [
    {
     "name": "stdout",
     "output_type": "stream",
     "text": [
      "The number is zero\n"
     ]
    }
   ],
   "source": [
    "num(0)"
   ]
  },
  {
   "cell_type": "markdown",
   "id": "670b2314-33c4-41a6-8e12-aeaa7b5d4d14",
   "metadata": {},
   "source": [
    "## 6."
   ]
  },
  {
   "cell_type": "code",
   "execution_count": 21,
   "id": "36960c03-8145-41c8-b362-987c0b43e084",
   "metadata": {},
   "outputs": [],
   "source": [
    "def func(a):\n",
    "        if a % 2==0:\n",
    "            print (\"This is a even number\")\n",
    "            \n",
    "        else:\n",
    "            print (\"Ths is a odd number\")"
   ]
  },
  {
   "cell_type": "code",
   "execution_count": 22,
   "id": "9c9c274f-52d1-4c67-b666-ffad98216ce9",
   "metadata": {},
   "outputs": [
    {
     "name": "stdout",
     "output_type": "stream",
     "text": [
      "This is a even number\n"
     ]
    }
   ],
   "source": [
    "func(20)"
   ]
  },
  {
   "cell_type": "code",
   "execution_count": 23,
   "id": "b0490630-55a6-4b69-b532-3a30fb3e9375",
   "metadata": {},
   "outputs": [
    {
     "name": "stdout",
     "output_type": "stream",
     "text": [
      "Ths is a odd number\n"
     ]
    }
   ],
   "source": [
    "func(33)"
   ]
  },
  {
   "cell_type": "code",
   "execution_count": 24,
   "id": "17b04007-d566-4e63-91c6-68f96d301f7a",
   "metadata": {},
   "outputs": [
    {
     "name": "stdout",
     "output_type": "stream",
     "text": [
      "This is a even number\n"
     ]
    }
   ],
   "source": [
    "func(50)"
   ]
  },
  {
   "cell_type": "markdown",
   "id": "3dd79571-e979-45a7-9726-d5d0a21d94b2",
   "metadata": {},
   "source": [
    "## 7."
   ]
  },
  {
   "cell_type": "code",
   "execution_count": 25,
   "id": "a3f1abc0-afe0-4406-b27c-ff1c63f9cc25",
   "metadata": {},
   "outputs": [
    {
     "data": {
      "text/plain": [
       "4"
      ]
     },
     "execution_count": 25,
     "metadata": {},
     "output_type": "execute_result"
    }
   ],
   "source": [
    "2+2"
   ]
  },
  {
   "cell_type": "code",
   "execution_count": 26,
   "id": "51c21dcb-5c47-4f8c-ac42-47233f104caf",
   "metadata": {},
   "outputs": [],
   "source": [
    "def get_sum(a):\n",
    "    sum=0\n",
    "    for i in str(a):\n",
    "        sum+=int(i)\n",
    "    return sum  "
   ]
  },
  {
   "cell_type": "code",
   "execution_count": 27,
   "id": "5704211c-fd0a-4a5a-b239-cdac2b6c5409",
   "metadata": {},
   "outputs": [
    {
     "data": {
      "text/plain": [
       "25"
      ]
     },
     "execution_count": 27,
     "metadata": {},
     "output_type": "execute_result"
    }
   ],
   "source": [
    "get_sum(76543)"
   ]
  },
  {
   "cell_type": "markdown",
   "id": "bf663822-2137-455d-989a-37113847a13e",
   "metadata": {},
   "source": [
    "## 8."
   ]
  },
  {
   "cell_type": "code",
   "execution_count": 28,
   "id": "604114e3-b8d3-4f7d-8379-1f3da45b734b",
   "metadata": {},
   "outputs": [],
   "source": [
    "def reverse(n):\n",
    "    rev=0\n",
    "    while(n>0):\n",
    "        a=n %10\n",
    "        rev=rev*10+a\n",
    "        n=n//10\n",
    "    return rev"
   ]
  },
  {
   "cell_type": "code",
   "execution_count": 29,
   "id": "59bf281d-673c-426c-9076-8be3f2632cd9",
   "metadata": {},
   "outputs": [
    {
     "data": {
      "text/plain": [
       "6345"
      ]
     },
     "execution_count": 29,
     "metadata": {},
     "output_type": "execute_result"
    }
   ],
   "source": [
    "reverse(5436)"
   ]
  },
  {
   "cell_type": "code",
   "execution_count": 30,
   "id": "daa34bc1-4b9d-4aea-b9b2-7d4daac693d0",
   "metadata": {},
   "outputs": [
    {
     "data": {
      "text/plain": [
       "6"
      ]
     },
     "execution_count": 30,
     "metadata": {},
     "output_type": "execute_result"
    }
   ],
   "source": [
    "5436%10"
   ]
  },
  {
   "cell_type": "code",
   "execution_count": 31,
   "id": "08e7f84c-5f7f-471b-bd53-00063b222346",
   "metadata": {},
   "outputs": [
    {
     "data": {
      "text/plain": [
       "0"
      ]
     },
     "execution_count": 31,
     "metadata": {},
     "output_type": "execute_result"
    }
   ],
   "source": [
    "3//6"
   ]
  },
  {
   "cell_type": "markdown",
   "id": "370fc458-c287-4124-9720-b3b168d064aa",
   "metadata": {},
   "source": [
    "## 9."
   ]
  },
  {
   "cell_type": "code",
   "execution_count": 32,
   "id": "2c47262f-86ce-494f-ace8-eccdde9752bb",
   "metadata": {},
   "outputs": [],
   "source": [
    "def is_armstrong(num):\n",
    "    num_str = str(num)\n",
    "    n = len(num_str)\n",
    "    sum = 0\n",
    "    for digit in num_str:\n",
    "        sum += int(digit)**n\n",
    "    if sum == num:\n",
    "        return True\n",
    "    else:\n",
    "        return False\n"
   ]
  },
  {
   "cell_type": "code",
   "execution_count": 33,
   "id": "14050fa1-2da9-4d51-a609-bf953edeec13",
   "metadata": {},
   "outputs": [
    {
     "data": {
      "text/plain": [
       "True"
      ]
     },
     "execution_count": 33,
     "metadata": {},
     "output_type": "execute_result"
    }
   ],
   "source": [
    "is_armstrong(371)"
   ]
  },
  {
   "cell_type": "markdown",
   "id": "3837fbc3-09d9-4345-a9a4-22a52f8c706e",
   "metadata": {},
   "source": [
    "## 10."
   ]
  },
  {
   "cell_type": "code",
   "execution_count": 34,
   "id": "9f669ac7-44d2-445c-9bec-e026967fbf29",
   "metadata": {},
   "outputs": [
    {
     "data": {
      "text/plain": [
       "4"
      ]
     },
     "execution_count": 34,
     "metadata": {},
     "output_type": "execute_result"
    }
   ],
   "source": [
    "2+2"
   ]
  },
  {
   "cell_type": "code",
   "execution_count": 35,
   "id": "ed73ef8e-8924-4a6f-becd-aa883912fe3f",
   "metadata": {},
   "outputs": [],
   "source": [
    "def checkYear(year):\n",
    "    if((year % 400==0) or (year % 100!=0) and (year %4 == 0)):\n",
    "        print(\"This is a leap year\")\n",
    "    else:\n",
    "        print(\"This is not a leap year\")\n",
    " "
   ]
  },
  {
   "cell_type": "code",
   "execution_count": 36,
   "id": "149360d0-e06f-40e3-bbdf-e1615a7dd6db",
   "metadata": {},
   "outputs": [
    {
     "name": "stdout",
     "output_type": "stream",
     "text": [
      "This is a leap year\n"
     ]
    }
   ],
   "source": [
    "checkYear(2000)"
   ]
  },
  {
   "cell_type": "code",
   "execution_count": 37,
   "id": "cf305fb6-f447-4350-bb51-088b4ea78825",
   "metadata": {},
   "outputs": [
    {
     "name": "stdout",
     "output_type": "stream",
     "text": [
      "This is not a leap year\n"
     ]
    }
   ],
   "source": [
    "checkYear(2002)"
   ]
  },
  {
   "cell_type": "code",
   "execution_count": 38,
   "id": "6d214947-3db5-499e-95c6-a7db8c9d7bf7",
   "metadata": {},
   "outputs": [
    {
     "name": "stdout",
     "output_type": "stream",
     "text": [
      "This is a leap year\n"
     ]
    }
   ],
   "source": [
    "checkYear(1996)"
   ]
  },
  {
   "cell_type": "code",
   "execution_count": null,
   "id": "cd63046e-dfbe-4212-bf39-dff9c50a2f72",
   "metadata": {},
   "outputs": [],
   "source": []
  }
 ],
 "metadata": {
  "kernelspec": {
   "display_name": "Python 3 (ipykernel)",
   "language": "python",
   "name": "python3"
  },
  "language_info": {
   "codemirror_mode": {
    "name": "ipython",
    "version": 3
   },
   "file_extension": ".py",
   "mimetype": "text/x-python",
   "name": "python",
   "nbconvert_exporter": "python",
   "pygments_lexer": "ipython3",
   "version": "3.10.8"
  }
 },
 "nbformat": 4,
 "nbformat_minor": 5
}
