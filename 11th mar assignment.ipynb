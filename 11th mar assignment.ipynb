{
 "cells": [
  {
   "cell_type": "markdown",
   "id": "1d82949f-95f1-4aa0-9039-50e418633ef2",
   "metadata": {},
   "source": [
    "## 1."
   ]
  },
  {
   "cell_type": "code",
   "execution_count": null,
   "id": "d012b4ca-f337-42b7-8d7d-8c315249478a",
   "metadata": {},
   "outputs": [],
   "source": [
    "# A z-test is used to test a Null Hypothesis if the population variance is known, or if the sample size is larger than 30, for an unknown population variance.\n",
    "\n",
    "# Example 1: A teacher claims that the mean score of students in his class is greater than 82 with a standard deviation of 20.\n",
    "# If a sample of 81 students was selected with a mean score of 90 then check if there is enough evidence to support this claim at a 0.05 significance level."
   ]
  },
  {
   "cell_type": "code",
   "execution_count": null,
   "id": "4d9009e0-1d3b-47b2-9237-48dde92c3d74",
   "metadata": {},
   "outputs": [],
   "source": [
    "# A t-test is used when the sample size is less than 30 and the population variance is unknown.\n",
    "\n",
    "# An example research question for an independent sample t-test would be,\n",
    "# “Do boys and girls differ in their SAT scores?” The dependent sample t-test compares two matched scores or measurements (such as before vs. after)."
   ]
  },
  {
   "cell_type": "markdown",
   "id": "aa6da4f5-9a55-4592-98e9-66fc2eef0d1b",
   "metadata": {},
   "source": [
    "## 2."
   ]
  },
  {
   "cell_type": "code",
   "execution_count": null,
   "id": "4acef24f-3cdc-4fc3-bfd7-3729e82b7134",
   "metadata": {},
   "outputs": [],
   "source": [
    "# One-tailed tests allow for the possibility of an effect in one direction. Two-tailed tests test for the possibility of an effect in two directions—positive and negative."
   ]
  },
  {
   "cell_type": "markdown",
   "id": "1441545b-0e03-401b-993e-50b9cf318f75",
   "metadata": {},
   "source": [
    "## 3."
   ]
  },
  {
   "cell_type": "code",
   "execution_count": null,
   "id": "b54e58b5-bf77-434e-b262-2cf4233900c8",
   "metadata": {},
   "outputs": [],
   "source": [
    "# A type I error (false-positive) occurs if an investigator rejects a null hypothesis that is actually true in the population.\n",
    "\n",
    "# EX: Type I error (false positive): the test result says you have coronavirus, but you actually don't. \n",
    "\n",
    "\n",
    "# a type II error (false-negative) occurs if the investigator fails to reject a null hypothesis that is actually false in the population.\n",
    "\n",
    "# Ex:Type II error (false negative): the test result says you don't have coronavirus, but you actually do.1"
   ]
  },
  {
   "cell_type": "markdown",
   "id": "123c0156-88e8-4dca-a5d4-36f37dfb478e",
   "metadata": {},
   "source": [
    "## 4."
   ]
  },
  {
   "cell_type": "code",
   "execution_count": null,
   "id": "9157d1a1-e313-4291-b74e-dde1fe99eef0",
   "metadata": {},
   "outputs": [],
   "source": [
    "# Bayes theorem gives the probability of an “event” with the given information on “tests”. There is a difference between “events” and “tests”. "
   ]
  },
  {
   "cell_type": "code",
   "execution_count": null,
   "id": "11d9d681-f561-409b-a00a-b8bbf72400cd",
   "metadata": {},
   "outputs": [],
   "source": [
    "# For example there is a test for liver disease, which is different from actually having the liver disease, i.e. an event. Rare events might be having a higher false positive rate."
   ]
  },
  {
   "cell_type": "markdown",
   "id": "7b84f045-fd57-4948-a1a5-9e202a9656f1",
   "metadata": {},
   "source": [
    "## 5."
   ]
  },
  {
   "cell_type": "code",
   "execution_count": null,
   "id": "0e9473cd-8812-4191-a384-7dc9a6fcf715",
   "metadata": {},
   "outputs": [],
   "source": [
    "# Once the standard error is calculated, the confidence interval is determined by multiplying the standard error by a constant that reflects the level of significance desired, based on the normal distribution. The constant for 95 percent confidence intervals is 1.96."
   ]
  },
  {
   "cell_type": "code",
   "execution_count": null,
   "id": "ba6e124f-aea9-4798-bf00-5a4b74bde0b3",
   "metadata": {},
   "outputs": [],
   "source": [
    "# EX:Confidence, in statistics, is another way to describe probability. For example, if you construct a confidence interval with a 95% confidence level, you are confident that 95 out of 100 times the estimate will fall between the upper and lower values specified by the confidence interval."
   ]
  },
  {
   "cell_type": "markdown",
   "id": "5c627e4a-0951-4ab8-8661-41affbdc380d",
   "metadata": {},
   "source": [
    "## 6."
   ]
  },
  {
   "cell_type": "code",
   "execution_count": null,
   "id": "accec9cb-4ba8-4de4-abd4-4f51541be061",
   "metadata": {},
   "outputs": [],
   "source": [
    "# The prior probability of an event will be revised as new data or information becomes available, to produce a more accurate measure of a potential outcome."
   ]
  },
  {
   "cell_type": "code",
   "execution_count": null,
   "id": "715367fd-7db3-4bc3-9d40-de718c29e942",
   "metadata": {},
   "outputs": [],
   "source": [
    "# Example\n",
    "#   For example, three acres of land have the labels A, B, and C. One acre has reserves of oil below its surface, while the other two do not. \n",
    "#   The prior probability of oil being found on acre C is one third, or 0.333.But if a drilling test is conducted on acre B,\n",
    "#  and the results indicate that no oil is present at the location, then the posterior probability of oil being found on acres A and C become 0.5, \n",
    "#    as each acre has one out of two chances."
   ]
  },
  {
   "cell_type": "markdown",
   "id": "cf9a55d9-7c45-4fda-9c9f-588c3350ef7f",
   "metadata": {},
   "source": [
    "## 7."
   ]
  },
  {
   "cell_type": "code",
   "execution_count": 1,
   "id": "e258a0ba-a076-47a6-8493-901e95faada7",
   "metadata": {},
   "outputs": [],
   "source": [
    "import numpy as np\n",
    "import scipy.stats as stat"
   ]
  },
  {
   "cell_type": "code",
   "execution_count": 2,
   "id": "aa937f15-f2de-4251-9773-1b4b16365164",
   "metadata": {},
   "outputs": [
    {
     "name": "stdout",
     "output_type": "stream",
     "text": [
      "2.0\n"
     ]
    }
   ],
   "source": [
    "mean=50\n",
    "std=5\n",
    "alpha=0.95\n",
    "\n",
    "z_score=(60-50)/5\n",
    "print(z_score)"
   ]
  },
  {
   "cell_type": "markdown",
   "id": "8149c2b6-af96-45e0-963b-c5937c7b705b",
   "metadata": {},
   "source": [
    "## 8."
   ]
  },
  {
   "cell_type": "code",
   "execution_count": null,
   "id": "2dd0dca3-5b67-4e6c-8073-72f8aab335e6",
   "metadata": {},
   "outputs": [],
   "source": [
    "# Margin of error, also called confidence interval, tells you how much you can expect your survey results to reflect the views from the overall population."
   ]
  },
  {
   "cell_type": "code",
   "execution_count": null,
   "id": "6173f9cd-1bd3-4476-87d6-acba58e2d2c7",
   "metadata": {},
   "outputs": [],
   "source": [
    "# as the sample size increases, the margin of error decreases. However, you should also notice that there is a diminishing return from taking larger and larger samples."
   ]
  },
  {
   "cell_type": "code",
   "execution_count": null,
   "id": "b507c035-28d0-4366-baa4-664a27ab2e6a",
   "metadata": {},
   "outputs": [],
   "source": [
    "# For a specified confidence level, larger samples provide smaller margins of error. This statement is true.\n",
    "# Results 4, 5, and 6, all have a confidence level of 95%.\n",
    "# As the sample size goes up the widths of the intervals are becoming smaller which means that the margin of error is becoming smaller."
   ]
  },
  {
   "cell_type": "markdown",
   "id": "c22e0c33-29c7-4540-b07b-b7ecba22a293",
   "metadata": {},
   "source": [
    "## 9."
   ]
  },
  {
   "cell_type": "code",
   "execution_count": 5,
   "id": "9b1c19a6-0bfe-4907-beaa-1ca5b5188719",
   "metadata": {},
   "outputs": [
    {
     "name": "stdout",
     "output_type": "stream",
     "text": [
      "1.0\n"
     ]
    }
   ],
   "source": [
    "n=75\n",
    "mean=70\n",
    "std=5\n",
    "\n",
    "z_score=(n-mean)/std\n",
    "print(z_score)"
   ]
  },
  {
   "cell_type": "markdown",
   "id": "016ab20f-8c1b-426d-aa08-921154e02c6e",
   "metadata": {},
   "source": [
    "## 10."
   ]
  },
  {
   "cell_type": "code",
   "execution_count": 6,
   "id": "ce8b248c-2360-4543-8fc3-5f1b855cb92f",
   "metadata": {},
   "outputs": [],
   "source": [
    "n=50\n",
    "sample_mean=6\n",
    "sample_std=2.5\n",
    "Confidence_interval=0.95\n",
    "alpha=0.05"
   ]
  },
  {
   "cell_type": "code",
   "execution_count": 4,
   "id": "a53b8837-52a6-41ec-9b8d-bd68230264f1",
   "metadata": {},
   "outputs": [
    {
     "name": "stdout",
     "output_type": "stream",
     "text": [
      "1.0\n"
     ]
    }
   ],
   "source": [
    "z_score=(8.5-6)/2.5\n",
    "print(z_score)\n",
    "\n",
    "# for \"1\" z-score the z value is 0.84."
   ]
  },
  {
   "cell_type": "code",
   "execution_count": null,
   "id": "47490b51-86c4-4d8d-9282-fb8a80ed560c",
   "metadata": {},
   "outputs": [],
   "source": [
    "# null hypothesis:sample mean=population mean\n",
    "# alternate hypothesis:sample mean!=population mean\n",
    "\n",
    "# population mean is not available so we accept the null hypothesis."
   ]
  },
  {
   "cell_type": "markdown",
   "id": "17788935-315f-4165-9c99-27b63b35a67c",
   "metadata": {},
   "source": [
    "## 11."
   ]
  },
  {
   "cell_type": "code",
   "execution_count": 14,
   "id": "32eae997-90b2-4cd2-add5-4025c12f4141",
   "metadata": {},
   "outputs": [],
   "source": [
    "import math\n",
    "import numpy as np \n",
    "from scipy.stats import t"
   ]
  },
  {
   "cell_type": "code",
   "execution_count": 15,
   "id": "981b0390-cad8-4d76-a9ea-de1211553a52",
   "metadata": {},
   "outputs": [],
   "source": [
    "sample_proportion=0.65\n",
    "sample_size=500\n",
    "z_value=1.96 # fpr 95%\n",
    "\n"
   ]
  },
  {
   "cell_type": "code",
   "execution_count": 17,
   "id": "fc39bacf-6bcf-49f6-ace9-9666365c4f3c",
   "metadata": {},
   "outputs": [
    {
     "name": "stdout",
     "output_type": "stream",
     "text": [
      "0.02133072900770154\n"
     ]
    }
   ],
   "source": [
    "std=math.sqrt(sample_proportion*(1-sample_proportion)/sample_size)\n",
    "print(std)"
   ]
  },
  {
   "cell_type": "code",
   "execution_count": 18,
   "id": "a344943a-54a8-40b7-b77a-08405c389d9b",
   "metadata": {},
   "outputs": [
    {
     "name": "stdout",
     "output_type": "stream",
     "text": [
      "0.04180822885509502\n"
     ]
    }
   ],
   "source": [
    "margin_error=z_value*std\n",
    "print(margin_error)"
   ]
  },
  {
   "cell_type": "code",
   "execution_count": 19,
   "id": "edeef39c-2dc3-4f2c-aa94-a8939022a08c",
   "metadata": {},
   "outputs": [
    {
     "name": "stdout",
     "output_type": "stream",
     "text": [
      "lower_bounr 0.608191771144905 uper_bound 0.6918082288550951\n"
     ]
    }
   ],
   "source": [
    "lower_bound=sample_proportion-margin_error\n",
    "upper_bound=sample_proportion+margin_error\n",
    "\n",
    "print('lower_bounr',lower_bound,'uper_bound',upper_bound)"
   ]
  },
  {
   "cell_type": "code",
   "execution_count": 1,
   "id": "b9648504-5019-42b4-bba5-d637b68733a1",
   "metadata": {},
   "outputs": [],
   "source": [
    "# 60% to 69% people satisfied their job."
   ]
  },
  {
   "cell_type": "markdown",
   "id": "3ca9419b-94ba-4015-8b79-788c0c40ee61",
   "metadata": {},
   "source": [
    "## 12."
   ]
  },
  {
   "cell_type": "code",
   "execution_count": 6,
   "id": "51b8a0f1-67ef-4bb1-a5d2-177d7d4139b0",
   "metadata": {},
   "outputs": [],
   "source": [
    "sample_A_mean=85\n",
    "std=6\n",
    "\n",
    "sample_B_mean=82\n",
    "std=5\n",
    "\n",
    "level_of_confidence=0.01"
   ]
  },
  {
   "cell_type": "code",
   "execution_count": null,
   "id": "0fb77355-2acd-43f5-bc88-0e8df69cf3f5",
   "metadata": {},
   "outputs": [],
   "source": [
    "## H0(Null_Hypothesis):Smaple_mean_A=Smaple_mean_B\n",
    "## H1(Alternative_Hypothesis):Smaple_mean_A!=smaple_mean_B"
   ]
  },
  {
   "cell_type": "code",
   "execution_count": 5,
   "id": "ab9b1046-dbe7-440a-aab2-53fbe7a32175",
   "metadata": {},
   "outputs": [
    {
     "name": "stdout",
     "output_type": "stream",
     "text": [
      "3.0\n",
      "3.0\n"
     ]
    }
   ],
   "source": [
    "z_score_A=(103-85)/6\n",
    "print(z_score_A)\n",
    "z_score_B=(97-82)/5\n",
    "print(z_score_B)"
   ]
  },
  {
   "cell_type": "code",
   "execution_count": null,
   "id": "538b047c-d9a0-46c2-9760-09d6c6d81529",
   "metadata": {},
   "outputs": [],
   "source": []
  },
  {
   "cell_type": "code",
   "execution_count": null,
   "id": "0250ceec-f433-4656-9bfa-02e6b81e8f1f",
   "metadata": {},
   "outputs": [],
   "source": []
  },
  {
   "cell_type": "code",
   "execution_count": null,
   "id": "9b7379d3-5dea-434a-874d-1fbdd662c8eb",
   "metadata": {},
   "outputs": [],
   "source": []
  },
  {
   "cell_type": "code",
   "execution_count": null,
   "id": "8c239de1-7e54-4e99-ab84-e14f0273e32f",
   "metadata": {},
   "outputs": [],
   "source": []
  }
 ],
 "metadata": {
  "kernelspec": {
   "display_name": "Python 3 (ipykernel)",
   "language": "python",
   "name": "python3"
  },
  "language_info": {
   "codemirror_mode": {
    "name": "ipython",
    "version": 3
   },
   "file_extension": ".py",
   "mimetype": "text/x-python",
   "name": "python",
   "nbconvert_exporter": "python",
   "pygments_lexer": "ipython3",
   "version": "3.10.8"
  }
 },
 "nbformat": 4,
 "nbformat_minor": 5
}
