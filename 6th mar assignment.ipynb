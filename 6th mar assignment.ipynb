{
 "cells": [
  {
   "cell_type": "markdown",
   "id": "6b7c620a-9a86-46c9-abd4-c1e21425464e",
   "metadata": {},
   "source": [
    "## 1."
   ]
  },
  {
   "cell_type": "code",
   "execution_count": null,
   "id": "07c28f62-d667-4fa6-9bc6-c66e1bb7cb7e",
   "metadata": {},
   "outputs": [],
   "source": [
    "## Statistics is a branch of mathematics that deals with the study of collecting, analyzing, interpreting, presenting, and organizing data in a particular manner."
   ]
  },
  {
   "cell_type": "code",
   "execution_count": null,
   "id": "6a91a574-37f8-4ff6-9e52-aeb45a2561a2",
   "metadata": {},
   "outputs": [],
   "source": [
    "## Statistics is defined as the process of collection of data, classifying data, representing the data for easy interpretation, and further analysis of data."
   ]
  },
  {
   "cell_type": "markdown",
   "id": "4c1abdd7-f2a2-455d-aff8-2d389a74be95",
   "metadata": {},
   "source": [
    "## 2."
   ]
  },
  {
   "cell_type": "code",
   "execution_count": null,
   "id": "e8e5077a-16f5-4e6a-93c0-a0388b444bd0",
   "metadata": {},
   "outputs": [],
   "source": [
    "## 1.Descriptive Statistics\n",
    "## 2.Inferential Statistics"
   ]
  },
  {
   "cell_type": "code",
   "execution_count": 1,
   "id": "b685f798-ca16-436e-ae31-b11eaa2de446",
   "metadata": {},
   "outputs": [],
   "source": [
    "## Descriptive statistics is used to analyzed and summerised the data.\n",
    "## Inferential statistcs is used to form a conclusion of data."
   ]
  },
  {
   "cell_type": "markdown",
   "id": "e824a44a-32d7-43fd-b538-4b8c7094217d",
   "metadata": {},
   "source": [
    "## 3."
   ]
  },
  {
   "cell_type": "code",
   "execution_count": null,
   "id": "37e298d0-a9dc-43fc-8f52-891d1704f725",
   "metadata": {},
   "outputs": [],
   "source": [
    "## 1.ordinal data.\n",
    "## 2.nominal data.\n",
    "## 3.Continous data.\n",
    "## 4.Discrete data."
   ]
  },
  {
   "cell_type": "markdown",
   "id": "801a682e-d2eb-4a88-8a5c-900b7b1c48db",
   "metadata": {},
   "source": [
    "## 5."
   ]
  },
  {
   "cell_type": "code",
   "execution_count": null,
   "id": "9a6d6db5-6e57-462d-9178-633b80c20039",
   "metadata": {},
   "outputs": [],
   "source": [
    "## 1. Nominal scale:It has some fixed set of Categories.\n",
    "                    ex:bloood group.\n",
    "\n",
    "## 2.Interval scale: 1.rank and order matter\n",
    "                    2.differnce can be measured.\n",
    "                    3.ratio cannot measure.\n",
    "                    4.does not have zero strategic value.\n",
    "                    ex:temperature\n",
    "                \n",
    "## 3.Ordinal scsle: 1.ranking and order matter.\n",
    "                    2.differnce cannotb be measured.\n",
    "                    \n",
    "## 4.Ratio scsle: 1.order and rank matter.\n",
    "                  2.difference and ratio are measured.\n",
    "                  3.it does have zero value.\n",
    "        \n",
    "                  ex:marks of students."
   ]
  },
  {
   "cell_type": "markdown",
   "id": "cec4d9ca-7921-49ef-a7eb-d2f5b207db84",
   "metadata": {},
   "source": [
    "## 6."
   ]
  },
  {
   "cell_type": "code",
   "execution_count": null,
   "id": "3938e8ca-62e8-4194-b821-96050a63df13",
   "metadata": {},
   "outputs": [],
   "source": [
    "## Ordinal data:\n",
    "\n",
    "# Ordinal data is analyzed by mode, median, quartiles, and percentile, whereas nominal data is analyzed by grouping variables into categories and calculating the distribution mode.\n",
    "# ordinal level data can be classified and ordered.\n",
    "\n",
    "## Nominal data:\n",
    "\n",
    "# A nominal variable might be numeric in nature but it cannot have any numerical properties.\n",
    "# Nominal data are categorical, whereas Ordinal data are both categorical and quantitative."
   ]
  },
  {
   "cell_type": "markdown",
   "id": "29b3cdfa-1aa1-4664-9063-b44aeb89df42",
   "metadata": {},
   "source": [
    "## 8."
   ]
  },
  {
   "cell_type": "code",
   "execution_count": null,
   "id": "81a9aa3e-5873-4fc8-96c8-eefd175e8b2a",
   "metadata": {},
   "outputs": [],
   "source": [
    "## Histogram.\n",
    "\n",
    "## If the groups depicted in a bar chart are actually continuous numeric ranges, we can push the bars together to generate a histogram. \n",
    "## Bar lengths in histograms typically correspond to counts of data points, and their patterns demonstrate the distribution of variables in your data."
   ]
  },
  {
   "cell_type": "markdown",
   "id": "75cedb5d-6121-48c9-b646-d381f57584a7",
   "metadata": {},
   "source": [
    "## 10."
   ]
  },
  {
   "cell_type": "code",
   "execution_count": null,
   "id": "b80980a6-6ff3-4a95-b542-eb2045fd053f",
   "metadata": {},
   "outputs": [],
   "source": [
    "## Median: “middle value” or the average of “middle two values” in a data set when the numbers are arranged in an order.\n",
    "## Mode: value that occurs with greatest frequency. Solution: Most common number/Mode is 2.\n",
    "## Variance: square of the standard deviation."
   ]
  }
 ],
 "metadata": {
  "kernelspec": {
   "display_name": "Python 3 (ipykernel)",
   "language": "python",
   "name": "python3"
  },
  "language_info": {
   "codemirror_mode": {
    "name": "ipython",
    "version": 3
   },
   "file_extension": ".py",
   "mimetype": "text/x-python",
   "name": "python",
   "nbconvert_exporter": "python",
   "pygments_lexer": "ipython3",
   "version": "3.10.8"
  }
 },
 "nbformat": 4,
 "nbformat_minor": 5
}
