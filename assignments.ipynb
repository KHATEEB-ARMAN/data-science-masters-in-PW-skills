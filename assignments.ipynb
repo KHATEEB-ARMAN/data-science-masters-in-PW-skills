{
 "cells": [
  {
   "cell_type": "markdown",
   "id": "4b1db759-3776-4af3-9acf-810655782a77",
   "metadata": {},
   "source": [
    "# assignment"
   ]
  },
  {
   "cell_type": "code",
   "execution_count": null,
   "id": "b2a5b4de-db55-42fa-bcd4-dccc85ae8d35",
   "metadata": {},
   "outputs": [],
   "source": [
    "marks=int(input(\"enter the marks\"))\n",
    "if marks>90:\n",
    "    print(\"A\")\n",
    "elif marks>80 and marks<=90:\n",
    "        print(\"B\")\n",
    "elif marks>=60 and marks<=80:\n",
    "    print(\"C\")\n",
    "elif marks<60:\n",
    "    print(\"D\")"
   ]
  },
  {
   "cell_type": "code",
   "execution_count": 22,
   "id": "4543b918-19ff-4b15-a7b3-3cf61898f17a",
   "metadata": {},
   "outputs": [
    {
     "name": "stdin",
     "output_type": "stream",
     "text": [
      "Enter the cost price of a bike 89000\n"
     ]
    },
    {
     "name": "stdout",
     "output_type": "stream",
     "text": [
      "road tax is 10%\n"
     ]
    }
   ],
   "source": [
    "cost_price=int(input(\"Enter the cost price of a bike\"))\n",
    "if cost_price>100000:\n",
    "    print(\"road tax is 15%\")\n",
    "elif cost_price>50000 and cost_price<=100000:\n",
    "        print(\"road tax is 10%\")\n",
    "elif cost_price<=50000:\n",
    "        print(\"Road tax is 5%\")"
   ]
  },
  {
   "cell_type": "code",
   "execution_count": 23,
   "id": "1059f402-57b3-4995-af90-9aed73363a78",
   "metadata": {},
   "outputs": [
    {
     "name": "stdin",
     "output_type": "stream",
     "text": [
      "Enter the city name delhi\n"
     ]
    },
    {
     "name": "stdout",
     "output_type": "stream",
     "text": [
      "monument is REd fort\n"
     ]
    }
   ],
   "source": [
    "city=input(\"Enter the city name\")\n",
    "if city==\"delhi\":\n",
    "    print(\"monument is REd fort\")\n",
    "elif city==\"Agra\":\n",
    "        print(\"monument is Taj mahal\")\n",
    "elif city==\"jaipur\":\n",
    "            print(\"monument is jal mahal\")"
   ]
  },
  {
   "cell_type": "code",
   "execution_count": null,
   "id": "2cc893e1-dcfe-4493-b038-e30637cb3029",
   "metadata": {},
   "outputs": [],
   "source": [
    "number=int(input(\"Enter the number\"))\n",
    "while number>=10:\n",
    "    print(\"the number is\",(number))\n",
    "    number=number/3"
   ]
  },
  {
   "cell_type": "code",
   "execution_count": null,
   "id": "627b6a30-705b-4a26-a366-1c4f8d6a3eda",
   "metadata": {},
   "outputs": [],
   "source": [
    "# Python while loop is used to run a block code until a certain condition is met. Here, A while loop evaluates the condition.\n",
    "# If the condition evaluates to True , the code inside the while loop is executed.\n",
    "\n",
    "number=int(input(\"enter the number\"))\n",
    "                  while number >=10:\n",
    "                  print(\"the number is\",(number))\n",
    "                   number=(number/3)"
   ]
  },
  {
   "cell_type": "code",
   "execution_count": 15,
   "id": "8eb152d1-8070-4da7-a7d5-8610eed8d000",
   "metadata": {},
   "outputs": [
    {
     "name": "stdin",
     "output_type": "stream",
     "text": [
      "Enter number of rows :  7\n"
     ]
    },
    {
     "name": "stdout",
     "output_type": "stream",
     "text": [
      "* \n",
      "* * \n",
      "* * * \n",
      "* * * * \n",
      "* * * * * \n",
      "* * * * * * \n",
      "* * * * * * * \n"
     ]
    }
   ],
   "source": [
    "num = int(input('Enter number of rows : '))\n",
    "i = 1\n",
    "while i <= num :\n",
    "    j = 1\n",
    "    while j <= i:\n",
    "        print(\"*\", end = \" \")\n",
    "        j += 1\n",
    "    print()\n",
    "    i += 1"
   ]
  },
  {
   "cell_type": "code",
   "execution_count": 20,
   "id": "0b16d744-50ec-4fdb-8631-f686ade22b1c",
   "metadata": {},
   "outputs": [
    {
     "name": "stdin",
     "output_type": "stream",
     "text": [
      "Enter number of rows :  8\n"
     ]
    },
    {
     "name": "stdout",
     "output_type": "stream",
     "text": [
      "* * * * * * * * \n",
      "* * * * * * * \n",
      "* * * * * * \n",
      "* * * * * \n",
      "* * * * \n",
      "* * * \n",
      "* * \n",
      "* \n"
     ]
    }
   ],
   "source": [
    "n = int(input('Enter number of rows : '))\n",
    "i=1\n",
    "while i <= n :\n",
    "    j = n\n",
    "    while j >= i:\n",
    "        print(\"*\", end = \" \")\n",
    "        j -= 1\n",
    "    print()\n",
    "    i += 1"
   ]
  },
  {
   "cell_type": "code",
   "execution_count": null,
   "id": "ca3cc2ca-79c2-44ea-8b78-d3afa7dac102",
   "metadata": {},
   "outputs": [],
   "source": [
    "i=10\n",
    "while i>=1:\n",
    "    print(i)\n",
    "    i-=1"
   ]
  },
  {
   "cell_type": "code",
   "execution_count": null,
   "id": "34edafaf-3471-49c3-a1f5-ba36f352b9b1",
   "metadata": {},
   "outputs": [],
   "source": []
  }
 ],
 "metadata": {
  "kernelspec": {
   "display_name": "Python 3 (ipykernel)",
   "language": "python",
   "name": "python3"
  },
  "language_info": {
   "codemirror_mode": {
    "name": "ipython",
    "version": 3
   },
   "file_extension": ".py",
   "mimetype": "text/x-python",
   "name": "python",
   "nbconvert_exporter": "python",
   "pygments_lexer": "ipython3",
   "version": "3.10.8"
  }
 },
 "nbformat": 4,
 "nbformat_minor": 5
}
